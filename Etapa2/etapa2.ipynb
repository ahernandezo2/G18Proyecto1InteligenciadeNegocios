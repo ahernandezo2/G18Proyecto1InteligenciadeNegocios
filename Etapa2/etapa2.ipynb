{
 "cells": [
  {
   "cell_type": "code",
   "execution_count": 1,
   "metadata": {},
   "outputs": [
    {
     "name": "stdout",
     "output_type": "stream",
     "text": [
      "Requirement already satisfied: pandas-profiling in c:\\users\\propietario\\anaconda\\lib\\site-packages (3.2.0)\n",
      "Requirement already satisfied: joblib~=1.1.0 in c:\\users\\propietario\\anaconda\\lib\\site-packages (from pandas-profiling) (1.1.1)\n",
      "Requirement already satisfied: scipy>=1.4.1 in c:\\users\\propietario\\anaconda\\lib\\site-packages (from pandas-profiling) (1.10.1)\n",
      "Requirement already satisfied: pandas!=1.0.0,!=1.0.1,!=1.0.2,!=1.1.0,>=0.25.3 in c:\\users\\propietario\\anaconda\\lib\\site-packages (from pandas-profiling) (1.5.3)\n",
      "Requirement already satisfied: matplotlib>=3.2.0 in c:\\users\\propietario\\anaconda\\lib\\site-packages (from pandas-profiling) (3.7.1)\n",
      "Requirement already satisfied: pydantic>=1.8.1 in c:\\users\\propietario\\anaconda\\lib\\site-packages (from pandas-profiling) (1.10.13)\n",
      "Requirement already satisfied: PyYAML>=5.0.0 in c:\\users\\propietario\\anaconda\\lib\\site-packages (from pandas-profiling) (6.0)\n",
      "Requirement already satisfied: jinja2>=2.11.1 in c:\\users\\propietario\\anaconda\\lib\\site-packages (from pandas-profiling) (3.1.2)\n",
      "Requirement already satisfied: markupsafe~=2.1.1 in c:\\users\\propietario\\anaconda\\lib\\site-packages (from pandas-profiling) (2.1.1)\n",
      "Requirement already satisfied: visions[type_image_path]==0.7.4 in c:\\users\\propietario\\anaconda\\lib\\site-packages (from pandas-profiling) (0.7.4)\n",
      "Requirement already satisfied: numpy>=1.16.0 in c:\\users\\propietario\\anaconda\\lib\\site-packages (from pandas-profiling) (1.24.3)\n",
      "Requirement already satisfied: htmlmin>=0.1.12 in c:\\users\\propietario\\anaconda\\lib\\site-packages (from pandas-profiling) (0.1.12)\n",
      "Requirement already satisfied: missingno>=0.4.2 in c:\\users\\propietario\\anaconda\\lib\\site-packages (from pandas-profiling) (0.5.2)\n",
      "Requirement already satisfied: phik>=0.11.1 in c:\\users\\propietario\\anaconda\\lib\\site-packages (from pandas-profiling) (0.12.3)\n",
      "Requirement already satisfied: tangled-up-in-unicode==0.2.0 in c:\\users\\propietario\\anaconda\\lib\\site-packages (from pandas-profiling) (0.2.0)\n",
      "Requirement already satisfied: requests>=2.24.0 in c:\\users\\propietario\\anaconda\\lib\\site-packages (from pandas-profiling) (2.31.0)\n",
      "Requirement already satisfied: tqdm>=4.48.2 in c:\\users\\propietario\\anaconda\\lib\\site-packages (from pandas-profiling) (4.65.0)\n",
      "Requirement already satisfied: seaborn>=0.10.1 in c:\\users\\propietario\\anaconda\\lib\\site-packages (from pandas-profiling) (0.12.2)\n",
      "Requirement already satisfied: multimethod>=1.4 in c:\\users\\propietario\\anaconda\\lib\\site-packages (from pandas-profiling) (1.10)\n",
      "Requirement already satisfied: attrs>=19.3.0 in c:\\users\\propietario\\anaconda\\lib\\site-packages (from visions[type_image_path]==0.7.4->pandas-profiling) (22.1.0)\n",
      "Requirement already satisfied: networkx>=2.4 in c:\\users\\propietario\\anaconda\\lib\\site-packages (from visions[type_image_path]==0.7.4->pandas-profiling) (3.1)\n",
      "Requirement already satisfied: imagehash in c:\\users\\propietario\\anaconda\\lib\\site-packages (from visions[type_image_path]==0.7.4->pandas-profiling) (4.3.1)\n",
      "Requirement already satisfied: Pillow in c:\\users\\propietario\\anaconda\\lib\\site-packages (from visions[type_image_path]==0.7.4->pandas-profiling) (9.4.0)\n",
      "Requirement already satisfied: contourpy>=1.0.1 in c:\\users\\propietario\\anaconda\\lib\\site-packages (from matplotlib>=3.2.0->pandas-profiling) (1.0.5)\n",
      "Requirement already satisfied: cycler>=0.10 in c:\\users\\propietario\\anaconda\\lib\\site-packages (from matplotlib>=3.2.0->pandas-profiling) (0.11.0)\n",
      "Requirement already satisfied: fonttools>=4.22.0 in c:\\users\\propietario\\anaconda\\lib\\site-packages (from matplotlib>=3.2.0->pandas-profiling) (4.25.0)\n",
      "Requirement already satisfied: kiwisolver>=1.0.1 in c:\\users\\propietario\\anaconda\\lib\\site-packages (from matplotlib>=3.2.0->pandas-profiling) (1.4.4)\n",
      "Requirement already satisfied: packaging>=20.0 in c:\\users\\propietario\\anaconda\\lib\\site-packages (from matplotlib>=3.2.0->pandas-profiling) (23.0)\n",
      "Requirement already satisfied: pyparsing>=2.3.1 in c:\\users\\propietario\\anaconda\\lib\\site-packages (from matplotlib>=3.2.0->pandas-profiling) (3.0.9)\n",
      "Requirement already satisfied: python-dateutil>=2.7 in c:\\users\\propietario\\anaconda\\lib\\site-packages (from matplotlib>=3.2.0->pandas-profiling) (2.8.2)\n",
      "Requirement already satisfied: pytz>=2020.1 in c:\\users\\propietario\\anaconda\\lib\\site-packages (from pandas!=1.0.0,!=1.0.1,!=1.0.2,!=1.1.0,>=0.25.3->pandas-profiling) (2022.7)\n",
      "Requirement already satisfied: typing-extensions>=4.2.0 in c:\\users\\propietario\\anaconda\\lib\\site-packages (from pydantic>=1.8.1->pandas-profiling) (4.7.1)\n",
      "Requirement already satisfied: charset-normalizer<4,>=2 in c:\\users\\propietario\\anaconda\\lib\\site-packages (from requests>=2.24.0->pandas-profiling) (2.0.4)\n",
      "Requirement already satisfied: idna<4,>=2.5 in c:\\users\\propietario\\anaconda\\lib\\site-packages (from requests>=2.24.0->pandas-profiling) (3.4)\n",
      "Requirement already satisfied: urllib3<3,>=1.21.1 in c:\\users\\propietario\\anaconda\\lib\\site-packages (from requests>=2.24.0->pandas-profiling) (1.26.16)\n",
      "Requirement already satisfied: certifi>=2017.4.17 in c:\\users\\propietario\\anaconda\\lib\\site-packages (from requests>=2.24.0->pandas-profiling) (2023.7.22)\n",
      "Requirement already satisfied: colorama in c:\\users\\propietario\\anaconda\\lib\\site-packages (from tqdm>=4.48.2->pandas-profiling) (0.4.6)\n",
      "Requirement already satisfied: six>=1.5 in c:\\users\\propietario\\anaconda\\lib\\site-packages (from python-dateutil>=2.7->matplotlib>=3.2.0->pandas-profiling) (1.16.0)\n",
      "Requirement already satisfied: PyWavelets in c:\\users\\propietario\\anaconda\\lib\\site-packages (from imagehash->visions[type_image_path]==0.7.4->pandas-profiling) (1.4.1)\n"
     ]
    }
   ],
   "source": [
    "\n",
    "import sys\n",
    "!{sys.executable} -m pip install pandas-profiling"
   ]
  },
  {
   "cell_type": "code",
   "execution_count": 2,
   "metadata": {},
   "outputs": [
    {
     "name": "stderr",
     "output_type": "stream",
     "text": [
      "[nltk_data] Downloading package punkt to\n",
      "[nltk_data]     C:\\Users\\Propietario\\AppData\\Roaming\\nltk_data...\n",
      "[nltk_data]   Package punkt is already up-to-date!\n",
      "[nltk_data] Downloading package wordnet to\n",
      "[nltk_data]     C:\\Users\\Propietario\\AppData\\Roaming\\nltk_data...\n",
      "[nltk_data]   Package wordnet is already up-to-date!\n",
      "[nltk_data] Downloading package stopwords to\n",
      "[nltk_data]     C:\\Users\\Propietario\\AppData\\Roaming\\nltk_data...\n",
      "[nltk_data]   Package stopwords is already up-to-date!\n"
     ]
    },
    {
     "data": {
      "text/plain": [
       "True"
      ]
     },
     "execution_count": 2,
     "metadata": {},
     "output_type": "execute_result"
    }
   ],
   "source": [
    "import nltk\n",
    "from nltk.corpus import stopwords\n",
    "\n",
    "# Punkt permite separar un texto en frases.\n",
    "nltk.download('punkt')\n",
    "\n",
    "\n",
    "nltk.download('wordnet')\n",
    "\n",
    "\n",
    "\n",
    "nltk.download('stopwords')"
   ]
  },
  {
   "cell_type": "code",
   "execution_count": 3,
   "metadata": {},
   "outputs": [],
   "source": [
    "# Instalación de librerias\n",
    "import pandas as pd\n",
    "import numpy as np\n",
    "import sys\n",
    "\n",
    "from sklearn.ensemble import RandomForestClassifier\n",
    "\n",
    "\n",
    "from nltk.stem import SnowballStemmer\n",
    "from nltk.stem import WordNetLemmatizer\n",
    "\n",
    "\n",
    "import re, string, unicodedata\n",
    "#import contractions\n",
    "import inflect\n",
    "from nltk import word_tokenize, sent_tokenize\n",
    "from nltk.corpus import stopwords\n",
    "from nltk.stem import LancasterStemmer, WordNetLemmatizer\n",
    "\n",
    "from sklearn.model_selection import train_test_split,GridSearchCV\n",
    "from sklearn.feature_extraction.text import TfidfVectorizer, CountVectorizer, HashingVectorizer\n",
    "\n",
    "\n",
    "from sklearn.metrics import classification_report, confusion_matrix\n",
    "\n",
    "import matplotlib.pyplot as plt\n",
    "\n",
    "\n",
    "import pandas as pd\n",
    "# Para preparar los datos\n",
    "# Para crear el arbol de decisión\n",
    "from sklearn.tree import DecisionTreeClassifier\n",
    "# Para usar KNN como clasificador\n",
    "# Para realizar la separación del conjunto de aprendizaje en entrenamiento y test.\n",
    "from sklearn.model_selection import train_test_split\n",
    "# Para evaluar el modelo\n",
    "from sklearn.metrics import confusion_matrix, classification_report, precision_score, recall_score, f1_score, accuracy_score\n",
    "\n",
    "# Versiones anteriores a 1.2 de sklearn: from sklearn.metrics import plot_confusion_matrix\n",
    "from sklearn.metrics import ConfusionMatrixDisplay\n",
    "\n",
    "# Para búsqueda de hiperparámetros\n",
    "from sklearn.model_selection import GridSearchCV\n",
    "# Para la validación cruzada\n",
    "from sklearn.model_selection import KFold\n",
    "#Librerías para la visualización\n",
    "import matplotlib.pyplot as plt\n",
    "# Seaborn\n",
    "import sklearn as sklearn\n"
   ]
  },
  {
   "cell_type": "code",
   "execution_count": 4,
   "metadata": {},
   "outputs": [
    {
     "data": {
      "text/html": [
       "<div>\n",
       "<style scoped>\n",
       "    .dataframe tbody tr th:only-of-type {\n",
       "        vertical-align: middle;\n",
       "    }\n",
       "\n",
       "    .dataframe tbody tr th {\n",
       "        vertical-align: top;\n",
       "    }\n",
       "\n",
       "    .dataframe thead th {\n",
       "        text-align: right;\n",
       "    }\n",
       "</style>\n",
       "<table border=\"1\" class=\"dataframe\">\n",
       "  <thead>\n",
       "    <tr style=\"text-align: right;\">\n",
       "      <th></th>\n",
       "      <th>Textos_espanol</th>\n",
       "      <th>sdg</th>\n",
       "    </tr>\n",
       "  </thead>\n",
       "  <tbody>\n",
       "    <tr>\n",
       "      <th>0</th>\n",
       "      <td>Es importante destacar que, en un año de sequí...</td>\n",
       "      <td>6</td>\n",
       "    </tr>\n",
       "    <tr>\n",
       "      <th>1</th>\n",
       "      <td>Hay una gran cantidad de literatura sobre Aust...</td>\n",
       "      <td>6</td>\n",
       "    </tr>\n",
       "    <tr>\n",
       "      <th>2</th>\n",
       "      <td>Los procesos de descentralización, emprendidos...</td>\n",
       "      <td>6</td>\n",
       "    </tr>\n",
       "    <tr>\n",
       "      <th>3</th>\n",
       "      <td>Esto puede tener consecuencias sustanciales pa...</td>\n",
       "      <td>6</td>\n",
       "    </tr>\n",
       "    <tr>\n",
       "      <th>4</th>\n",
       "      <td>La función de beneficio también incorpora pará...</td>\n",
       "      <td>6</td>\n",
       "    </tr>\n",
       "    <tr>\n",
       "      <th>...</th>\n",
       "      <td>...</td>\n",
       "      <td>...</td>\n",
       "    </tr>\n",
       "    <tr>\n",
       "      <th>2995</th>\n",
       "      <td>\"Forjando una Convención para los Crímenes con...</td>\n",
       "      <td>16</td>\n",
       "    </tr>\n",
       "    <tr>\n",
       "      <th>2996</th>\n",
       "      <td>En 2016, Daragh Murray publicó su libro Obliga...</td>\n",
       "      <td>16</td>\n",
       "    </tr>\n",
       "    <tr>\n",
       "      <th>2997</th>\n",
       "      <td>En este libro, el autor argumenta que el activ...</td>\n",
       "      <td>16</td>\n",
       "    </tr>\n",
       "    <tr>\n",
       "      <th>2998</th>\n",
       "      <td>* Facultad de Derecho, Universidad de Manchest...</td>\n",
       "      <td>16</td>\n",
       "    </tr>\n",
       "    <tr>\n",
       "      <th>2999</th>\n",
       "      <td>Este caso 1 constituye el primer pronunciamien...</td>\n",
       "      <td>16</td>\n",
       "    </tr>\n",
       "  </tbody>\n",
       "</table>\n",
       "<p>3000 rows × 2 columns</p>\n",
       "</div>"
      ],
      "text/plain": [
       "                                         Textos_espanol  sdg\n",
       "0     Es importante destacar que, en un año de sequí...    6\n",
       "1     Hay una gran cantidad de literatura sobre Aust...    6\n",
       "2     Los procesos de descentralización, emprendidos...    6\n",
       "3     Esto puede tener consecuencias sustanciales pa...    6\n",
       "4     La función de beneficio también incorpora pará...    6\n",
       "...                                                 ...  ...\n",
       "2995  \"Forjando una Convención para los Crímenes con...   16\n",
       "2996  En 2016, Daragh Murray publicó su libro Obliga...   16\n",
       "2997  En este libro, el autor argumenta que el activ...   16\n",
       "2998  * Facultad de Derecho, Universidad de Manchest...   16\n",
       "2999  Este caso 1 constituye el primer pronunciamien...   16\n",
       "\n",
       "[3000 rows x 2 columns]"
      ]
     },
     "execution_count": 4,
     "metadata": {},
     "output_type": "execute_result"
    }
   ],
   "source": [
    "df = pd.read_csv('cat_6716.csv', delimiter=',')\n",
    "unlabel=pd.read_csv('SinEtiquetatest_cat_6716.csv', delimiter=',')\n",
    "\n",
    "\n",
    "\n",
    "# Asignación a una nueva variable de los datos leidos\n",
    "data_t=df\n",
    "\n",
    "data_t"
   ]
  },
  {
   "cell_type": "code",
   "execution_count": 5,
   "metadata": {},
   "outputs": [
    {
     "name": "stdout",
     "output_type": "stream",
     "text": [
      "                                         Textos_espanol  sdg  Conteo  Moda  \\\n",
      "0     Es importante destacar que, en un año de sequí...    6     621   468   \n",
      "1     Hay una gran cantidad de literatura sobre Aust...    6     881   468   \n",
      "2     Los procesos de descentralización, emprendidos...    6     579   468   \n",
      "3     Esto puede tener consecuencias sustanciales pa...    6     706   468   \n",
      "4     La función de beneficio también incorpora pará...    6     673   468   \n",
      "...                                                 ...  ...     ...   ...   \n",
      "2995  \"Forjando una Convención para los Crímenes con...   16    1056   468   \n",
      "2996  En 2016, Daragh Murray publicó su libro Obliga...   16     942   468   \n",
      "2997  En este libro, el autor argumenta que el activ...   16     749   468   \n",
      "2998  * Facultad de Derecho, Universidad de Manchest...   16     993   468   \n",
      "2999  Este caso 1 constituye el primer pronunciamien...   16     618   468   \n",
      "\n",
      "       Max  Min  \n",
      "0     1616    0  \n",
      "1     1616    0  \n",
      "2     1616    0  \n",
      "3     1616    0  \n",
      "4     1616    0  \n",
      "...    ...  ...  \n",
      "2995  1616    0  \n",
      "2996  1616    0  \n",
      "2997  1616    0  \n",
      "2998  1616    0  \n",
      "2999  1616    0  \n",
      "\n",
      "[3000 rows x 6 columns]\n"
     ]
    }
   ],
   "source": [
    "textos = data_t.copy()\n",
    "\n",
    "\n",
    "import statistics\n",
    "\n",
    "textos['Conteo'] = [len(x) for x in textos['Textos_espanol']]\n",
    "moda_longitud = statistics.mode([len(x) for x in textos['Textos_espanol']])\n",
    "textos['Moda'] = [moda_longitud] * len(textos)\n",
    "\n",
    "textos['Max'] = [max([len(x) for x in textos['Textos_espanol']])] * len(textos)\n",
    "textos['Min'] = [min([min([len(x) for x in i.split(' ')]) for i in textos['Textos_espanol']])] * len(textos)\n",
    "\n",
    "\n",
    "print(textos)"
   ]
  },
  {
   "cell_type": "code",
   "execution_count": 6,
   "metadata": {},
   "outputs": [
    {
     "name": "stdout",
     "output_type": "stream",
     "text": [
      "                                        Textos_espanol  sdg  Conteo  Moda  \\\n",
      "0    1. 1. Introducción: Las Estructuras del Derech...  NaN     764   782   \n",
      "1    Las aguas subterráneas se han debatido en el c...  NaN     936   782   \n",
      "2    La presente contribución evalúa la jurispruden...  NaN    1022   782   \n",
      "3    Sin embargo, este crédito fiscal expira en 201...  NaN     515   782   \n",
      "4    Este estudio explora las actitudes, comportami...  NaN    1155   782   \n",
      "..                                                 ...  ...     ...   ...   \n",
      "975  Este artículo explora la historia y el impacto...  NaN    1043   782   \n",
      "976  Mientras que algunos dan mayor énfasis a la ma...  NaN     512   782   \n",
      "977  Una innovación importante para garantizar el s...  NaN     482   782   \n",
      "978  El Salvador continúa luchando con niveles elev...  NaN     793   782   \n",
      "979  También puede reflejar una baja conciencia sob...  NaN     794   782   \n",
      "\n",
      "      Max  Min  \n",
      "0    1616    0  \n",
      "1    1616    0  \n",
      "2    1616    0  \n",
      "3    1616    0  \n",
      "4    1616    0  \n",
      "..    ...  ...  \n",
      "975  1616    0  \n",
      "976  1616    0  \n",
      "977  1616    0  \n",
      "978  1616    0  \n",
      "979  1616    0  \n",
      "\n",
      "[980 rows x 6 columns]\n"
     ]
    }
   ],
   "source": [
    "no_label = unlabel.copy()\n",
    "\n",
    "\n",
    "import statistics\n",
    "\n",
    "no_label['Conteo'] = [len(x) for x in no_label['Textos_espanol']]\n",
    "moda_longitud = statistics.mode([len(x) for x in no_label['Textos_espanol']])\n",
    "no_label['Moda'] = [moda_longitud] * len(no_label)\n",
    "\n",
    "no_label['Max'] = [max([len(x) for x in textos['Textos_espanol']])] * len(no_label)\n",
    "no_label['Min'] = [min([min([len(x) for x in i.split(' ')]) for i in textos['Textos_espanol']])] * len(no_label)\n",
    "\n",
    "print(no_label)\n"
   ]
  },
  {
   "cell_type": "code",
   "execution_count": 7,
   "metadata": {},
   "outputs": [
    {
     "data": {
      "text/plain": [
       "0"
      ]
     },
     "execution_count": 7,
     "metadata": {},
     "output_type": "execute_result"
    }
   ],
   "source": [
    "data_t.duplicated().sum()\n"
   ]
  },
  {
   "cell_type": "code",
   "execution_count": 8,
   "metadata": {},
   "outputs": [
    {
     "data": {
      "text/plain": [
       "0"
      ]
     },
     "execution_count": 8,
     "metadata": {},
     "output_type": "execute_result"
    }
   ],
   "source": [
    "unlabel.duplicated().sum()\n"
   ]
  },
  {
   "cell_type": "code",
   "execution_count": 9,
   "metadata": {},
   "outputs": [
    {
     "name": "stdout",
     "output_type": "stream",
     "text": [
      "<class 'pandas.core.frame.DataFrame'>\n",
      "RangeIndex: 980 entries, 0 to 979\n",
      "Data columns (total 2 columns):\n",
      " #   Column          Non-Null Count  Dtype  \n",
      "---  ------          --------------  -----  \n",
      " 0   Textos_espanol  980 non-null    object \n",
      " 1   sdg             0 non-null      float64\n",
      "dtypes: float64(1), object(1)\n",
      "memory usage: 15.4+ KB\n"
     ]
    }
   ],
   "source": [
    "unlabel.info()"
   ]
  },
  {
   "cell_type": "markdown",
   "metadata": {},
   "source": [
    "\n",
    "## Preparación de datos"
   ]
  },
  {
   "cell_type": "code",
   "execution_count": 10,
   "metadata": {},
   "outputs": [],
   "source": [
    "def remove_non_ascii(words):\n",
    "    \"\"\"Remove non-ASCII characters from list of tokenized words\"\"\"\n",
    "    new_words = []\n",
    "    for word in words:\n",
    "        new_word = unicodedata.normalize('NFKD', word).encode('ascii', 'ignore').decode('utf-8', 'ignore')\n",
    "        new_words.append(new_word)\n",
    "    return new_words"
   ]
  },
  {
   "cell_type": "code",
   "execution_count": 11,
   "metadata": {},
   "outputs": [],
   "source": [
    "def to_lowercase(words):\n",
    "    new_words = []\n",
    "    for word in words:\n",
    "        new_word = word.lower()  # Convierte la palabra a minúsculas\n",
    "        new_words.append(new_word)\n",
    "    return new_words"
   ]
  },
  {
   "cell_type": "code",
   "execution_count": 12,
   "metadata": {},
   "outputs": [],
   "source": [
    "def remove_punctuation(words):\n",
    "    \"\"\"Remove punctuation from list of tokenized words\"\"\"\n",
    "    new_words = []\n",
    "    for word in words:\n",
    "        new_word = re.sub(r'[^\\w\\s]', '', word)\n",
    "        if new_word != '':\n",
    "            new_words.append(new_word)\n",
    "    return new_words"
   ]
  },
  {
   "cell_type": "code",
   "execution_count": 13,
   "metadata": {},
   "outputs": [],
   "source": [
    "def replace_numbers(words):\n",
    "    p = inflect.engine()\n",
    "    new_words = []\n",
    "    for word in words:\n",
    "        if word.isdigit():\n",
    "            new_word = p.number_to_words(word)\n",
    "            new_words.append(new_word)\n",
    "        else:\n",
    "            new_words.append(word)\n",
    "    return new_words"
   ]
  },
  {
   "cell_type": "code",
   "execution_count": 14,
   "metadata": {},
   "outputs": [],
   "source": [
    "def remove_stopwords(words):\n",
    "\n",
    "    stop_words = set(stopwords.words('spanish'))  # Utilizamos 'spanish' para obtener la lista de palabras vacías en español\n",
    "    new_words = [word for word in words if word.lower() not in stop_words]\n",
    "    return new_words"
   ]
  },
  {
   "cell_type": "code",
   "execution_count": 15,
   "metadata": {},
   "outputs": [],
   "source": [
    "def preprocessing(words):\n",
    "    words = to_lowercase(words)\n",
    "    words = replace_numbers(words)\n",
    "    words = remove_punctuation(words)\n",
    "    words = remove_non_ascii(words)\n",
    "    words = remove_stopwords(words)\n",
    "    return words"
   ]
  },
  {
   "cell_type": "code",
   "execution_count": 16,
   "metadata": {},
   "outputs": [
    {
     "data": {
      "text/html": [
       "<div>\n",
       "<style scoped>\n",
       "    .dataframe tbody tr th:only-of-type {\n",
       "        vertical-align: middle;\n",
       "    }\n",
       "\n",
       "    .dataframe tbody tr th {\n",
       "        vertical-align: top;\n",
       "    }\n",
       "\n",
       "    .dataframe thead th {\n",
       "        text-align: right;\n",
       "    }\n",
       "</style>\n",
       "<table border=\"1\" class=\"dataframe\">\n",
       "  <thead>\n",
       "    <tr style=\"text-align: right;\">\n",
       "      <th></th>\n",
       "      <th>Textos_espanol</th>\n",
       "      <th>sdg</th>\n",
       "      <th>palabras</th>\n",
       "    </tr>\n",
       "  </thead>\n",
       "  <tbody>\n",
       "    <tr>\n",
       "      <th>0</th>\n",
       "      <td>Es importante destacar que, en un año de sequí...</td>\n",
       "      <td>6</td>\n",
       "      <td>[importante, destacar, ano, sequia, espera, di...</td>\n",
       "    </tr>\n",
       "    <tr>\n",
       "      <th>1</th>\n",
       "      <td>Hay una gran cantidad de literatura sobre Aust...</td>\n",
       "      <td>6</td>\n",
       "      <td>[gran, cantidad, literatura, australia, area, ...</td>\n",
       "    </tr>\n",
       "    <tr>\n",
       "      <th>2</th>\n",
       "      <td>Los procesos de descentralización, emprendidos...</td>\n",
       "      <td>6</td>\n",
       "      <td>[procesos, descentralizacion, emprendidos, ser...</td>\n",
       "    </tr>\n",
       "    <tr>\n",
       "      <th>3</th>\n",
       "      <td>Esto puede tener consecuencias sustanciales pa...</td>\n",
       "      <td>6</td>\n",
       "      <td>[puede, tener, consecuencias, sustanciales, ca...</td>\n",
       "    </tr>\n",
       "    <tr>\n",
       "      <th>4</th>\n",
       "      <td>La función de beneficio también incorpora pará...</td>\n",
       "      <td>6</td>\n",
       "      <td>[funcion, beneficio, tambien, incorpora, param...</td>\n",
       "    </tr>\n",
       "  </tbody>\n",
       "</table>\n",
       "</div>"
      ],
      "text/plain": [
       "                                      Textos_espanol  sdg  \\\n",
       "0  Es importante destacar que, en un año de sequí...    6   \n",
       "1  Hay una gran cantidad de literatura sobre Aust...    6   \n",
       "2  Los procesos de descentralización, emprendidos...    6   \n",
       "3  Esto puede tener consecuencias sustanciales pa...    6   \n",
       "4  La función de beneficio también incorpora pará...    6   \n",
       "\n",
       "                                            palabras  \n",
       "0  [importante, destacar, ano, sequia, espera, di...  \n",
       "1  [gran, cantidad, literatura, australia, area, ...  \n",
       "2  [procesos, descentralizacion, emprendidos, ser...  \n",
       "3  [puede, tener, consecuencias, sustanciales, ca...  \n",
       "4  [funcion, beneficio, tambien, incorpora, param...  "
      ]
     },
     "execution_count": 16,
     "metadata": {},
     "output_type": "execute_result"
    }
   ],
   "source": [
    "data_t['palabras'] = data_t['Textos_espanol'].apply(word_tokenize).apply(preprocessing) #Aplica la eliminación del ruido\n",
    "data_t.head()"
   ]
  },
  {
   "cell_type": "code",
   "execution_count": 17,
   "metadata": {},
   "outputs": [
    {
     "data": {
      "text/html": [
       "<div>\n",
       "<style scoped>\n",
       "    .dataframe tbody tr th:only-of-type {\n",
       "        vertical-align: middle;\n",
       "    }\n",
       "\n",
       "    .dataframe tbody tr th {\n",
       "        vertical-align: top;\n",
       "    }\n",
       "\n",
       "    .dataframe thead th {\n",
       "        text-align: right;\n",
       "    }\n",
       "</style>\n",
       "<table border=\"1\" class=\"dataframe\">\n",
       "  <thead>\n",
       "    <tr style=\"text-align: right;\">\n",
       "      <th></th>\n",
       "      <th>Textos_espanol</th>\n",
       "      <th>sdg</th>\n",
       "      <th>palabras</th>\n",
       "    </tr>\n",
       "  </thead>\n",
       "  <tbody>\n",
       "    <tr>\n",
       "      <th>0</th>\n",
       "      <td>1. 1. Introducción: Las Estructuras del Derech...</td>\n",
       "      <td>NaN</td>\n",
       "      <td>[one, one, introduccion, estructuras, derecho,...</td>\n",
       "    </tr>\n",
       "    <tr>\n",
       "      <th>1</th>\n",
       "      <td>Las aguas subterráneas se han debatido en el c...</td>\n",
       "      <td>NaN</td>\n",
       "      <td>[aguas, subterraneas, debatido, contexto, tari...</td>\n",
       "    </tr>\n",
       "    <tr>\n",
       "      <th>2</th>\n",
       "      <td>La presente contribución evalúa la jurispruden...</td>\n",
       "      <td>NaN</td>\n",
       "      <td>[presente, contribucion, evalua, jurisprudenci...</td>\n",
       "    </tr>\n",
       "    <tr>\n",
       "      <th>3</th>\n",
       "      <td>Sin embargo, este crédito fiscal expira en 201...</td>\n",
       "      <td>NaN</td>\n",
       "      <td>[embargo, credito, fiscal, expira, two thousan...</td>\n",
       "    </tr>\n",
       "    <tr>\n",
       "      <th>4</th>\n",
       "      <td>Este estudio explora las actitudes, comportami...</td>\n",
       "      <td>NaN</td>\n",
       "      <td>[estudio, explora, actitudes, comportamientos,...</td>\n",
       "    </tr>\n",
       "  </tbody>\n",
       "</table>\n",
       "</div>"
      ],
      "text/plain": [
       "                                      Textos_espanol  sdg  \\\n",
       "0  1. 1. Introducción: Las Estructuras del Derech...  NaN   \n",
       "1  Las aguas subterráneas se han debatido en el c...  NaN   \n",
       "2  La presente contribución evalúa la jurispruden...  NaN   \n",
       "3  Sin embargo, este crédito fiscal expira en 201...  NaN   \n",
       "4  Este estudio explora las actitudes, comportami...  NaN   \n",
       "\n",
       "                                            palabras  \n",
       "0  [one, one, introduccion, estructuras, derecho,...  \n",
       "1  [aguas, subterraneas, debatido, contexto, tari...  \n",
       "2  [presente, contribucion, evalua, jurisprudenci...  \n",
       "3  [embargo, credito, fiscal, expira, two thousan...  \n",
       "4  [estudio, explora, actitudes, comportamientos,...  "
      ]
     },
     "execution_count": 17,
     "metadata": {},
     "output_type": "execute_result"
    }
   ],
   "source": [
    "unlabel['palabras'] = unlabel['Textos_espanol'].apply(word_tokenize).apply(preprocessing) #Aplica la eliminación del ruido\n",
    "unlabel.head()"
   ]
  },
  {
   "cell_type": "code",
   "execution_count": 18,
   "metadata": {},
   "outputs": [],
   "source": [
    "stemmer = SnowballStemmer(\"spanish\")\n",
    "lemmatizer = WordNetLemmatizer()\n",
    "\n",
    "# Función para realizar stemming y lematización en español\n",
    "def stem_and_lemmatize(words):\n",
    "    stems = [stemmer.stem(word) for word in words]\n",
    "    lemmas = [lemmatizer.lemmatize(word, pos='v') for word in words]\n",
    "    return stems + lemmas\n",
    "\n"
   ]
  },
  {
   "cell_type": "code",
   "execution_count": 19,
   "metadata": {},
   "outputs": [
    {
     "data": {
      "text/plain": [
       "9000"
      ]
     },
     "execution_count": 19,
     "metadata": {},
     "output_type": "execute_result"
    }
   ],
   "source": [
    "data_t['palabras'] = data_t['palabras'].apply(stem_and_lemmatize)\n",
    "data_t.head()\n",
    "data_t.size"
   ]
  },
  {
   "cell_type": "code",
   "execution_count": 20,
   "metadata": {},
   "outputs": [
    {
     "data": {
      "text/html": [
       "<div>\n",
       "<style scoped>\n",
       "    .dataframe tbody tr th:only-of-type {\n",
       "        vertical-align: middle;\n",
       "    }\n",
       "\n",
       "    .dataframe tbody tr th {\n",
       "        vertical-align: top;\n",
       "    }\n",
       "\n",
       "    .dataframe thead th {\n",
       "        text-align: right;\n",
       "    }\n",
       "</style>\n",
       "<table border=\"1\" class=\"dataframe\">\n",
       "  <thead>\n",
       "    <tr style=\"text-align: right;\">\n",
       "      <th></th>\n",
       "      <th>Textos_espanol</th>\n",
       "      <th>sdg</th>\n",
       "      <th>palabras</th>\n",
       "    </tr>\n",
       "  </thead>\n",
       "  <tbody>\n",
       "    <tr>\n",
       "      <th>0</th>\n",
       "      <td>1. 1. Introducción: Las Estructuras del Derech...</td>\n",
       "      <td>NaN</td>\n",
       "      <td>[one, one, introduccion, estructur, derech, pe...</td>\n",
       "    </tr>\n",
       "    <tr>\n",
       "      <th>1</th>\n",
       "      <td>Las aguas subterráneas se han debatido en el c...</td>\n",
       "      <td>NaN</td>\n",
       "      <td>[agu, subterran, debat, context, tarif, financ...</td>\n",
       "    </tr>\n",
       "    <tr>\n",
       "      <th>2</th>\n",
       "      <td>La presente contribución evalúa la jurispruden...</td>\n",
       "      <td>NaN</td>\n",
       "      <td>[present, contribucion, evalu, jurisprudent, t...</td>\n",
       "    </tr>\n",
       "    <tr>\n",
       "      <th>3</th>\n",
       "      <td>Sin embargo, este crédito fiscal expira en 201...</td>\n",
       "      <td>NaN</td>\n",
       "      <td>[embarg, credit, fiscal, expir, two thousand a...</td>\n",
       "    </tr>\n",
       "    <tr>\n",
       "      <th>4</th>\n",
       "      <td>Este estudio explora las actitudes, comportami...</td>\n",
       "      <td>NaN</td>\n",
       "      <td>[estudi, explor, actitud, comport, percepcion,...</td>\n",
       "    </tr>\n",
       "  </tbody>\n",
       "</table>\n",
       "</div>"
      ],
      "text/plain": [
       "                                      Textos_espanol  sdg  \\\n",
       "0  1. 1. Introducción: Las Estructuras del Derech...  NaN   \n",
       "1  Las aguas subterráneas se han debatido en el c...  NaN   \n",
       "2  La presente contribución evalúa la jurispruden...  NaN   \n",
       "3  Sin embargo, este crédito fiscal expira en 201...  NaN   \n",
       "4  Este estudio explora las actitudes, comportami...  NaN   \n",
       "\n",
       "                                            palabras  \n",
       "0  [one, one, introduccion, estructur, derech, pe...  \n",
       "1  [agu, subterran, debat, context, tarif, financ...  \n",
       "2  [present, contribucion, evalu, jurisprudent, t...  \n",
       "3  [embarg, credit, fiscal, expir, two thousand a...  \n",
       "4  [estudi, explor, actitud, comport, percepcion,...  "
      ]
     },
     "execution_count": 20,
     "metadata": {},
     "output_type": "execute_result"
    }
   ],
   "source": [
    "unlabel['palabras'] = unlabel['palabras'].apply(stem_and_lemmatize)\n",
    "unlabel.head()"
   ]
  },
  {
   "cell_type": "code",
   "execution_count": 21,
   "metadata": {},
   "outputs": [
    {
     "data": {
      "text/html": [
       "<div>\n",
       "<style scoped>\n",
       "    .dataframe tbody tr th:only-of-type {\n",
       "        vertical-align: middle;\n",
       "    }\n",
       "\n",
       "    .dataframe tbody tr th {\n",
       "        vertical-align: top;\n",
       "    }\n",
       "\n",
       "    .dataframe thead th {\n",
       "        text-align: right;\n",
       "    }\n",
       "</style>\n",
       "<table border=\"1\" class=\"dataframe\">\n",
       "  <thead>\n",
       "    <tr style=\"text-align: right;\">\n",
       "      <th></th>\n",
       "      <th>Textos_espanol</th>\n",
       "      <th>sdg</th>\n",
       "      <th>palabras</th>\n",
       "    </tr>\n",
       "  </thead>\n",
       "  <tbody>\n",
       "    <tr>\n",
       "      <th>0</th>\n",
       "      <td>Es importante destacar que, en un año de sequí...</td>\n",
       "      <td>6</td>\n",
       "      <td>import destac ano sequi esper disminu aport au...</td>\n",
       "    </tr>\n",
       "    <tr>\n",
       "      <th>1</th>\n",
       "      <td>Hay una gran cantidad de literatura sobre Aust...</td>\n",
       "      <td>6</td>\n",
       "      <td>gran cantid literatur australi are sugier fuer...</td>\n",
       "    </tr>\n",
       "    <tr>\n",
       "      <th>2</th>\n",
       "      <td>Los procesos de descentralización, emprendidos...</td>\n",
       "      <td>6</td>\n",
       "      <td>proces descentraliz emprend seri activ realiz ...</td>\n",
       "    </tr>\n",
       "    <tr>\n",
       "      <th>3</th>\n",
       "      <td>Esto puede tener consecuencias sustanciales pa...</td>\n",
       "      <td>6</td>\n",
       "      <td>pued ten consecuent sustancial calid agu espec...</td>\n",
       "    </tr>\n",
       "    <tr>\n",
       "      <th>4</th>\n",
       "      <td>La función de beneficio también incorpora pará...</td>\n",
       "      <td>6</td>\n",
       "      <td>funcion benefici tambi incorpor parametr afect...</td>\n",
       "    </tr>\n",
       "    <tr>\n",
       "      <th>...</th>\n",
       "      <td>...</td>\n",
       "      <td>...</td>\n",
       "      <td>...</td>\n",
       "    </tr>\n",
       "    <tr>\n",
       "      <th>2995</th>\n",
       "      <td>\"Forjando una Convención para los Crímenes con...</td>\n",
       "      <td>16</td>\n",
       "      <td>forj convencion crimen human inclu text conven...</td>\n",
       "    </tr>\n",
       "    <tr>\n",
       "      <th>2996</th>\n",
       "      <td>En 2016, Daragh Murray publicó su libro Obliga...</td>\n",
       "      <td>16</td>\n",
       "      <td>two thousand and sixt daragh murray public lib...</td>\n",
       "    </tr>\n",
       "    <tr>\n",
       "      <th>2997</th>\n",
       "      <td>En este libro, el autor argumenta que el activ...</td>\n",
       "      <td>16</td>\n",
       "      <td>libr autor argument activ judicial dirig prote...</td>\n",
       "    </tr>\n",
       "    <tr>\n",
       "      <th>2998</th>\n",
       "      <td>* Facultad de Derecho, Universidad de Manchest...</td>\n",
       "      <td>16</td>\n",
       "      <td>facult derech univers manchest one sw v secret...</td>\n",
       "    </tr>\n",
       "    <tr>\n",
       "      <th>2999</th>\n",
       "      <td>Este caso 1 constituye el primer pronunciamien...</td>\n",
       "      <td>16</td>\n",
       "      <td>cas one constitu prim pronunci cort internacio...</td>\n",
       "    </tr>\n",
       "  </tbody>\n",
       "</table>\n",
       "<p>3000 rows × 3 columns</p>\n",
       "</div>"
      ],
      "text/plain": [
       "                                         Textos_espanol  sdg  \\\n",
       "0     Es importante destacar que, en un año de sequí...    6   \n",
       "1     Hay una gran cantidad de literatura sobre Aust...    6   \n",
       "2     Los procesos de descentralización, emprendidos...    6   \n",
       "3     Esto puede tener consecuencias sustanciales pa...    6   \n",
       "4     La función de beneficio también incorpora pará...    6   \n",
       "...                                                 ...  ...   \n",
       "2995  \"Forjando una Convención para los Crímenes con...   16   \n",
       "2996  En 2016, Daragh Murray publicó su libro Obliga...   16   \n",
       "2997  En este libro, el autor argumenta que el activ...   16   \n",
       "2998  * Facultad de Derecho, Universidad de Manchest...   16   \n",
       "2999  Este caso 1 constituye el primer pronunciamien...   16   \n",
       "\n",
       "                                               palabras  \n",
       "0     import destac ano sequi esper disminu aport au...  \n",
       "1     gran cantid literatur australi are sugier fuer...  \n",
       "2     proces descentraliz emprend seri activ realiz ...  \n",
       "3     pued ten consecuent sustancial calid agu espec...  \n",
       "4     funcion benefici tambi incorpor parametr afect...  \n",
       "...                                                 ...  \n",
       "2995  forj convencion crimen human inclu text conven...  \n",
       "2996  two thousand and sixt daragh murray public lib...  \n",
       "2997  libr autor argument activ judicial dirig prote...  \n",
       "2998  facult derech univers manchest one sw v secret...  \n",
       "2999  cas one constitu prim pronunci cort internacio...  \n",
       "\n",
       "[3000 rows x 3 columns]"
      ]
     },
     "execution_count": 21,
     "metadata": {},
     "output_type": "execute_result"
    }
   ],
   "source": [
    "data_t['palabras'] = data_t['palabras'].apply(lambda x: ' '.join(map(str, x)))\n",
    "data_t"
   ]
  },
  {
   "cell_type": "code",
   "execution_count": 22,
   "metadata": {},
   "outputs": [
    {
     "data": {
      "text/html": [
       "<div>\n",
       "<style scoped>\n",
       "    .dataframe tbody tr th:only-of-type {\n",
       "        vertical-align: middle;\n",
       "    }\n",
       "\n",
       "    .dataframe tbody tr th {\n",
       "        vertical-align: top;\n",
       "    }\n",
       "\n",
       "    .dataframe thead th {\n",
       "        text-align: right;\n",
       "    }\n",
       "</style>\n",
       "<table border=\"1\" class=\"dataframe\">\n",
       "  <thead>\n",
       "    <tr style=\"text-align: right;\">\n",
       "      <th></th>\n",
       "      <th>Textos_espanol</th>\n",
       "      <th>sdg</th>\n",
       "      <th>palabras</th>\n",
       "    </tr>\n",
       "  </thead>\n",
       "  <tbody>\n",
       "    <tr>\n",
       "      <th>0</th>\n",
       "      <td>1. 1. Introducción: Las Estructuras del Derech...</td>\n",
       "      <td>NaN</td>\n",
       "      <td>one one introduccion estructur derech penal tw...</td>\n",
       "    </tr>\n",
       "    <tr>\n",
       "      <th>1</th>\n",
       "      <td>Las aguas subterráneas se han debatido en el c...</td>\n",
       "      <td>NaN</td>\n",
       "      <td>agu subterran debat context tarif financi ocde...</td>\n",
       "    </tr>\n",
       "    <tr>\n",
       "      <th>2</th>\n",
       "      <td>La presente contribución evalúa la jurispruden...</td>\n",
       "      <td>NaN</td>\n",
       "      <td>present contribucion evalu jurisprudent tribun...</td>\n",
       "    </tr>\n",
       "    <tr>\n",
       "      <th>3</th>\n",
       "      <td>Sin embargo, este crédito fiscal expira en 201...</td>\n",
       "      <td>NaN</td>\n",
       "      <td>embarg credit fiscal expir two thousand and tw...</td>\n",
       "    </tr>\n",
       "    <tr>\n",
       "      <th>4</th>\n",
       "      <td>Este estudio explora las actitudes, comportami...</td>\n",
       "      <td>NaN</td>\n",
       "      <td>estudi explor actitud comport percepcion etic ...</td>\n",
       "    </tr>\n",
       "    <tr>\n",
       "      <th>...</th>\n",
       "      <td>...</td>\n",
       "      <td>...</td>\n",
       "      <td>...</td>\n",
       "    </tr>\n",
       "    <tr>\n",
       "      <th>975</th>\n",
       "      <td>Este artículo explora la historia y el impacto...</td>\n",
       "      <td>NaN</td>\n",
       "      <td>articul explor histori impact accion afirm ser...</td>\n",
       "    </tr>\n",
       "    <tr>\n",
       "      <th>976</th>\n",
       "      <td>Mientras que algunos dan mayor énfasis a la ma...</td>\n",
       "      <td>NaN</td>\n",
       "      <td>mientr dan mayor enfasis manipul preci financi...</td>\n",
       "    </tr>\n",
       "    <tr>\n",
       "      <th>977</th>\n",
       "      <td>Una innovación importante para garantizar el s...</td>\n",
       "      <td>NaN</td>\n",
       "      <td>innov import garantiz soport efect tgc tecnolo...</td>\n",
       "    </tr>\n",
       "    <tr>\n",
       "      <th>978</th>\n",
       "      <td>El Salvador continúa luchando con niveles elev...</td>\n",
       "      <td>NaN</td>\n",
       "      <td>salvador continu luch nivel elev violenci crim...</td>\n",
       "    </tr>\n",
       "    <tr>\n",
       "      <th>979</th>\n",
       "      <td>También puede reflejar una baja conciencia sob...</td>\n",
       "      <td>NaN</td>\n",
       "      <td>tambi pued reflej baj concienci papel jueg rec...</td>\n",
       "    </tr>\n",
       "  </tbody>\n",
       "</table>\n",
       "<p>980 rows × 3 columns</p>\n",
       "</div>"
      ],
      "text/plain": [
       "                                        Textos_espanol  sdg  \\\n",
       "0    1. 1. Introducción: Las Estructuras del Derech...  NaN   \n",
       "1    Las aguas subterráneas se han debatido en el c...  NaN   \n",
       "2    La presente contribución evalúa la jurispruden...  NaN   \n",
       "3    Sin embargo, este crédito fiscal expira en 201...  NaN   \n",
       "4    Este estudio explora las actitudes, comportami...  NaN   \n",
       "..                                                 ...  ...   \n",
       "975  Este artículo explora la historia y el impacto...  NaN   \n",
       "976  Mientras que algunos dan mayor énfasis a la ma...  NaN   \n",
       "977  Una innovación importante para garantizar el s...  NaN   \n",
       "978  El Salvador continúa luchando con niveles elev...  NaN   \n",
       "979  También puede reflejar una baja conciencia sob...  NaN   \n",
       "\n",
       "                                              palabras  \n",
       "0    one one introduccion estructur derech penal tw...  \n",
       "1    agu subterran debat context tarif financi ocde...  \n",
       "2    present contribucion evalu jurisprudent tribun...  \n",
       "3    embarg credit fiscal expir two thousand and tw...  \n",
       "4    estudi explor actitud comport percepcion etic ...  \n",
       "..                                                 ...  \n",
       "975  articul explor histori impact accion afirm ser...  \n",
       "976  mientr dan mayor enfasis manipul preci financi...  \n",
       "977  innov import garantiz soport efect tgc tecnolo...  \n",
       "978  salvador continu luch nivel elev violenci crim...  \n",
       "979  tambi pued reflej baj concienci papel jueg rec...  \n",
       "\n",
       "[980 rows x 3 columns]"
      ]
     },
     "execution_count": 22,
     "metadata": {},
     "output_type": "execute_result"
    }
   ],
   "source": [
    "unlabel['palabras'] = unlabel['palabras'].apply(lambda x: ' '.join(map(str, x)))\n",
    "unlabel"
   ]
  },
  {
   "cell_type": "code",
   "execution_count": 23,
   "metadata": {},
   "outputs": [
    {
     "data": {
      "text/plain": [
       "6     1000\n",
       "7     1000\n",
       "16    1000\n",
       "Name: sdg, dtype: int64"
      ]
     },
     "execution_count": 23,
     "metadata": {},
     "output_type": "execute_result"
    }
   ],
   "source": [
    "X_data, y_data = data_t['palabras'],data_t['sdg']\n",
    "y_data\n",
    "\n",
    "\n",
    "y_data.value_counts()"
   ]
  },
  {
   "cell_type": "code",
   "execution_count": 24,
   "metadata": {},
   "outputs": [
    {
     "data": {
      "text/plain": [
       "Series([], Name: sdg, dtype: int64)"
      ]
     },
     "execution_count": 24,
     "metadata": {},
     "output_type": "execute_result"
    }
   ],
   "source": [
    "X_noetiqueta, y_noetiqueta = unlabel['palabras'],unlabel['sdg']\n",
    "\n",
    "y_noetiqueta.value_counts()"
   ]
  },
  {
   "cell_type": "code",
   "execution_count": 25,
   "metadata": {},
   "outputs": [
    {
     "data": {
      "text/plain": [
       "0"
      ]
     },
     "execution_count": 25,
     "metadata": {},
     "output_type": "execute_result"
    }
   ],
   "source": [
    "X_noetiqueta.isna().sum()"
   ]
  },
  {
   "cell_type": "code",
   "execution_count": 41,
   "metadata": {},
   "outputs": [
    {
     "name": "stdout",
     "output_type": "stream",
     "text": [
      "(3000, 28178)\n"
     ]
    },
    {
     "data": {
      "text/plain": [
       "array([0, 0, 0, ..., 0, 0, 0], dtype=int64)"
      ]
     },
     "execution_count": 41,
     "metadata": {},
     "output_type": "execute_result"
    }
   ],
   "source": [
    "vectorizer = CountVectorizer(binary=True)\n",
    "X_dummy = vectorizer.fit_transform(X_data)\n",
    "print(X_dummy.shape)\n",
    "X_dummy.toarray()[0]"
   ]
  },
  {
   "cell_type": "code",
   "execution_count": 42,
   "metadata": {},
   "outputs": [
    {
     "name": "stdout",
     "output_type": "stream",
     "text": [
      "(3000, 28178)\n"
     ]
    },
    {
     "data": {
      "text/plain": [
       "array([0, 0, 0, ..., 0, 0, 0], dtype=int64)"
      ]
     },
     "execution_count": 42,
     "metadata": {},
     "output_type": "execute_result"
    }
   ],
   "source": [
    "X2_dummy = vectorizer.transform(X_noetiqueta)\n",
    "X2_dummy.toarray()[0]"
   ]
  },
  {
   "cell_type": "markdown",
   "metadata": {},
   "source": [
    "## Modelo Random Forest"
   ]
  },
  {
   "cell_type": "code",
   "execution_count": 43,
   "metadata": {},
   "outputs": [],
   "source": [
    "rf_model = RandomForestClassifier(random_state=1)"
   ]
  },
  {
   "cell_type": "code",
   "execution_count": 44,
   "metadata": {},
   "outputs": [],
   "source": [
    "X_train, X_test, Y_train, Y_test = train_test_split(X_dummy, y_data, test_size=0.2, random_state=0)"
   ]
  },
  {
   "cell_type": "code",
   "execution_count": 45,
   "metadata": {},
   "outputs": [
    {
     "data": {
      "text/html": [
       "<style>#sk-container-id-2 {color: black;}#sk-container-id-2 pre{padding: 0;}#sk-container-id-2 div.sk-toggleable {background-color: white;}#sk-container-id-2 label.sk-toggleable__label {cursor: pointer;display: block;width: 100%;margin-bottom: 0;padding: 0.3em;box-sizing: border-box;text-align: center;}#sk-container-id-2 label.sk-toggleable__label-arrow:before {content: \"▸\";float: left;margin-right: 0.25em;color: #696969;}#sk-container-id-2 label.sk-toggleable__label-arrow:hover:before {color: black;}#sk-container-id-2 div.sk-estimator:hover label.sk-toggleable__label-arrow:before {color: black;}#sk-container-id-2 div.sk-toggleable__content {max-height: 0;max-width: 0;overflow: hidden;text-align: left;background-color: #f0f8ff;}#sk-container-id-2 div.sk-toggleable__content pre {margin: 0.2em;color: black;border-radius: 0.25em;background-color: #f0f8ff;}#sk-container-id-2 input.sk-toggleable__control:checked~div.sk-toggleable__content {max-height: 200px;max-width: 100%;overflow: auto;}#sk-container-id-2 input.sk-toggleable__control:checked~label.sk-toggleable__label-arrow:before {content: \"▾\";}#sk-container-id-2 div.sk-estimator input.sk-toggleable__control:checked~label.sk-toggleable__label {background-color: #d4ebff;}#sk-container-id-2 div.sk-label input.sk-toggleable__control:checked~label.sk-toggleable__label {background-color: #d4ebff;}#sk-container-id-2 input.sk-hidden--visually {border: 0;clip: rect(1px 1px 1px 1px);clip: rect(1px, 1px, 1px, 1px);height: 1px;margin: -1px;overflow: hidden;padding: 0;position: absolute;width: 1px;}#sk-container-id-2 div.sk-estimator {font-family: monospace;background-color: #f0f8ff;border: 1px dotted black;border-radius: 0.25em;box-sizing: border-box;margin-bottom: 0.5em;}#sk-container-id-2 div.sk-estimator:hover {background-color: #d4ebff;}#sk-container-id-2 div.sk-parallel-item::after {content: \"\";width: 100%;border-bottom: 1px solid gray;flex-grow: 1;}#sk-container-id-2 div.sk-label:hover label.sk-toggleable__label {background-color: #d4ebff;}#sk-container-id-2 div.sk-serial::before {content: \"\";position: absolute;border-left: 1px solid gray;box-sizing: border-box;top: 0;bottom: 0;left: 50%;z-index: 0;}#sk-container-id-2 div.sk-serial {display: flex;flex-direction: column;align-items: center;background-color: white;padding-right: 0.2em;padding-left: 0.2em;position: relative;}#sk-container-id-2 div.sk-item {position: relative;z-index: 1;}#sk-container-id-2 div.sk-parallel {display: flex;align-items: stretch;justify-content: center;background-color: white;position: relative;}#sk-container-id-2 div.sk-item::before, #sk-container-id-2 div.sk-parallel-item::before {content: \"\";position: absolute;border-left: 1px solid gray;box-sizing: border-box;top: 0;bottom: 0;left: 50%;z-index: -1;}#sk-container-id-2 div.sk-parallel-item {display: flex;flex-direction: column;z-index: 1;position: relative;background-color: white;}#sk-container-id-2 div.sk-parallel-item:first-child::after {align-self: flex-end;width: 50%;}#sk-container-id-2 div.sk-parallel-item:last-child::after {align-self: flex-start;width: 50%;}#sk-container-id-2 div.sk-parallel-item:only-child::after {width: 0;}#sk-container-id-2 div.sk-dashed-wrapped {border: 1px dashed gray;margin: 0 0.4em 0.5em 0.4em;box-sizing: border-box;padding-bottom: 0.4em;background-color: white;}#sk-container-id-2 div.sk-label label {font-family: monospace;font-weight: bold;display: inline-block;line-height: 1.2em;}#sk-container-id-2 div.sk-label-container {text-align: center;}#sk-container-id-2 div.sk-container {/* jupyter's `normalize.less` sets `[hidden] { display: none; }` but bootstrap.min.css set `[hidden] { display: none !important; }` so we also need the `!important` here to be able to override the default hidden behavior on the sphinx rendered scikit-learn.org. See: https://github.com/scikit-learn/scikit-learn/issues/21755 */display: inline-block !important;position: relative;}#sk-container-id-2 div.sk-text-repr-fallback {display: none;}</style><div id=\"sk-container-id-2\" class=\"sk-top-container\"><div class=\"sk-text-repr-fallback\"><pre>RandomForestClassifier(random_state=1)</pre><b>In a Jupyter environment, please rerun this cell to show the HTML representation or trust the notebook. <br />On GitHub, the HTML representation is unable to render, please try loading this page with nbviewer.org.</b></div><div class=\"sk-container\" hidden><div class=\"sk-item\"><div class=\"sk-estimator sk-toggleable\"><input class=\"sk-toggleable__control sk-hidden--visually\" id=\"sk-estimator-id-2\" type=\"checkbox\" checked><label for=\"sk-estimator-id-2\" class=\"sk-toggleable__label sk-toggleable__label-arrow\">RandomForestClassifier</label><div class=\"sk-toggleable__content\"><pre>RandomForestClassifier(random_state=1)</pre></div></div></div></div></div>"
      ],
      "text/plain": [
       "RandomForestClassifier(random_state=1)"
      ]
     },
     "execution_count": 45,
     "metadata": {},
     "output_type": "execute_result"
    }
   ],
   "source": [
    "rf_model.fit(X_train, Y_train)"
   ]
  },
  {
   "cell_type": "code",
   "execution_count": 46,
   "metadata": {},
   "outputs": [],
   "source": [
    "preds_train_rf = rf_model.predict(X_train)\n",
    "preds_test_rf = rf_model.predict(X_test)"
   ]
  },
  {
   "cell_type": "code",
   "execution_count": 47,
   "metadata": {},
   "outputs": [],
   "source": [
    "cm_train_rf = confusion_matrix(Y_train, preds_train_rf, labels=rf_model.classes_)\n",
    "cm_train_norm_rf = confusion_matrix(Y_train, preds_train_rf, labels=rf_model.classes_, normalize='all')\n",
    "cm_test_rf = confusion_matrix(Y_test, preds_test_rf, labels=rf_model.classes_)\n",
    "cm_test_norm_rf = confusion_matrix(Y_test, preds_test_rf, labels=rf_model.classes_, normalize='all')"
   ]
  },
  {
   "cell_type": "code",
   "execution_count": 48,
   "metadata": {},
   "outputs": [
    {
     "data": {
      "image/png": "[encoded data removed]",
      "text/plain": [
       "<Figure size 1300x1000 with 8 Axes>"
      ]
     },
     "metadata": {},
     "output_type": "display_data"
    }
   ],
   "source": [
    "fig, ((ax1, ax2), (ax3, ax4)) = plt.subplots(2, 2, figsize=(13, 10))\n",
    "ConfusionMatrixDisplay(confusion_matrix=cm_train_rf, display_labels=rf_model.classes_).plot(ax=ax1, values_format=',.0f')\n",
    "ConfusionMatrixDisplay(confusion_matrix=cm_train_norm_rf, display_labels=rf_model.classes_).plot(ax=ax2, values_format='.3f')\n",
    "ConfusionMatrixDisplay(confusion_matrix=cm_test_rf, display_labels=rf_model.classes_).plot(ax=ax3, values_format=',.0f')\n",
    "ConfusionMatrixDisplay(confusion_matrix=cm_test_norm_rf, display_labels=rf_model.classes_).plot(ax=ax4, values_format='.3f')\n",
    "\n",
    "ax1.set_title('Train')\n",
    "ax2.set_title('Train (normalized)')\n",
    "ax3.set_title('Test')\n",
    "ax4.set_title('Test (normalized)')\n",
    "plt.show()"
   ]
  },
  {
   "cell_type": "code",
   "execution_count": 34,
   "metadata": {},
   "outputs": [
    {
     "name": "stdout",
     "output_type": "stream",
     "text": [
      "           Train      Test\n",
      "Accuracy     1.0  0.970000\n",
      "Precision    1.0  0.970388\n",
      "Recall       1.0  0.970000\n",
      "F1           1.0  0.970056\n"
     ]
    }
   ],
   "source": [
    "metrics_df = pd.DataFrame([\n",
    "    {\n",
    "        'Train': accuracy_score(Y_train, preds_train_rf),\n",
    "        'Test': accuracy_score(Y_test, preds_test_rf)\n",
    "    },\n",
    "    {\n",
    "        'Train': precision_score(Y_train, preds_train_rf, average='weighted'),\n",
    "        'Test': precision_score(Y_test, preds_test_rf, average='weighted')\n",
    "    },\n",
    "    {\n",
    "        'Train': recall_score(Y_train, preds_train_rf, average='weighted'),\n",
    "        'Test': recall_score(Y_test, preds_test_rf, average='weighted')\n",
    "    },\n",
    "    {\n",
    "        'Train': f1_score(Y_train, preds_train_rf, average='weighted'),\n",
    "        'Test': f1_score(Y_test, preds_test_rf, average='weighted')\n",
    "    }\n",
    "], index=['Accuracy', 'Precision', 'Recall', 'F1'])\n",
    "print(metrics_df)"
   ]
  },
  {
   "cell_type": "code",
   "execution_count": 49,
   "metadata": {},
   "outputs": [],
   "source": [
    "import pandas as pd\n",
    "\n",
    "# Convertir la matriz dispersa a un DataFrame\n",
    "X_df = pd.DataFrame(X_train.toarray())"
   ]
  },
  {
   "cell_type": "code",
   "execution_count": 36,
   "metadata": {},
   "outputs": [
    {
     "name": "stdout",
     "output_type": "stream",
     "text": [
      "|--- 27224 <= 0.50\n",
      "|   |--- 12849 <= 0.50\n",
      "|   |   |--- 26848 <= 0.50\n",
      "|   |   |   |--- 26096 <= 0.50\n",
      "|   |   |   |   |--- 8116 <= 0.50\n",
      "|   |   |   |   |   |--- 10051 <= 0.50\n",
      "|   |   |   |   |   |   |--- 7223 <= 0.50\n",
      "|   |   |   |   |   |   |   |--- 25656 <= 0.50\n",
      "|   |   |   |   |   |   |   |   |--- 1476 <= 0.50\n",
      "|   |   |   |   |   |   |   |   |   |--- 7054 <= 0.50\n",
      "|   |   |   |   |   |   |   |   |   |   |--- 18854 <= 0.50\n",
      "|   |   |   |   |   |   |   |   |   |   |   |--- truncated branch of depth 68\n",
      "|   |   |   |   |   |   |   |   |   |   |--- 18854 >  0.50\n",
      "|   |   |   |   |   |   |   |   |   |   |   |--- truncated branch of depth 2\n",
      "|   |   |   |   |   |   |   |   |   |--- 7054 >  0.50\n",
      "|   |   |   |   |   |   |   |   |   |   |--- 22515 <= 0.50\n",
      "|   |   |   |   |   |   |   |   |   |   |   |--- truncated branch of depth 5\n",
      "|   |   |   |   |   |   |   |   |   |   |--- 22515 >  0.50\n",
      "|   |   |   |   |   |   |   |   |   |   |   |--- class: 1.0\n",
      "|   |   |   |   |   |   |   |   |--- 1476 >  0.50\n",
      "|   |   |   |   |   |   |   |   |   |--- 6450 <= 0.50\n",
      "|   |   |   |   |   |   |   |   |   |   |--- 4295 <= 0.50\n",
      "|   |   |   |   |   |   |   |   |   |   |   |--- truncated branch of depth 21\n",
      "|   |   |   |   |   |   |   |   |   |   |--- 4295 >  0.50\n",
      "|   |   |   |   |   |   |   |   |   |   |   |--- class: 1.0\n",
      "|   |   |   |   |   |   |   |   |   |--- 6450 >  0.50\n",
      "|   |   |   |   |   |   |   |   |   |   |--- 13564 <= 0.50\n",
      "|   |   |   |   |   |   |   |   |   |   |   |--- class: 0.0\n",
      "|   |   |   |   |   |   |   |   |   |   |--- 13564 >  0.50\n",
      "|   |   |   |   |   |   |   |   |   |   |   |--- class: 1.0\n",
      "|   |   |   |   |   |   |   |--- 25656 >  0.50\n",
      "|   |   |   |   |   |   |   |   |--- 3179 <= 0.50\n",
      "|   |   |   |   |   |   |   |   |   |--- 25994 <= 0.50\n",
      "|   |   |   |   |   |   |   |   |   |   |--- 13121 <= 0.50\n",
      "|   |   |   |   |   |   |   |   |   |   |   |--- truncated branch of depth 18\n",
      "|   |   |   |   |   |   |   |   |   |   |--- 13121 >  0.50\n",
      "|   |   |   |   |   |   |   |   |   |   |   |--- truncated branch of depth 6\n",
      "|   |   |   |   |   |   |   |   |   |--- 25994 >  0.50\n",
      "|   |   |   |   |   |   |   |   |   |   |--- class: 0.0\n",
      "|   |   |   |   |   |   |   |   |--- 3179 >  0.50\n",
      "|   |   |   |   |   |   |   |   |   |--- class: 0.0\n",
      "|   |   |   |   |   |   |--- 7223 >  0.50\n",
      "|   |   |   |   |   |   |   |--- 10853 <= 0.50\n",
      "|   |   |   |   |   |   |   |   |--- 28167 <= 0.50\n",
      "|   |   |   |   |   |   |   |   |   |--- 11662 <= 0.50\n",
      "|   |   |   |   |   |   |   |   |   |   |--- class: 0.0\n",
      "|   |   |   |   |   |   |   |   |   |--- 11662 >  0.50\n",
      "|   |   |   |   |   |   |   |   |   |   |--- class: 2.0\n",
      "|   |   |   |   |   |   |   |   |--- 28167 >  0.50\n",
      "|   |   |   |   |   |   |   |   |   |--- class: 0.0\n",
      "|   |   |   |   |   |   |   |--- 10853 >  0.50\n",
      "|   |   |   |   |   |   |   |   |--- class: 0.0\n",
      "|   |   |   |   |   |--- 10051 >  0.50\n",
      "|   |   |   |   |   |   |--- 1186 <= 0.50\n",
      "|   |   |   |   |   |   |   |--- 14483 <= 0.50\n",
      "|   |   |   |   |   |   |   |   |--- 23111 <= 0.50\n",
      "|   |   |   |   |   |   |   |   |   |--- 5523 <= 0.50\n",
      "|   |   |   |   |   |   |   |   |   |   |--- 24951 <= 0.50\n",
      "|   |   |   |   |   |   |   |   |   |   |   |--- truncated branch of depth 30\n",
      "|   |   |   |   |   |   |   |   |   |   |--- 24951 >  0.50\n",
      "|   |   |   |   |   |   |   |   |   |   |   |--- class: 2.0\n",
      "|   |   |   |   |   |   |   |   |   |--- 5523 >  0.50\n",
      "|   |   |   |   |   |   |   |   |   |   |--- class: 2.0\n",
      "|   |   |   |   |   |   |   |   |--- 23111 >  0.50\n",
      "|   |   |   |   |   |   |   |   |   |--- class: 1.0\n",
      "|   |   |   |   |   |   |   |--- 14483 >  0.50\n",
      "|   |   |   |   |   |   |   |   |--- class: 2.0\n",
      "|   |   |   |   |   |   |--- 1186 >  0.50\n",
      "|   |   |   |   |   |   |   |--- class: 2.0\n",
      "|   |   |   |   |--- 8116 >  0.50\n",
      "|   |   |   |   |   |--- class: 0.0\n",
      "|   |   |   |--- 26096 >  0.50\n",
      "|   |   |   |   |--- 13322 <= 0.50\n",
      "|   |   |   |   |   |--- 13827 <= 0.50\n",
      "|   |   |   |   |   |   |--- 6165 <= 0.50\n",
      "|   |   |   |   |   |   |   |--- 10735 <= 0.50\n",
      "|   |   |   |   |   |   |   |   |--- 17891 <= 0.50\n",
      "|   |   |   |   |   |   |   |   |   |--- 15039 <= 0.50\n",
      "|   |   |   |   |   |   |   |   |   |   |--- 5652 <= 0.50\n",
      "|   |   |   |   |   |   |   |   |   |   |   |--- truncated branch of depth 15\n",
      "|   |   |   |   |   |   |   |   |   |   |--- 5652 >  0.50\n",
      "|   |   |   |   |   |   |   |   |   |   |   |--- class: 1.0\n",
      "|   |   |   |   |   |   |   |   |   |--- 15039 >  0.50\n",
      "|   |   |   |   |   |   |   |   |   |   |--- class: 2.0\n",
      "|   |   |   |   |   |   |   |   |--- 17891 >  0.50\n",
      "|   |   |   |   |   |   |   |   |   |--- class: 0.0\n",
      "|   |   |   |   |   |   |   |--- 10735 >  0.50\n",
      "|   |   |   |   |   |   |   |   |--- class: 0.0\n",
      "|   |   |   |   |   |   |--- 6165 >  0.50\n",
      "|   |   |   |   |   |   |   |--- class: 1.0\n",
      "|   |   |   |   |   |--- 13827 >  0.50\n",
      "|   |   |   |   |   |   |--- class: 2.0\n",
      "|   |   |   |   |--- 13322 >  0.50\n",
      "|   |   |   |   |   |--- class: 1.0\n",
      "|   |   |--- 26848 >  0.50\n",
      "|   |   |   |--- class: 2.0\n",
      "|   |--- 12849 >  0.50\n",
      "|   |   |--- class: 2.0\n",
      "|--- 27224 >  0.50\n",
      "|   |--- 17325 <= 0.50\n",
      "|   |   |--- 8492 <= 0.50\n",
      "|   |   |   |--- 17526 <= 0.50\n",
      "|   |   |   |   |--- 10205 <= 0.50\n",
      "|   |   |   |   |   |--- 9857 <= 0.50\n",
      "|   |   |   |   |   |   |--- 5505 <= 0.50\n",
      "|   |   |   |   |   |   |   |--- 26537 <= 0.50\n",
      "|   |   |   |   |   |   |   |   |--- 14629 <= 0.50\n",
      "|   |   |   |   |   |   |   |   |   |--- class: 0.0\n",
      "|   |   |   |   |   |   |   |   |--- 14629 >  0.50\n",
      "|   |   |   |   |   |   |   |   |   |--- class: 1.0\n",
      "|   |   |   |   |   |   |   |--- 26537 >  0.50\n",
      "|   |   |   |   |   |   |   |   |--- class: 1.0\n",
      "|   |   |   |   |   |   |--- 5505 >  0.50\n",
      "|   |   |   |   |   |   |   |--- class: 1.0\n",
      "|   |   |   |   |   |--- 9857 >  0.50\n",
      "|   |   |   |   |   |   |--- 22270 <= 0.50\n",
      "|   |   |   |   |   |   |   |--- class: 1.0\n",
      "|   |   |   |   |   |   |--- 22270 >  0.50\n",
      "|   |   |   |   |   |   |   |--- class: 0.0\n",
      "|   |   |   |   |--- 10205 >  0.50\n",
      "|   |   |   |   |   |--- 1877 <= 0.50\n",
      "|   |   |   |   |   |   |--- 9047 <= 0.50\n",
      "|   |   |   |   |   |   |   |--- 8986 <= 0.50\n",
      "|   |   |   |   |   |   |   |   |--- class: 1.0\n",
      "|   |   |   |   |   |   |   |--- 8986 >  0.50\n",
      "|   |   |   |   |   |   |   |   |--- class: 0.0\n",
      "|   |   |   |   |   |   |--- 9047 >  0.50\n",
      "|   |   |   |   |   |   |   |--- class: 0.0\n",
      "|   |   |   |   |   |--- 1877 >  0.50\n",
      "|   |   |   |   |   |   |--- class: 0.0\n",
      "|   |   |   |--- 17526 >  0.50\n",
      "|   |   |   |   |--- class: 1.0\n",
      "|   |   |--- 8492 >  0.50\n",
      "|   |   |   |--- 9157 <= 0.50\n",
      "|   |   |   |   |--- class: 0.0\n",
      "|   |   |   |--- 9157 >  0.50\n",
      "|   |   |   |   |--- class: 1.0\n",
      "|   |--- 17325 >  0.50\n",
      "|   |   |--- class: 1.0\n",
      "\n"
     ]
    }
   ],
   "source": [
    "from sklearn.tree import export_text\n",
    "\n",
    "# Obtener un árbol específico del modelo\n",
    "tree = rf_model.estimators_[0]\n",
    "\n",
    "# Visualizar el árbol en texto\n",
    "tree_text = export_text(tree, feature_names=X_df.columns.tolist())\n",
    "print(tree_text)\n"
   ]
  },
  {
   "cell_type": "code",
   "execution_count": 50,
   "metadata": {},
   "outputs": [],
   "source": [
    "predcition=rf_model.predict(X2_dummy)\n"
   ]
  },
  {
   "cell_type": "code",
   "execution_count": 51,
   "metadata": {},
   "outputs": [
    {
     "name": "stdout",
     "output_type": "stream",
     "text": [
      "[16  6 16  7 16 16  6 16 16  7 16  7  7 16 16  6 16  6 16 16 16 16 16  6\n",
      "  7  7 16 16 16 16 16 16 16 16 16  7 16 16  7 16  7 16 16  7 16 16 16 16\n",
      " 16 16 16 16 16  6 16  7 16 16 16  6  7 16 16  7  7 16  6  7 16 16  6 16\n",
      "  7 16 16  7 16  7 16 16 16  6 16 16  7 16 16  7 16 16 16 16 16 16  7  7\n",
      " 16  6  7  7 16  7 16 16 16 16  7 16 16  7 16  7  6 16 16 16 16 16 16  7\n",
      "  7  7 16 16 16 16 16 16 16  7  7  7  7 16  7  7  7 16  6 16 16 16  7 16\n",
      " 16  7 16 16  6 16 16 16 16  7 16 16 16 16  7 16 16 16  7 16 16 16  6 16\n",
      " 16  7  7  6 16  6 16 16 16  7 16  7 16 16 16 16 16 16  7  7 16 16 16  7\n",
      " 16  6  7 16  7 16 16 16  6 16 16  7  7 16 16 16 16 16  6  6 16 16 16 16\n",
      "  7 16 16 16 16 16 16  6 16  7 16 16  7  7 16 16 16 16 16 16 16 16 16 16\n",
      "  6 16 16 16 16 16 16 16 16 16 16 16  7  7  6  7  7  7 16  7 16 16 16 16\n",
      " 16  7  7 16  6 16 16  7 16  7 16 16  7  7 16 16 16 16 16 16  7 16 16 16\n",
      " 16  7 16 16 16 16 16 16 16 16 16 16 16  7 16  6 16  6 16  6 16 16 16 16\n",
      " 16 16 16  7  7  7  6 16 16  7 16 16  7 16 16  7 16  7 16 16 16 16 16  7\n",
      " 16 16 16 16 16 16 16 16  7 16 16 16 16 16 16 16  7 16 16 16 16  7  7 16\n",
      "  7 16 16 16  7 16 16 16  7 16 16 16 16 16  7 16  7 16 16 16 16 16  6 16\n",
      " 16  7  6  7 16 16 16 16 16 16  6 16 16  6  7 16 16 16 16 16 16 16 16 16\n",
      "  7 16  7 16  7  7 16 16 16 16 16 16 16 16 16 16 16  7 16  7 16 16  7 16\n",
      " 16 16 16 16  6  6  7 16 16 16 16  7  7 16 16  7 16 16 16 16 16 16 16 16\n",
      " 16  7 16 16  7 16 16 16 16 16 16 16  7 16 16 16 16  7 16  7  7 16 16 16\n",
      "  7 16 16 16 16 16  7  7  7 16 16 16 16  6 16 16 16  6  6 16  6  7 16  6\n",
      " 16 16  7 16 16 16 16 16 16 16 16 16 16 16 16 16 16  7 16  7 16  7 16 16\n",
      " 16 16 16 16 16 16 16  7 16  6 16 16 16 16  7  7  7 16  7 16 16 16  7 16\n",
      " 16 16  7 16 16 16  7 16 16  7 16 16 16 16 16 16 16 16 16 16 16  7 16 16\n",
      " 16 16  6  7  7 16 16  7 16 16 16 16 16 16 16 16 16 16  7  7 16  7 16 16\n",
      " 16 16 16 16  7  7  7 16 16 16 16 16 16 16 16 16 16 16  7 16  6 16  7 16\n",
      "  7  7  7  7 16 16  7  6 16  7 16 16 16 16 16  7 16 16 16 16 16  7 16 16\n",
      "  7 16  7 16 16 16 16 16 16 16 16  6 16 16 16  7 16 16  7  7 16  7 16 16\n",
      " 16  7  7  6 16 16 16  7 16  7  7 16  7 16 16 16 16 16 16  7 16  7  7  7\n",
      " 16 16 16  6  6  7  7 16  6  6 16 16 16 16 16 16 16 16  7 16 16  7 16 16\n",
      " 16 16 16 16 16 16 16 16  6 16 16 16 16  7 16 16 16 16  7  7  7  6  7 16\n",
      "  7 16  6 16  7 16  6  7 16 16 16  7  6 16 16 16 16 16  7 16  6 16 16 16\n",
      " 16 16 16 16 16 16  6 16 16  6 16 16  7  7 16 16  7  6 16  7 16 16 16 16\n",
      " 16  7 16  7  7 16 16  7 16 16 16 16 16  7 16 16  7 16 16 16 16 16 16 16\n",
      " 16 16  7 16 16 16 16 16 16  6  7 16 16 16  7 16 16  7 16 16 16 16  7 16\n",
      "  7 16 16  7 16 16 16  7  7 16 16  7 16  7 16 16 16 16  7 16  7 16 16 16\n",
      " 16  7 16 16 16 16 16  7  6 16  7  6 16 16 16  7  7 16 16  7  7 16 16 16\n",
      "  7 16  7  7  7  6 16  7 16 16  7  7  7 16 16 16  7  6 16 16 16  7  7 16\n",
      " 16 16 16  7 16  7 16  7  7 16 16  7  7 16 16 16  7 16 16  7 16 16 16 16\n",
      " 16 16 16 16  7 16 16 16 16 16 16 16 16 16  6 16 16 16  7 16  7  6 16 16\n",
      "  6 16 16  7  7  7 16 16 16  6  6  7  7  7 16 16  7  7 16  6]\n"
     ]
    }
   ],
   "source": [
    "print(predcition)"
   ]
  },
  {
   "cell_type": "code",
   "execution_count": 57,
   "metadata": {},
   "outputs": [
    {
     "data": {
      "text/plain": [
       "['./modelo_random_forest.joblib']"
      ]
     },
     "execution_count": 57,
     "metadata": {},
     "output_type": "execute_result"
    }
   ],
   "source": [
    "# Exportar modelo\n",
    "import joblib\n",
    "\n",
    "\n",
    "joblib.dump(rf_model, './modelo_random_forest.joblib')\n",
    "# Exportar vectorizer\n"
   ]
  },
  {
   "cell_type": "code",
   "execution_count": 58,
   "metadata": {},
   "outputs": [
    {
     "data": {
      "text/plain": [
       "['./vectorizer.joblib']"
      ]
     },
     "execution_count": 58,
     "metadata": {},
     "output_type": "execute_result"
    }
   ],
   "source": [
    "joblib.dump(vectorizer, './vectorizer.joblib')"
   ]
  },
  {
   "cell_type": "code",
   "execution_count": 59,
   "metadata": {},
   "outputs": [],
   "source": [
    "unlabel[\"sdg\"]=predcition"
   ]
  },
  {
   "cell_type": "code",
   "execution_count": 60,
   "metadata": {},
   "outputs": [
    {
     "data": {
      "text/html": [
       "<div>\n",
       "<style scoped>\n",
       "    .dataframe tbody tr th:only-of-type {\n",
       "        vertical-align: middle;\n",
       "    }\n",
       "\n",
       "    .dataframe tbody tr th {\n",
       "        vertical-align: top;\n",
       "    }\n",
       "\n",
       "    .dataframe thead th {\n",
       "        text-align: right;\n",
       "    }\n",
       "</style>\n",
       "<table border=\"1\" class=\"dataframe\">\n",
       "  <thead>\n",
       "    <tr style=\"text-align: right;\">\n",
       "      <th></th>\n",
       "      <th>Textos_espanol</th>\n",
       "      <th>sdg</th>\n",
       "      <th>palabras</th>\n",
       "    </tr>\n",
       "  </thead>\n",
       "  <tbody>\n",
       "    <tr>\n",
       "      <th>0</th>\n",
       "      <td>1. 1. Introducción: Las Estructuras del Derech...</td>\n",
       "      <td>16</td>\n",
       "      <td>one one introduccion estructur derech penal tw...</td>\n",
       "    </tr>\n",
       "    <tr>\n",
       "      <th>1</th>\n",
       "      <td>Las aguas subterráneas se han debatido en el c...</td>\n",
       "      <td>6</td>\n",
       "      <td>agu subterran debat context tarif financi ocde...</td>\n",
       "    </tr>\n",
       "    <tr>\n",
       "      <th>2</th>\n",
       "      <td>La presente contribución evalúa la jurispruden...</td>\n",
       "      <td>16</td>\n",
       "      <td>present contribucion evalu jurisprudent tribun...</td>\n",
       "    </tr>\n",
       "    <tr>\n",
       "      <th>3</th>\n",
       "      <td>Sin embargo, este crédito fiscal expira en 201...</td>\n",
       "      <td>7</td>\n",
       "      <td>embarg credit fiscal expir two thousand and tw...</td>\n",
       "    </tr>\n",
       "    <tr>\n",
       "      <th>4</th>\n",
       "      <td>Este estudio explora las actitudes, comportami...</td>\n",
       "      <td>16</td>\n",
       "      <td>estudi explor actitud comport percepcion etic ...</td>\n",
       "    </tr>\n",
       "  </tbody>\n",
       "</table>\n",
       "</div>"
      ],
      "text/plain": [
       "                                      Textos_espanol  sdg  \\\n",
       "0  1. 1. Introducción: Las Estructuras del Derech...   16   \n",
       "1  Las aguas subterráneas se han debatido en el c...    6   \n",
       "2  La presente contribución evalúa la jurispruden...   16   \n",
       "3  Sin embargo, este crédito fiscal expira en 201...    7   \n",
       "4  Este estudio explora las actitudes, comportami...   16   \n",
       "\n",
       "                                            palabras  \n",
       "0  one one introduccion estructur derech penal tw...  \n",
       "1  agu subterran debat context tarif financi ocde...  \n",
       "2  present contribucion evalu jurisprudent tribun...  \n",
       "3  embarg credit fiscal expir two thousand and tw...  \n",
       "4  estudi explor actitud comport percepcion etic ...  "
      ]
     },
     "execution_count": 60,
     "metadata": {},
     "output_type": "execute_result"
    }
   ],
   "source": [
    "unlabel.head()"
   ]
  },
  {
   "cell_type": "code",
   "execution_count": 62,
   "metadata": {},
   "outputs": [],
   "source": [
    "unlabel.to_csv('unlabeled_data.csv', index=False)"
   ]
  }
 ],
 "metadata": {
  "kernelspec": {
   "display_name": "Python 3 (ipykernel)",
   "language": "python",
   "name": "python3"
  },
  "language_info": {
   "codemirror_mode": {
    "name": "ipython",
    "version": 3
   },
   "file_extension": ".py",
   "mimetype": "text/x-python",
   "name": "python",
   "nbconvert_exporter": "python",
   "pygments_lexer": "ipython3",
   "version": "3.11.4"
  }
 },
 "nbformat": 4,
 "nbformat_minor": 2
}
