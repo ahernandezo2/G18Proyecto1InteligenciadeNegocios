{
  "cells": [
    {
      "cell_type": "markdown",
      "metadata": {
        "id": "vedfS_4U31s0"
      },
      "source": [
        "##  Algoritmo 1\n",
        "\n",
        "*   Santiago Andres vela Aguilera | 202026767\n",
        "*   Aplicar diferentes técnicas de pre-procesamiento de textos.\n",
        "\n"
      ]
    },
    {
      "cell_type": "markdown",
      "metadata": {
        "id": "zfyo7BxV31s3"
      },
      "source": [
        "## Problema\n",
        "Para apoyar a UNFPA en este proceso se ha planteado el primer proyecto del curso, cuyo objetivo es desarrollar un modelo de clasificación, con técnicas de aprendizaje automático, que permita relacionar de manera automática un texto según los ODS"
      ]
    },
    {
      "cell_type": "markdown",
      "metadata": {
        "id": "Q3A0bODr31s4"
      },
      "source": [
        "### 1. Instalación e importación de librerías.\n"
      ]
    },
    {
      "cell_type": "markdown",
      "metadata": {
        "id": "Z0Ipo-Tc31s4"
      },
      "source": [
        "Intentamos instalar  pandas-profiling para entender un poco mas la informacion sobre las entrevistas que nos mandan, si embargo tuvimos resultados poco esperados debido a que la libreria no estaba disponible, y no pudimos encontrar una solucion a instalar dicha libreria"
      ]
    },
    {
      "cell_type": "code",
      "execution_count": null,
      "metadata": {
        "colab": {
          "base_uri": "https://localhost:8080/"
        },
        "id": "D7at9uZI31s5",
        "outputId": "4c5f551c-fe04-49f8-9336-4e01fc118202"
      },
      "outputs": [
        {
          "name": "stdout",
          "output_type": "stream",
          "text": [
            "Requirement already satisfied: pandas-profiling in c:\\users\\propietario\\anaconda\\lib\\site-packages (3.2.0)\n",
            "Requirement already satisfied: joblib~=1.1.0 in c:\\users\\propietario\\anaconda\\lib\\site-packages (from pandas-profiling) (1.1.1)\n",
            "Requirement already satisfied: scipy>=1.4.1 in c:\\users\\propietario\\anaconda\\lib\\site-packages (from pandas-profiling) (1.10.1)\n",
            "Requirement already satisfied: pandas!=1.0.0,!=1.0.1,!=1.0.2,!=1.1.0,>=0.25.3 in c:\\users\\propietario\\anaconda\\lib\\site-packages (from pandas-profiling) (1.5.3)\n",
            "Requirement already satisfied: matplotlib>=3.2.0 in c:\\users\\propietario\\anaconda\\lib\\site-packages (from pandas-profiling) (3.7.1)\n",
            "Requirement already satisfied: pydantic>=1.8.1 in c:\\users\\propietario\\anaconda\\lib\\site-packages (from pandas-profiling) (1.10.13)\n",
            "Requirement already satisfied: PyYAML>=5.0.0 in c:\\users\\propietario\\anaconda\\lib\\site-packages (from pandas-profiling) (6.0)\n",
            "Requirement already satisfied: jinja2>=2.11.1 in c:\\users\\propietario\\anaconda\\lib\\site-packages (from pandas-profiling) (3.1.2)\n",
            "Requirement already satisfied: markupsafe~=2.1.1 in c:\\users\\propietario\\anaconda\\lib\\site-packages (from pandas-profiling) (2.1.1)\n",
            "Requirement already satisfied: visions[type_image_path]==0.7.4 in c:\\users\\propietario\\anaconda\\lib\\site-packages (from pandas-profiling) (0.7.4)\n",
            "Requirement already satisfied: numpy>=1.16.0 in c:\\users\\propietario\\anaconda\\lib\\site-packages (from pandas-profiling) (1.24.3)\n",
            "Requirement already satisfied: htmlmin>=0.1.12 in c:\\users\\propietario\\anaconda\\lib\\site-packages (from pandas-profiling) (0.1.12)\n",
            "Requirement already satisfied: missingno>=0.4.2 in c:\\users\\propietario\\anaconda\\lib\\site-packages (from pandas-profiling) (0.5.2)\n",
            "Requirement already satisfied: phik>=0.11.1 in c:\\users\\propietario\\anaconda\\lib\\site-packages (from pandas-profiling) (0.12.3)\n",
            "Requirement already satisfied: tangled-up-in-unicode==0.2.0 in c:\\users\\propietario\\anaconda\\lib\\site-packages (from pandas-profiling) (0.2.0)\n",
            "Requirement already satisfied: requests>=2.24.0 in c:\\users\\propietario\\anaconda\\lib\\site-packages (from pandas-profiling) (2.31.0)\n",
            "Requirement already satisfied: tqdm>=4.48.2 in c:\\users\\propietario\\anaconda\\lib\\site-packages (from pandas-profiling) (4.65.0)\n",
            "Requirement already satisfied: seaborn>=0.10.1 in c:\\users\\propietario\\anaconda\\lib\\site-packages (from pandas-profiling) (0.12.2)\n",
            "Requirement already satisfied: multimethod>=1.4 in c:\\users\\propietario\\anaconda\\lib\\site-packages (from pandas-profiling) (1.10)\n",
            "Requirement already satisfied: attrs>=19.3.0 in c:\\users\\propietario\\anaconda\\lib\\site-packages (from visions[type_image_path]==0.7.4->pandas-profiling) (22.1.0)\n",
            "Requirement already satisfied: networkx>=2.4 in c:\\users\\propietario\\anaconda\\lib\\site-packages (from visions[type_image_path]==0.7.4->pandas-profiling) (3.1)\n",
            "Requirement already satisfied: imagehash in c:\\users\\propietario\\anaconda\\lib\\site-packages (from visions[type_image_path]==0.7.4->pandas-profiling) (4.3.1)\n",
            "Requirement already satisfied: Pillow in c:\\users\\propietario\\anaconda\\lib\\site-packages (from visions[type_image_path]==0.7.4->pandas-profiling) (9.4.0)\n",
            "Requirement already satisfied: contourpy>=1.0.1 in c:\\users\\propietario\\anaconda\\lib\\site-packages (from matplotlib>=3.2.0->pandas-profiling) (1.0.5)\n",
            "Requirement already satisfied: cycler>=0.10 in c:\\users\\propietario\\anaconda\\lib\\site-packages (from matplotlib>=3.2.0->pandas-profiling) (0.11.0)\n",
            "Requirement already satisfied: fonttools>=4.22.0 in c:\\users\\propietario\\anaconda\\lib\\site-packages (from matplotlib>=3.2.0->pandas-profiling) (4.25.0)\n",
            "Requirement already satisfied: kiwisolver>=1.0.1 in c:\\users\\propietario\\anaconda\\lib\\site-packages (from matplotlib>=3.2.0->pandas-profiling) (1.4.4)\n",
            "Requirement already satisfied: packaging>=20.0 in c:\\users\\propietario\\anaconda\\lib\\site-packages (from matplotlib>=3.2.0->pandas-profiling) (23.0)\n",
            "Requirement already satisfied: pyparsing>=2.3.1 in c:\\users\\propietario\\anaconda\\lib\\site-packages (from matplotlib>=3.2.0->pandas-profiling) (3.0.9)\n",
            "Requirement already satisfied: python-dateutil>=2.7 in c:\\users\\propietario\\anaconda\\lib\\site-packages (from matplotlib>=3.2.0->pandas-profiling) (2.8.2)\n",
            "Requirement already satisfied: pytz>=2020.1 in c:\\users\\propietario\\anaconda\\lib\\site-packages (from pandas!=1.0.0,!=1.0.1,!=1.0.2,!=1.1.0,>=0.25.3->pandas-profiling) (2022.7)\n",
            "Requirement already satisfied: typing-extensions>=4.2.0 in c:\\users\\propietario\\anaconda\\lib\\site-packages (from pydantic>=1.8.1->pandas-profiling) (4.7.1)\n",
            "Requirement already satisfied: charset-normalizer<4,>=2 in c:\\users\\propietario\\anaconda\\lib\\site-packages (from requests>=2.24.0->pandas-profiling) (2.0.4)\n",
            "Requirement already satisfied: idna<4,>=2.5 in c:\\users\\propietario\\anaconda\\lib\\site-packages (from requests>=2.24.0->pandas-profiling) (3.4)\n",
            "Requirement already satisfied: urllib3<3,>=1.21.1 in c:\\users\\propietario\\anaconda\\lib\\site-packages (from requests>=2.24.0->pandas-profiling) (1.26.16)\n",
            "Requirement already satisfied: certifi>=2017.4.17 in c:\\users\\propietario\\anaconda\\lib\\site-packages (from requests>=2.24.0->pandas-profiling) (2023.7.22)\n",
            "Requirement already satisfied: colorama in c:\\users\\propietario\\anaconda\\lib\\site-packages (from tqdm>=4.48.2->pandas-profiling) (0.4.6)\n",
            "Requirement already satisfied: six>=1.5 in c:\\users\\propietario\\anaconda\\lib\\site-packages (from python-dateutil>=2.7->matplotlib>=3.2.0->pandas-profiling) (1.16.0)\n",
            "Requirement already satisfied: PyWavelets in c:\\users\\propietario\\anaconda\\lib\\site-packages (from imagehash->visions[type_image_path]==0.7.4->pandas-profiling) (1.4.1)\n"
          ]
        }
      ],
      "source": [
        "import sys\n",
        "!{sys.executable} -m pip install pandas-profiling"
      ]
    },
    {
      "cell_type": "markdown",
      "metadata": {
        "id": "8yzaFu-Z31s8"
      },
      "source": [
        "## 1. Carga y instalacion de librerías necesarias para implementación\n",
        "\n"
      ]
    },
    {
      "cell_type": "markdown",
      "metadata": {
        "id": "XpenAZSW31s8"
      },
      "source": [
        "La inclusión de bibliotecas de procesamiento de lenguaje natural (NLP), como ***NLTK (Natural Language Toolkit)***, y la descarga de recursos esenciales, como \"punkt\" para la tokenización, \"stopwords\" para la eliminación de palabras comunes y  **\"wordnet\"** para el acceso a léxicos, proporciona una ventaja significativa en la eficiencia y efectividad del procesamiento de texto. Estas herramientas simplifican tareas críticas en NLP, como separar un texto en frases, eliminar palabras irrelevantes y acceder a recursos lingüísticos para desambiguación y enriquecimiento del texto."
      ]
    },
    {
      "cell_type": "code",
      "execution_count": null,
      "metadata": {
        "colab": {
          "base_uri": "https://localhost:8080/"
        },
        "id": "WDC-rO1W31s8",
        "outputId": "38d61b71-0d1a-4fc2-8c94-675c850e9f83"
      },
      "outputs": [
        {
          "name": "stderr",
          "output_type": "stream",
          "text": [
            "[nltk_data] Downloading package punkt to\n",
            "[nltk_data]     C:\\Users\\Propietario\\AppData\\Roaming\\nltk_data...\n",
            "[nltk_data]   Package punkt is already up-to-date!\n",
            "[nltk_data] Downloading package wordnet to\n",
            "[nltk_data]     C:\\Users\\Propietario\\AppData\\Roaming\\nltk_data...\n",
            "[nltk_data]   Package wordnet is already up-to-date!\n",
            "[nltk_data] Downloading package stopwords to\n",
            "[nltk_data]     C:\\Users\\Propietario\\AppData\\Roaming\\nltk_data...\n",
            "[nltk_data]   Package stopwords is already up-to-date!\n"
          ]
        },
        {
          "data": {
            "text/plain": [
              "True"
            ]
          },
          "execution_count": 46,
          "metadata": {},
          "output_type": "execute_result"
        }
      ],
      "source": [
        "import nltk\n",
        "from nltk.corpus import stopwords\n",
        "\n",
        "# Punkt permite separar un texto en frases.\n",
        "nltk.download('punkt')\n",
        "\n",
        "\n",
        "nltk.download('wordnet')\n",
        "\n",
        "\n",
        "\n",
        "nltk.download('stopwords')"
      ]
    },
    {
      "cell_type": "code",
      "execution_count": null,
      "metadata": {
        "id": "r-fj5gwj31s9"
      },
      "outputs": [],
      "source": [
        "# Instalación de librerias\n",
        "import pandas as pd\n",
        "import numpy as np\n",
        "import sys\n",
        "\n",
        "from sklearn.ensemble import RandomForestClassifier\n",
        "\n",
        "\n",
        "from nltk.stem import SnowballStemmer\n",
        "from nltk.stem import WordNetLemmatizer\n",
        "\n",
        "\n",
        "import re, string, unicodedata\n",
        "#import contractions\n",
        "import inflect\n",
        "from nltk import word_tokenize, sent_tokenize\n",
        "from nltk.corpus import stopwords\n",
        "from nltk.stem import LancasterStemmer, WordNetLemmatizer\n",
        "\n",
        "from sklearn.model_selection import train_test_split,GridSearchCV\n",
        "from sklearn.feature_extraction.text import TfidfVectorizer, CountVectorizer, HashingVectorizer\n",
        "\n",
        "\n",
        "from sklearn.metrics import classification_report, confusion_matrix\n",
        "\n",
        "import matplotlib.pyplot as plt\n",
        "\n",
        "\n",
        "import pandas as pd\n",
        "# Para preparar los datos\n",
        "# Para crear el arbol de decisión\n",
        "from sklearn.tree import DecisionTreeClassifier\n",
        "# Para usar KNN como clasificador\n",
        "# Para realizar la separación del conjunto de aprendizaje en entrenamiento y test.\n",
        "from sklearn.model_selection import train_test_split\n",
        "# Para evaluar el modelo\n",
        "from sklearn.metrics import confusion_matrix, classification_report, precision_score, recall_score, f1_score, accuracy_score\n",
        "\n",
        "# Versiones anteriores a 1.2 de sklearn: from sklearn.metrics import plot_confusion_matrix\n",
        "from sklearn.metrics import ConfusionMatrixDisplay\n",
        "\n",
        "# Para búsqueda de hiperparámetros\n",
        "from sklearn.model_selection import GridSearchCV\n",
        "# Para la validación cruzada\n",
        "from sklearn.model_selection import KFold\n",
        "#Librerías para la visualización\n",
        "import matplotlib.pyplot as plt\n",
        "# Seaborn\n",
        "import sklearn as sklearn\n"
      ]
    },
    {
      "cell_type": "markdown",
      "metadata": {
        "id": "GQxZkKOQ31s-"
      },
      "source": [
        "### 2. Perfilamiento y entendimiento de los datos"
      ]
    },
    {
      "cell_type": "markdown",
      "metadata": {
        "id": "I-tm2Co931s-"
      },
      "source": [
        "Seguido a esto  convertimos el archivo que nos da por parametro en un archivo de tipo **csv** para que sea de mayor facilidad entender y separar las palabras mas adelante"
      ]
    },
    {
      "cell_type": "code",
      "execution_count": null,
      "metadata": {
        "colab": {
          "base_uri": "https://localhost:8080/",
          "height": 424
        },
        "id": "pesTtZ_w31s_",
        "outputId": "bf0438ff-56c9-4778-a3a2-6909bd431631"
      },
      "outputs": [
        {
          "data": {
            "text/html": [
              "<div>\n",
              "<style scoped>\n",
              "    .dataframe tbody tr th:only-of-type {\n",
              "        vertical-align: middle;\n",
              "    }\n",
              "\n",
              "    .dataframe tbody tr th {\n",
              "        vertical-align: top;\n",
              "    }\n",
              "\n",
              "    .dataframe thead th {\n",
              "        text-align: right;\n",
              "    }\n",
              "</style>\n",
              "<table border=\"1\" class=\"dataframe\">\n",
              "  <thead>\n",
              "    <tr style=\"text-align: right;\">\n",
              "      <th></th>\n",
              "      <th>Textos_espanol</th>\n",
              "    </tr>\n",
              "  </thead>\n",
              "  <tbody>\n",
              "    <tr>\n",
              "      <th>0</th>\n",
              "      <td>1. 1. Introducción: Las Estructuras del Derech...</td>\n",
              "    </tr>\n",
              "    <tr>\n",
              "      <th>1</th>\n",
              "      <td>Las aguas subterráneas se han debatido en el c...</td>\n",
              "    </tr>\n",
              "    <tr>\n",
              "      <th>2</th>\n",
              "      <td>La presente contribución evalúa la jurispruden...</td>\n",
              "    </tr>\n",
              "    <tr>\n",
              "      <th>3</th>\n",
              "      <td>Sin embargo, este crédito fiscal expira en 201...</td>\n",
              "    </tr>\n",
              "    <tr>\n",
              "      <th>4</th>\n",
              "      <td>Este estudio explora las actitudes, comportami...</td>\n",
              "    </tr>\n",
              "    <tr>\n",
              "      <th>...</th>\n",
              "      <td>...</td>\n",
              "    </tr>\n",
              "    <tr>\n",
              "      <th>975</th>\n",
              "      <td>Este artículo explora la historia y el impacto...</td>\n",
              "    </tr>\n",
              "    <tr>\n",
              "      <th>976</th>\n",
              "      <td>Mientras que algunos dan mayor énfasis a la ma...</td>\n",
              "    </tr>\n",
              "    <tr>\n",
              "      <th>977</th>\n",
              "      <td>Una innovación importante para garantizar el s...</td>\n",
              "    </tr>\n",
              "    <tr>\n",
              "      <th>978</th>\n",
              "      <td>El Salvador continúa luchando con niveles elev...</td>\n",
              "    </tr>\n",
              "    <tr>\n",
              "      <th>979</th>\n",
              "      <td>También puede reflejar una baja conciencia sob...</td>\n",
              "    </tr>\n",
              "  </tbody>\n",
              "</table>\n",
              "<p>980 rows × 1 columns</p>\n",
              "</div>"
            ],
            "text/plain": [
              "                                        Textos_espanol\n",
              "0    1. 1. Introducción: Las Estructuras del Derech...\n",
              "1    Las aguas subterráneas se han debatido en el c...\n",
              "2    La presente contribución evalúa la jurispruden...\n",
              "3    Sin embargo, este crédito fiscal expira en 201...\n",
              "4    Este estudio explora las actitudes, comportami...\n",
              "..                                                 ...\n",
              "975  Este artículo explora la historia y el impacto...\n",
              "976  Mientras que algunos dan mayor énfasis a la ma...\n",
              "977  Una innovación importante para garantizar el s...\n",
              "978  El Salvador continúa luchando con niveles elev...\n",
              "979  También puede reflejar una baja conciencia sob...\n",
              "\n",
              "[980 rows x 1 columns]"
            ]
          },
          "execution_count": 48,
          "metadata": {},
          "output_type": "execute_result"
        }
      ],
      "source": [
        "df = pd.read_csv('cat_6716.csv', delimiter=';')\n",
        "supatest=pd.read_csv('SinEtiquetatest_cat_6716.csv', delimiter=',')\n",
        "\n",
        "\n",
        "\n",
        "# Asignación a una nueva variable de los datos leidos\n",
        "data_t=df\n",
        "\n",
        "data_t\n",
        "supatest=supatest.drop(columns=\"sdg\")\n",
        "supatest"
      ]
    },
    {
      "cell_type": "markdown",
      "metadata": {
        "id": "_5IOb9GZ31s_"
      },
      "source": [
        "Nos podemos dar cuenta que en referencia a nuestos ODS ( objetivos de desarrollo sostenible ) no tenemos problema de validez, debido a que no hay valores anomalos ya que en teoria los textos que se tienen cumplen con la clasificacion \"esperada\""
      ]
    },
    {
      "cell_type": "code",
      "execution_count": null,
      "metadata": {
        "colab": {
          "base_uri": "https://localhost:8080/"
        },
        "id": "78oTzINE31s_",
        "outputId": "ab605a11-ca2e-4f78-b41d-122ab3c0a23b"
      },
      "outputs": [
        {
          "name": "stdout",
          "output_type": "stream",
          "text": [
            "6     1000\n",
            "7     1000\n",
            "16    1000\n",
            "Name: sdg, dtype: int64\n"
          ]
        }
      ],
      "source": [
        "conteo = df['sdg'].value_counts()\n",
        "\n",
        "\n",
        "print(conteo)"
      ]
    },
    {
      "cell_type": "markdown",
      "metadata": {
        "id": "nSqo6Hdj31tA"
      },
      "source": []
    },
    {
      "cell_type": "code",
      "execution_count": null,
      "metadata": {
        "colab": {
          "base_uri": "https://localhost:8080/"
        },
        "id": "WMDMRmKv31tA",
        "outputId": "c3c8f273-67c2-4838-8419-e9ec37404409"
      },
      "outputs": [
        {
          "name": "stdout",
          "output_type": "stream",
          "text": [
            "                                         Textos_espanol  sdg  Conteo  Moda  \\\n",
            "0     Es importante destacar que, en un año de sequí...    6     621   468   \n",
            "1     Hay una gran cantidad de literatura sobre Aust...    6     881   468   \n",
            "2     Los procesos de descentralización, emprendidos...    6     579   468   \n",
            "3     Esto puede tener consecuencias sustanciales pa...    6     706   468   \n",
            "4     La función de beneficio también incorpora pará...    6     673   468   \n",
            "...                                                 ...  ...     ...   ...   \n",
            "2995  \"Forjando una Convención para los Crímenes con...   16    1056   468   \n",
            "2996  En 2016, Daragh Murray publicó su libro Obliga...   16     942   468   \n",
            "2997  En este libro, el autor argumenta que el activ...   16     749   468   \n",
            "2998  * Facultad de Derecho, Universidad de Manchest...   16     993   468   \n",
            "2999  Este caso 1 constituye el primer pronunciamien...   16     618   468   \n",
            "\n",
            "       Max  Min  \n",
            "0     1616    0  \n",
            "1     1616    0  \n",
            "2     1616    0  \n",
            "3     1616    0  \n",
            "4     1616    0  \n",
            "...    ...  ...  \n",
            "2995  1616    0  \n",
            "2996  1616    0  \n",
            "2997  1616    0  \n",
            "2998  1616    0  \n",
            "2999  1616    0  \n",
            "\n",
            "[3000 rows x 6 columns]\n"
          ]
        }
      ],
      "source": [
        "textos = data_t.copy()\n",
        "\n",
        "\n",
        "import statistics\n",
        "\n",
        "textos['Conteo'] = [len(x) for x in textos['Textos_espanol']]\n",
        "moda_longitud = statistics.mode([len(x) for x in textos['Textos_espanol']])\n",
        "textos['Moda'] = [moda_longitud] * len(textos)\n",
        "\n",
        "textos['Max'] = [max([len(x) for x in textos['Textos_espanol']])] * len(textos)\n",
        "textos['Min'] = [min([min([len(x) for x in i.split(' ')]) for i in textos['Textos_espanol']])] * len(textos)\n",
        "\n",
        "\n",
        "print(textos)"
      ]
    },
    {
      "cell_type": "code",
      "execution_count": null,
      "metadata": {
        "id": "hO8rimwg-eUq",
        "outputId": "b1e4cbac-d37f-42ed-8125-295c7e54dfaa"
      },
      "outputs": [
        {
          "name": "stdout",
          "output_type": "stream",
          "text": [
            "                                        Textos_espanol  Conteo  Moda   Max  \\\n",
            "0    1. 1. Introducción: Las Estructuras del Derech...     764   782  1977   \n",
            "1    Las aguas subterráneas se han debatido en el c...     936   782  1977   \n",
            "2    La presente contribución evalúa la jurispruden...    1022   782  1977   \n",
            "3    Sin embargo, este crédito fiscal expira en 201...     515   782  1977   \n",
            "4    Este estudio explora las actitudes, comportami...    1155   782  1977   \n",
            "..                                                 ...     ...   ...   ...   \n",
            "975  Este artículo explora la historia y el impacto...    1043   782  1977   \n",
            "976  Mientras que algunos dan mayor énfasis a la ma...     512   782  1977   \n",
            "977  Una innovación importante para garantizar el s...     482   782  1977   \n",
            "978  El Salvador continúa luchando con niveles elev...     793   782  1977   \n",
            "979  También puede reflejar una baja conciencia sob...     794   782  1977   \n",
            "\n",
            "     Min  \n",
            "0      0  \n",
            "1      0  \n",
            "2      0  \n",
            "3      0  \n",
            "4      0  \n",
            "..   ...  \n",
            "975    0  \n",
            "976    0  \n",
            "977    0  \n",
            "978    0  \n",
            "979    0  \n",
            "\n",
            "[980 rows x 5 columns]\n"
          ]
        }
      ],
      "source": [
        "textos2 = supatest.copy()\n",
        "\n",
        "\n",
        "import statistics\n",
        "\n",
        "textos2['Conteo'] = [len(x) for x in textos2['Textos_espanol']]\n",
        "moda_longitud = statistics.mode([len(x) for x in textos2['Textos_espanol']])\n",
        "textos2['Moda'] = [moda_longitud] * len(textos2)\n",
        "\n",
        "textos2['Max'] = [max([len(x) for x in textos2['Textos_espanol']])] * len(textos2)\n",
        "textos2['Min'] = [min([min([len(x) for x in i.split(' ')]) for i in textos2['Textos_espanol']])] * len(textos2)\n",
        "\n",
        "\n",
        "print(textos2)"
      ]
    },
    {
      "cell_type": "markdown",
      "metadata": {
        "id": "Qmilk-4X31tA"
      },
      "source": [
        "Podemos darnos cuenta que con la informacion recibida, no se tienen ningunos registros repetidos lo cual es bueno ya que nos tendremos que analizar porque estan duplicados los registros,"
      ]
    },
    {
      "cell_type": "code",
      "execution_count": null,
      "metadata": {
        "colab": {
          "base_uri": "https://localhost:8080/"
        },
        "id": "IZamfbin31tB",
        "outputId": "c9dae3e9-1e61-4560-d266-1655991e376a"
      },
      "outputs": [
        {
          "data": {
            "text/plain": [
              "0"
            ]
          },
          "execution_count": 52,
          "metadata": {},
          "output_type": "execute_result"
        }
      ],
      "source": [
        "data_t.duplicated().sum()\n",
        "\n"
      ]
    },
    {
      "cell_type": "code",
      "execution_count": null,
      "metadata": {
        "id": "34p7hI3c-eUq",
        "outputId": "d526e9a4-8106-42b5-ea5b-46e2cef6a42e"
      },
      "outputs": [
        {
          "data": {
            "text/plain": [
              "0"
            ]
          },
          "execution_count": 53,
          "metadata": {},
          "output_type": "execute_result"
        }
      ],
      "source": [
        "supatest.duplicated().sum()"
      ]
    },
    {
      "cell_type": "markdown",
      "metadata": {
        "id": "Btr5GcFf31tB"
      },
      "source": [
        "De igual manera nos podemos dar cienta que  no hay numeros en el texto y que no hay una entrevista \"sucia\" la cual se compone solo de numeros, sin embargo esto no significa que todos los registros que tenemos son limpios"
      ]
    },
    {
      "cell_type": "code",
      "execution_count": null,
      "metadata": {
        "colab": {
          "base_uri": "https://localhost:8080/"
        },
        "id": "ompil7Ax31tC",
        "outputId": "d3e65d9b-843f-4eb7-afae-e3cc684c28a6"
      },
      "outputs": [
        {
          "name": "stdout",
          "output_type": "stream",
          "text": [
            "<class 'pandas.core.frame.DataFrame'>\n",
            "RangeIndex: 3000 entries, 0 to 2999\n",
            "Data columns (total 2 columns):\n",
            " #   Column          Non-Null Count  Dtype \n",
            "---  ------          --------------  ----- \n",
            " 0   Textos_espanol  3000 non-null   object\n",
            " 1   sdg             3000 non-null   int64 \n",
            "dtypes: int64(1), object(1)\n",
            "memory usage: 47.0+ KB\n"
          ]
        }
      ],
      "source": [
        "data_t.info()\n"
      ]
    },
    {
      "cell_type": "code",
      "execution_count": null,
      "metadata": {
        "id": "d9IA-Qx9-eUr",
        "outputId": "af969eee-642a-4fa3-c40b-a1226aefa76f"
      },
      "outputs": [
        {
          "name": "stdout",
          "output_type": "stream",
          "text": [
            "<class 'pandas.core.frame.DataFrame'>\n",
            "RangeIndex: 980 entries, 0 to 979\n",
            "Data columns (total 1 columns):\n",
            " #   Column          Non-Null Count  Dtype \n",
            "---  ------          --------------  ----- \n",
            " 0   Textos_espanol  980 non-null    object\n",
            "dtypes: object(1)\n",
            "memory usage: 7.8+ KB\n"
          ]
        }
      ],
      "source": [
        "supatest.info()"
      ]
    },
    {
      "cell_type": "code",
      "execution_count": null,
      "metadata": {
        "colab": {
          "base_uri": "https://localhost:8080/"
        },
        "id": "ZKdQCU8j31tD",
        "outputId": "8c96015e-838e-4e8a-ff97-4c8f206cc57f"
      },
      "outputs": [
        {
          "data": {
            "text/plain": [
              "<bound method NDFrame.describe of                                          Textos_espanol  sdg\n",
              "0     Es importante destacar que, en un año de sequí...    6\n",
              "1     Hay una gran cantidad de literatura sobre Aust...    6\n",
              "2     Los procesos de descentralización, emprendidos...    6\n",
              "3     Esto puede tener consecuencias sustanciales pa...    6\n",
              "4     La función de beneficio también incorpora pará...    6\n",
              "...                                                 ...  ...\n",
              "2995  \"Forjando una Convención para los Crímenes con...   16\n",
              "2996  En 2016, Daragh Murray publicó su libro Obliga...   16\n",
              "2997  En este libro, el autor argumenta que el activ...   16\n",
              "2998  * Facultad de Derecho, Universidad de Manchest...   16\n",
              "2999  Este caso 1 constituye el primer pronunciamien...   16\n",
              "\n",
              "[3000 rows x 2 columns]>"
            ]
          },
          "execution_count": 56,
          "metadata": {},
          "output_type": "execute_result"
        }
      ],
      "source": [
        "data_t.describe"
      ]
    },
    {
      "cell_type": "code",
      "execution_count": null,
      "metadata": {
        "id": "isWO3e8k-eUr",
        "outputId": "38fc1046-737c-488c-85ca-ee6529abec41"
      },
      "outputs": [
        {
          "data": {
            "text/plain": [
              "<bound method NDFrame.describe of                                         Textos_espanol\n",
              "0    1. 1. Introducción: Las Estructuras del Derech...\n",
              "1    Las aguas subterráneas se han debatido en el c...\n",
              "2    La presente contribución evalúa la jurispruden...\n",
              "3    Sin embargo, este crédito fiscal expira en 201...\n",
              "4    Este estudio explora las actitudes, comportami...\n",
              "..                                                 ...\n",
              "975  Este artículo explora la historia y el impacto...\n",
              "976  Mientras que algunos dan mayor énfasis a la ma...\n",
              "977  Una innovación importante para garantizar el s...\n",
              "978  El Salvador continúa luchando con niveles elev...\n",
              "979  También puede reflejar una baja conciencia sob...\n",
              "\n",
              "[980 rows x 1 columns]>"
            ]
          },
          "execution_count": 57,
          "metadata": {},
          "output_type": "execute_result"
        }
      ],
      "source": [
        "supatest.describe"
      ]
    },
    {
      "cell_type": "markdown",
      "metadata": {
        "id": "ERDpMEWw31tE"
      },
      "source": []
    },
    {
      "cell_type": "markdown",
      "metadata": {
        "id": "b1aVHwLJ31tE"
      },
      "source": [
        "### 3. Preparación de datos"
      ]
    },
    {
      "cell_type": "markdown",
      "metadata": {
        "id": "Twj_u56531tE"
      },
      "source": [
        "Para poder realizar el pre-procesamiento de los datos, es recomendable pasar por tres etapas:\n",
        "* Limpieza de los datos.\n",
        "* Tokenización.\n",
        "* Normalización."
      ]
    },
    {
      "cell_type": "markdown",
      "metadata": {
        "id": "hKuWXAYG31tF"
      },
      "source": [
        "### 3.1 Limpieza de datos"
      ]
    },
    {
      "cell_type": "markdown",
      "metadata": {
        "id": "q4nXOkgR31tF"
      },
      "source": [
        "Esta función es útil para eliminar caracteres no ASCII de una listas de palabras tokenizadas en español. Esto permitira  limpiar los textos  de caracteres especiales o caracteres no latinos que no son relevantes para el análisis de texto, en este caso debido a que importamos la liberia vamos a solo trabajar con palabras en español"
      ]
    },
    {
      "cell_type": "code",
      "execution_count": null,
      "metadata": {
        "id": "oBnRHZnv31tF"
      },
      "outputs": [],
      "source": [
        "def remove_non_ascii(words):\n",
        "    \"\"\"Remove non-ASCII characters from list of tokenized words\"\"\"\n",
        "    new_words = []\n",
        "    for word in words:\n",
        "        new_word = unicodedata.normalize('NFKD', word).encode('ascii', 'ignore').decode('utf-8', 'ignore')\n",
        "        new_words.append(new_word)\n",
        "    return new_words"
      ]
    },
    {
      "cell_type": "markdown",
      "metadata": {
        "id": "1swTvk2931tF"
      },
      "source": [
        "Esta función nos posibilitará la conversión de todas las palabras a minúsculas, una práctica común en el procesamiento de texto en español con el fin de garantizar que las palabras en mayúsculas y minúsculas sean tratadas de manera uniforme. Esta normalización facilita la comparación y el análisis de manera más efectiva."
      ]
    },
    {
      "cell_type": "code",
      "execution_count": null,
      "metadata": {
        "id": "Ju_MMS5b31tG"
      },
      "outputs": [],
      "source": [
        "def to_lowercase(words):\n",
        "    new_words = []\n",
        "    for word in words:\n",
        "        new_word = word.lower()  # Convierte la palabra a minúsculas\n",
        "        new_words.append(new_word)\n",
        "    return new_words"
      ]
    },
    {
      "cell_type": "markdown",
      "metadata": {
        "id": "SVBrXABW31tG"
      },
      "source": [
        "Eliminar la puntuación de una lista de palabras es útil para eliminar caracteres no alfabéticos o especiales que no aportan información semántica al texto en español. como puntos y comas"
      ]
    },
    {
      "cell_type": "code",
      "execution_count": null,
      "metadata": {
        "id": "M6j8Q_yw31tG"
      },
      "outputs": [],
      "source": [
        "def remove_punctuation(words):\n",
        "    \"\"\"Remove punctuation from list of tokenized words\"\"\"\n",
        "    new_words = []\n",
        "    for word in words:\n",
        "        new_word = re.sub(r'[^\\w\\s]', '', word)\n",
        "        if new_word != '':\n",
        "            new_words.append(new_word)\n",
        "    return new_words"
      ]
    },
    {
      "cell_type": "markdown",
      "metadata": {
        "id": "sczrdmuf31tG"
      },
      "source": [
        "Reemplazamos  números en una lista de palabras con su representación textual nos ayudara bastante debido que las ODS que tenemos son mas de numeros y de cifras entonces al convertir el numero en palabra sera mas facil darle un valor"
      ]
    },
    {
      "cell_type": "code",
      "execution_count": null,
      "metadata": {
        "id": "hI47dR1v31tG"
      },
      "outputs": [],
      "source": [
        "def replace_numbers(words):\n",
        "    p = inflect.engine()\n",
        "    new_words = []\n",
        "    for word in words:\n",
        "        if word.isdigit():\n",
        "            new_word = p.number_to_words(word)\n",
        "            new_words.append(new_word)\n",
        "        else:\n",
        "            new_words.append(word)\n",
        "    return new_words"
      ]
    },
    {
      "cell_type": "markdown",
      "metadata": {
        "id": "24tejnVH31tH"
      },
      "source": [
        "Igualmente laa eliminación de palabras vacías (stop words) para las estrevistas es esencial para eliminar palabras comunes que no aportan información significativa al análisis de texto, como \"el\", \"la\", \"de\", etc."
      ]
    },
    {
      "cell_type": "code",
      "execution_count": null,
      "metadata": {
        "id": "xR1V1_i231tH"
      },
      "outputs": [],
      "source": [
        "def remove_stopwords(words):\n",
        "\n",
        "    stop_words = set(stopwords.words('spanish'))  # Utilizamos 'spanish' para obtener la lista de palabras vacías en español\n",
        "    new_words = [word for word in words if word.lower() not in stop_words]\n",
        "    return new_words"
      ]
    },
    {
      "cell_type": "markdown",
      "metadata": {
        "id": "I98KRCNj31tH"
      },
      "source": [
        "Esta función combina las funciones anteriores en un solo paso de preprocesamiento. Realiza la conversión a minúsculas, reemplaza números con su representación textual, elimina la puntuación, caracteres no ASCII y palabras vacías en español."
      ]
    },
    {
      "cell_type": "code",
      "execution_count": null,
      "metadata": {
        "id": "a_jPD1rD31tH"
      },
      "outputs": [],
      "source": [
        "def preprocessing(words):\n",
        "    words = to_lowercase(words)\n",
        "    words = replace_numbers(words)\n",
        "    words = remove_punctuation(words)\n",
        "    words = remove_non_ascii(words)\n",
        "    words = remove_stopwords(words)\n",
        "    return words"
      ]
    },
    {
      "cell_type": "code",
      "execution_count": null,
      "metadata": {
        "colab": {
          "base_uri": "https://localhost:8080/"
        },
        "id": "xqjM938p31tH",
        "outputId": "68d3d0d2-402e-48ec-84a7-72ba37781d07"
      },
      "outputs": [
        {
          "data": {
            "text/plain": [
              "3000"
            ]
          },
          "execution_count": 64,
          "metadata": {},
          "output_type": "execute_result"
        }
      ],
      "source": [
        "total_rows = data_t.shape[0]\n",
        "total_rows"
      ]
    },
    {
      "cell_type": "code",
      "execution_count": null,
      "metadata": {
        "id": "jzvW4_x131tM",
        "outputId": "d00f5d56-2f97-42a9-ce61-c5a6d3c0bbd2"
      },
      "outputs": [
        {
          "data": {
            "text/plain": [
              "980"
            ]
          },
          "execution_count": 65,
          "metadata": {},
          "output_type": "execute_result"
        }
      ],
      "source": [
        "total_rows = supatest.shape[0]\n",
        "total_rows"
      ]
    },
    {
      "cell_type": "markdown",
      "metadata": {
        "id": "OiR8pSqS31tM"
      },
      "source": [
        "### 3.2 Tokenización\n"
      ]
    },
    {
      "cell_type": "markdown",
      "metadata": {
        "id": "6RZa65Yt31tM"
      },
      "source": [
        "En primer lugar, realiza la tokenización de palabras, dividiendo el texto en unidades más manejables, lo que es fundamental para el procesamiento de texto. Luego, aplica una función de preprocesamiento que elimina el ruido, como signos de puntuación, números y stopwords, lo que mejora significativamente la calidad de los datos. Además, asegura la uniformidad en el formato de los datos, lo que facilita el análisis textual posterior al tratar las palabras de manera uniforme, independientemente de su capitalización o la presencia de elementos no deseados."
      ]
    },
    {
      "cell_type": "code",
      "execution_count": null,
      "metadata": {
        "colab": {
          "base_uri": "https://localhost:8080/",
          "height": 206
        },
        "id": "B9tHDhx531tN",
        "outputId": "5727f1cc-a561-4fe2-ba95-978b1315f441"
      },
      "outputs": [
        {
          "data": {
            "text/html": [
              "<div>\n",
              "<style scoped>\n",
              "    .dataframe tbody tr th:only-of-type {\n",
              "        vertical-align: middle;\n",
              "    }\n",
              "\n",
              "    .dataframe tbody tr th {\n",
              "        vertical-align: top;\n",
              "    }\n",
              "\n",
              "    .dataframe thead th {\n",
              "        text-align: right;\n",
              "    }\n",
              "</style>\n",
              "<table border=\"1\" class=\"dataframe\">\n",
              "  <thead>\n",
              "    <tr style=\"text-align: right;\">\n",
              "      <th></th>\n",
              "      <th>Textos_espanol</th>\n",
              "      <th>sdg</th>\n",
              "      <th>palabras</th>\n",
              "    </tr>\n",
              "  </thead>\n",
              "  <tbody>\n",
              "    <tr>\n",
              "      <th>0</th>\n",
              "      <td>Es importante destacar que, en un año de sequí...</td>\n",
              "      <td>6</td>\n",
              "      <td>[importante, destacar, ano, sequia, espera, di...</td>\n",
              "    </tr>\n",
              "    <tr>\n",
              "      <th>1</th>\n",
              "      <td>Hay una gran cantidad de literatura sobre Aust...</td>\n",
              "      <td>6</td>\n",
              "      <td>[gran, cantidad, literatura, australia, area, ...</td>\n",
              "    </tr>\n",
              "    <tr>\n",
              "      <th>2</th>\n",
              "      <td>Los procesos de descentralización, emprendidos...</td>\n",
              "      <td>6</td>\n",
              "      <td>[procesos, descentralizacion, emprendidos, ser...</td>\n",
              "    </tr>\n",
              "    <tr>\n",
              "      <th>3</th>\n",
              "      <td>Esto puede tener consecuencias sustanciales pa...</td>\n",
              "      <td>6</td>\n",
              "      <td>[puede, tener, consecuencias, sustanciales, ca...</td>\n",
              "    </tr>\n",
              "    <tr>\n",
              "      <th>4</th>\n",
              "      <td>La función de beneficio también incorpora pará...</td>\n",
              "      <td>6</td>\n",
              "      <td>[funcion, beneficio, tambien, incorpora, param...</td>\n",
              "    </tr>\n",
              "  </tbody>\n",
              "</table>\n",
              "</div>"
            ],
            "text/plain": [
              "                                      Textos_espanol  sdg  \\\n",
              "0  Es importante destacar que, en un año de sequí...    6   \n",
              "1  Hay una gran cantidad de literatura sobre Aust...    6   \n",
              "2  Los procesos de descentralización, emprendidos...    6   \n",
              "3  Esto puede tener consecuencias sustanciales pa...    6   \n",
              "4  La función de beneficio también incorpora pará...    6   \n",
              "\n",
              "                                            palabras  \n",
              "0  [importante, destacar, ano, sequia, espera, di...  \n",
              "1  [gran, cantidad, literatura, australia, area, ...  \n",
              "2  [procesos, descentralizacion, emprendidos, ser...  \n",
              "3  [puede, tener, consecuencias, sustanciales, ca...  \n",
              "4  [funcion, beneficio, tambien, incorpora, param...  "
            ]
          },
          "execution_count": 66,
          "metadata": {},
          "output_type": "execute_result"
        }
      ],
      "source": [
        "data_t['palabras'] = data_t['Textos_espanol'].apply(word_tokenize).apply(preprocessing) #Aplica la eliminación del ruido\n",
        "data_t.head()"
      ]
    },
    {
      "cell_type": "code",
      "execution_count": null,
      "metadata": {
        "id": "0FgsAzBt-eUx",
        "outputId": "0d37d243-ba4f-4f1b-806b-935a99a991cc"
      },
      "outputs": [
        {
          "data": {
            "text/html": [
              "<div>\n",
              "<style scoped>\n",
              "    .dataframe tbody tr th:only-of-type {\n",
              "        vertical-align: middle;\n",
              "    }\n",
              "\n",
              "    .dataframe tbody tr th {\n",
              "        vertical-align: top;\n",
              "    }\n",
              "\n",
              "    .dataframe thead th {\n",
              "        text-align: right;\n",
              "    }\n",
              "</style>\n",
              "<table border=\"1\" class=\"dataframe\">\n",
              "  <thead>\n",
              "    <tr style=\"text-align: right;\">\n",
              "      <th></th>\n",
              "      <th>Textos_espanol</th>\n",
              "      <th>palabras</th>\n",
              "    </tr>\n",
              "  </thead>\n",
              "  <tbody>\n",
              "    <tr>\n",
              "      <th>0</th>\n",
              "      <td>1. 1. Introducción: Las Estructuras del Derech...</td>\n",
              "      <td>[one, one, introduccion, estructuras, derecho,...</td>\n",
              "    </tr>\n",
              "    <tr>\n",
              "      <th>1</th>\n",
              "      <td>Las aguas subterráneas se han debatido en el c...</td>\n",
              "      <td>[aguas, subterraneas, debatido, contexto, tari...</td>\n",
              "    </tr>\n",
              "    <tr>\n",
              "      <th>2</th>\n",
              "      <td>La presente contribución evalúa la jurispruden...</td>\n",
              "      <td>[presente, contribucion, evalua, jurisprudenci...</td>\n",
              "    </tr>\n",
              "    <tr>\n",
              "      <th>3</th>\n",
              "      <td>Sin embargo, este crédito fiscal expira en 201...</td>\n",
              "      <td>[embargo, credito, fiscal, expira, two thousan...</td>\n",
              "    </tr>\n",
              "    <tr>\n",
              "      <th>4</th>\n",
              "      <td>Este estudio explora las actitudes, comportami...</td>\n",
              "      <td>[estudio, explora, actitudes, comportamientos,...</td>\n",
              "    </tr>\n",
              "  </tbody>\n",
              "</table>\n",
              "</div>"
            ],
            "text/plain": [
              "                                      Textos_espanol  \\\n",
              "0  1. 1. Introducción: Las Estructuras del Derech...   \n",
              "1  Las aguas subterráneas se han debatido en el c...   \n",
              "2  La presente contribución evalúa la jurispruden...   \n",
              "3  Sin embargo, este crédito fiscal expira en 201...   \n",
              "4  Este estudio explora las actitudes, comportami...   \n",
              "\n",
              "                                            palabras  \n",
              "0  [one, one, introduccion, estructuras, derecho,...  \n",
              "1  [aguas, subterraneas, debatido, contexto, tari...  \n",
              "2  [presente, contribucion, evalua, jurisprudenci...  \n",
              "3  [embargo, credito, fiscal, expira, two thousan...  \n",
              "4  [estudio, explora, actitudes, comportamientos,...  "
            ]
          },
          "execution_count": 67,
          "metadata": {},
          "output_type": "execute_result"
        }
      ],
      "source": [
        "supatest['palabras'] = supatest['Textos_espanol'].apply(word_tokenize).apply(preprocessing) #Aplica la eliminación del ruido\n",
        "supatest.head()"
      ]
    },
    {
      "cell_type": "markdown",
      "metadata": {
        "id": "Mi9C04F231tN"
      },
      "source": [
        "Podemos darnos cuenta como quedan los textos en los cuales ya no se aprecian plabras que generan ruido, de la misma forma, nos podemos dar cuenta que las palabras se han reducido esto con el fin de no leer toda la palabra si no que al saber una abreviacion ya podemos saber el significado de la palabra, igualmente,  nos permite mejorar la dimensionalidad en representaciones vectoriales del texto"
      ]
    },
    {
      "cell_type": "code",
      "execution_count": null,
      "metadata": {
        "colab": {
          "base_uri": "https://localhost:8080/"
        },
        "id": "hvsSJ5a_31tN",
        "outputId": "dafbf8fb-4a36-49d0-952a-b553cb1a5af2"
      },
      "outputs": [
        {
          "name": "stdout",
          "output_type": "stream",
          "text": [
            "['importante', 'destacar', 'ano', 'sequia', 'espera', 'disminuyan', 'aportes', 'aumente', 'demanda', 'agua', 'cultivos', 'vegetacion', 'provocara', 'reduccion', 'caudal', 'rios', 'estan', 'conectados', 'hidrologicamente', 'acuifero', 'asi', 'menor', 'disponibilidad', 'agua', 'ecosistemas', 'dependientes', 'aguas', 'subterraneas', 'externalidades', 'espaciales', 'pueden', 'incluir', 'agotamiento', 'cursos', 'agua', 'descenso', 'nivel', 'freatico', 'local', 'ejemplo', 'bombeo', 'continuo', 'pozo', 'b', 'provocara', 'agotamiento', 'cursos', 'agua', 'reduccion', 'caudal'] \n",
            " Es importante destacar que, en un año de sequía, se espera que disminuyan todos los aportes, pero que aumente la demanda de agua de los cultivos y de la vegetación, lo que provocará una reducción del caudal de los ríos que están conectados hidrológicamente con el acuífero, así como una menor disponibilidad de agua para otros ecosistemas dependientes de las aguas subterráneas. Estas externalidades espaciales pueden incluir el agotamiento de los cursos de agua y el descenso del nivel freático local. Por ejemplo, el bombeo continuo del pozo B provocará el agotamiento de los cursos de agua y la reducción de su caudal.\n"
          ]
        }
      ],
      "source": [
        "print(data_t[\"palabras\"][0],\"\\n\" ,data_t[\"Textos_espanol\"][0])"
      ]
    },
    {
      "cell_type": "code",
      "execution_count": null,
      "metadata": {
        "id": "ZCVluZpZ-eUx",
        "outputId": "74a40b75-6284-40d5-a9d4-d7fd339a5ef6"
      },
      "outputs": [
        {
          "name": "stdout",
          "output_type": "stream",
          "text": [
            "['one', 'one', 'introduccion', 'estructuras', 'derecho', 'penal', 'two', 'estandar', 'persona', 'razonable', 'derecho', 'penal', 'three', 'responsabilidad', 'penal', 'delincuentes', 'suerte', 'resultante', 'responsabilidad', 'penal', 'four', 'four', 'criminalizacion', 'sadomasoquismo', 'negacion', 'erotico', 'instanciacion', 'violencia', 'five', 'constitucionalismo', 'limites', 'derecho', 'penal', 'six', 'delincuencia', 'internacional', 'contexto', 'contraste', 'forma', 'juridica', 'juicio', 'moral', 'eutanasia', 'suicidio', 'asistido', 'eight', 'derecho', 'anormal', 'teratologia', 'logica', 'criminalizacion', 'nine', 'tensiones', 'criminalizacion', 'desierto', 'empirico', 'cambio', 'normas', 'reforma', 'violacion', 'ten', 'delitos', 'preparacion', 'intereses', 'seguridad', 'libertad', 'politica', 'delitos', 'preparacion', 'intereses', 'seguridad', 'libertad', 'politica'] \n",
            " 1. 1. Introducción: Las Estructuras del Derecho Penal 2. El Estándar de la Persona Razonable en el Derecho Penal 3. La Responsabilidad Penal de los Delincuentes Suerte resultante y responsabilidad penal 4. 4. Criminalización del sadomasoquismo: negación de lo erótico, instanciación de la violencia 5. Constitucionalismo y límites del Derecho Penal 6. Delincuencia internacional: contexto y contraste Forma jurídica y juicio moral: Eutanasia y suicidio asistido 8. Derecho anormal: La teratología como lógica de criminalización 9. Tensiones de la criminalización: Desierto Empírico, Cambio de Normas y Reforma de la Violación 10. Delitos de Preparación, Intereses de Seguridad y Libertad Política Delitos de preparación, intereses de seguridad y libertad política \n"
          ]
        }
      ],
      "source": [
        "print(supatest[\"palabras\"][0],\"\\n\" ,supatest[\"Textos_espanol\"][0])"
      ]
    },
    {
      "cell_type": "markdown",
      "metadata": {
        "id": "cBrS9HTp31tN"
      },
      "source": [
        "### 3.3 Normalizacion\n"
      ]
    },
    {
      "cell_type": "markdown",
      "metadata": {
        "id": "pFW6-aDo31tO"
      },
      "source": [
        "De igual manera usaremos dos técnicas fundamentales: stemming y lematización, aplicadas en el contexto del idioma español. El SnowballStemmer se encargara  de llevar a las palabras a su forma raíz, lo que simplifica y normaliza el texto, facilitando la comparación de palabras relacionadas. Por otro lado, el **WordNetLemmatizer** realiza la lematización, que es un proceso más sofisticado que el stemming y permite reducir las palabras a su forma base o lema. Combinando ambas técnicas, este código crea una función que transforma las palabras de entrada en una lista de sus formas stem y lema. Esto es valioso para tareas de análisis de texto, procesamiento de información y modelado de lenguaje, ya que ayuda a comprender y representar el texto de manera más efectiva, mejorando la calidad de los datos y su utilidad en diversas aplicaciones de NLP."
      ]
    },
    {
      "cell_type": "code",
      "execution_count": null,
      "metadata": {
        "id": "0VLzgYv931tO"
      },
      "outputs": [],
      "source": [
        "stemmer = SnowballStemmer(\"spanish\")\n",
        "lemmatizer = WordNetLemmatizer()\n",
        "\n",
        "# Función para realizar stemming y lematización en español\n",
        "def stem_and_lemmatize(words):\n",
        "    stems = [stemmer.stem(word) for word in words]\n",
        "    lemmas = [lemmatizer.lemmatize(word, pos='v') for word in words]\n",
        "    return stems + lemmas\n",
        "\n",
        "\n"
      ]
    },
    {
      "cell_type": "markdown",
      "metadata": {
        "id": "HVRXRduf31tO"
      },
      "source": [
        "Aplicamos la lematización y Eliminación de Prefijos y Sufijos."
      ]
    },
    {
      "cell_type": "code",
      "execution_count": null,
      "metadata": {
        "colab": {
          "base_uri": "https://localhost:8080/",
          "height": 206
        },
        "id": "2RvKs9rm31tO",
        "outputId": "9ae8dc4d-9c08-4336-cec4-e096277cab96"
      },
      "outputs": [
        {
          "data": {
            "text/html": [
              "<div>\n",
              "<style scoped>\n",
              "    .dataframe tbody tr th:only-of-type {\n",
              "        vertical-align: middle;\n",
              "    }\n",
              "\n",
              "    .dataframe tbody tr th {\n",
              "        vertical-align: top;\n",
              "    }\n",
              "\n",
              "    .dataframe thead th {\n",
              "        text-align: right;\n",
              "    }\n",
              "</style>\n",
              "<table border=\"1\" class=\"dataframe\">\n",
              "  <thead>\n",
              "    <tr style=\"text-align: right;\">\n",
              "      <th></th>\n",
              "      <th>Textos_espanol</th>\n",
              "      <th>sdg</th>\n",
              "      <th>palabras</th>\n",
              "    </tr>\n",
              "  </thead>\n",
              "  <tbody>\n",
              "    <tr>\n",
              "      <th>0</th>\n",
              "      <td>Es importante destacar que, en un año de sequí...</td>\n",
              "      <td>6</td>\n",
              "      <td>[import, destac, ano, sequi, esper, disminu, a...</td>\n",
              "    </tr>\n",
              "    <tr>\n",
              "      <th>1</th>\n",
              "      <td>Hay una gran cantidad de literatura sobre Aust...</td>\n",
              "      <td>6</td>\n",
              "      <td>[gran, cantid, literatur, australi, are, sugie...</td>\n",
              "    </tr>\n",
              "    <tr>\n",
              "      <th>2</th>\n",
              "      <td>Los procesos de descentralización, emprendidos...</td>\n",
              "      <td>6</td>\n",
              "      <td>[proces, descentraliz, emprend, seri, activ, r...</td>\n",
              "    </tr>\n",
              "    <tr>\n",
              "      <th>3</th>\n",
              "      <td>Esto puede tener consecuencias sustanciales pa...</td>\n",
              "      <td>6</td>\n",
              "      <td>[pued, ten, consecuent, sustancial, calid, agu...</td>\n",
              "    </tr>\n",
              "    <tr>\n",
              "      <th>4</th>\n",
              "      <td>La función de beneficio también incorpora pará...</td>\n",
              "      <td>6</td>\n",
              "      <td>[funcion, benefici, tambi, incorpor, parametr,...</td>\n",
              "    </tr>\n",
              "  </tbody>\n",
              "</table>\n",
              "</div>"
            ],
            "text/plain": [
              "                                      Textos_espanol  sdg  \\\n",
              "0  Es importante destacar que, en un año de sequí...    6   \n",
              "1  Hay una gran cantidad de literatura sobre Aust...    6   \n",
              "2  Los procesos de descentralización, emprendidos...    6   \n",
              "3  Esto puede tener consecuencias sustanciales pa...    6   \n",
              "4  La función de beneficio también incorpora pará...    6   \n",
              "\n",
              "                                            palabras  \n",
              "0  [import, destac, ano, sequi, esper, disminu, a...  \n",
              "1  [gran, cantid, literatur, australi, are, sugie...  \n",
              "2  [proces, descentraliz, emprend, seri, activ, r...  \n",
              "3  [pued, ten, consecuent, sustancial, calid, agu...  \n",
              "4  [funcion, benefici, tambi, incorpor, parametr,...  "
            ]
          },
          "execution_count": 71,
          "metadata": {},
          "output_type": "execute_result"
        }
      ],
      "source": [
        "data_t['palabras'] = data_t['palabras'].apply(stem_and_lemmatize)\n",
        "data_t.head()"
      ]
    },
    {
      "cell_type": "code",
      "execution_count": null,
      "metadata": {
        "id": "dPLBWyuz-eUy",
        "outputId": "33ee1a7e-4b7c-4528-c871-29a27e78b8f3"
      },
      "outputs": [
        {
          "data": {
            "text/html": [
              "<div>\n",
              "<style scoped>\n",
              "    .dataframe tbody tr th:only-of-type {\n",
              "        vertical-align: middle;\n",
              "    }\n",
              "\n",
              "    .dataframe tbody tr th {\n",
              "        vertical-align: top;\n",
              "    }\n",
              "\n",
              "    .dataframe thead th {\n",
              "        text-align: right;\n",
              "    }\n",
              "</style>\n",
              "<table border=\"1\" class=\"dataframe\">\n",
              "  <thead>\n",
              "    <tr style=\"text-align: right;\">\n",
              "      <th></th>\n",
              "      <th>Textos_espanol</th>\n",
              "      <th>palabras</th>\n",
              "    </tr>\n",
              "  </thead>\n",
              "  <tbody>\n",
              "    <tr>\n",
              "      <th>0</th>\n",
              "      <td>1. 1. Introducción: Las Estructuras del Derech...</td>\n",
              "      <td>[one, one, introduccion, estructur, derech, pe...</td>\n",
              "    </tr>\n",
              "    <tr>\n",
              "      <th>1</th>\n",
              "      <td>Las aguas subterráneas se han debatido en el c...</td>\n",
              "      <td>[agu, subterran, debat, context, tarif, financ...</td>\n",
              "    </tr>\n",
              "    <tr>\n",
              "      <th>2</th>\n",
              "      <td>La presente contribución evalúa la jurispruden...</td>\n",
              "      <td>[present, contribucion, evalu, jurisprudent, t...</td>\n",
              "    </tr>\n",
              "    <tr>\n",
              "      <th>3</th>\n",
              "      <td>Sin embargo, este crédito fiscal expira en 201...</td>\n",
              "      <td>[embarg, credit, fiscal, expir, two thousand a...</td>\n",
              "    </tr>\n",
              "    <tr>\n",
              "      <th>4</th>\n",
              "      <td>Este estudio explora las actitudes, comportami...</td>\n",
              "      <td>[estudi, explor, actitud, comport, percepcion,...</td>\n",
              "    </tr>\n",
              "  </tbody>\n",
              "</table>\n",
              "</div>"
            ],
            "text/plain": [
              "                                      Textos_espanol  \\\n",
              "0  1. 1. Introducción: Las Estructuras del Derech...   \n",
              "1  Las aguas subterráneas se han debatido en el c...   \n",
              "2  La presente contribución evalúa la jurispruden...   \n",
              "3  Sin embargo, este crédito fiscal expira en 201...   \n",
              "4  Este estudio explora las actitudes, comportami...   \n",
              "\n",
              "                                            palabras  \n",
              "0  [one, one, introduccion, estructur, derech, pe...  \n",
              "1  [agu, subterran, debat, context, tarif, financ...  \n",
              "2  [present, contribucion, evalu, jurisprudent, t...  \n",
              "3  [embarg, credit, fiscal, expir, two thousand a...  \n",
              "4  [estudi, explor, actitud, comport, percepcion,...  "
            ]
          },
          "execution_count": 72,
          "metadata": {},
          "output_type": "execute_result"
        }
      ],
      "source": [
        "supatest['palabras'] = supatest['palabras'].apply(stem_and_lemmatize)\n",
        "supatest.head()"
      ]
    },
    {
      "cell_type": "markdown",
      "metadata": {
        "id": "vstyAADG31tP"
      },
      "source": [
        "##### **3.4 Selección de campos**"
      ]
    },
    {
      "cell_type": "markdown",
      "metadata": {
        "id": "gXmxJgqv31tP"
      },
      "source": [
        "Primero, se separa la variable predictora y los textos que se van a utilizar."
      ]
    },
    {
      "cell_type": "code",
      "execution_count": null,
      "metadata": {
        "colab": {
          "base_uri": "https://localhost:8080/",
          "height": 424
        },
        "id": "xLMirbc031tP",
        "outputId": "74007826-aaa7-47ad-bb51-8025b13bb22f"
      },
      "outputs": [
        {
          "data": {
            "text/html": [
              "<div>\n",
              "<style scoped>\n",
              "    .dataframe tbody tr th:only-of-type {\n",
              "        vertical-align: middle;\n",
              "    }\n",
              "\n",
              "    .dataframe tbody tr th {\n",
              "        vertical-align: top;\n",
              "    }\n",
              "\n",
              "    .dataframe thead th {\n",
              "        text-align: right;\n",
              "    }\n",
              "</style>\n",
              "<table border=\"1\" class=\"dataframe\">\n",
              "  <thead>\n",
              "    <tr style=\"text-align: right;\">\n",
              "      <th></th>\n",
              "      <th>Textos_espanol</th>\n",
              "      <th>sdg</th>\n",
              "      <th>palabras</th>\n",
              "    </tr>\n",
              "  </thead>\n",
              "  <tbody>\n",
              "    <tr>\n",
              "      <th>0</th>\n",
              "      <td>Es importante destacar que, en un año de sequí...</td>\n",
              "      <td>6</td>\n",
              "      <td>import destac ano sequi esper disminu aport au...</td>\n",
              "    </tr>\n",
              "    <tr>\n",
              "      <th>1</th>\n",
              "      <td>Hay una gran cantidad de literatura sobre Aust...</td>\n",
              "      <td>6</td>\n",
              "      <td>gran cantid literatur australi are sugier fuer...</td>\n",
              "    </tr>\n",
              "    <tr>\n",
              "      <th>2</th>\n",
              "      <td>Los procesos de descentralización, emprendidos...</td>\n",
              "      <td>6</td>\n",
              "      <td>proces descentraliz emprend seri activ realiz ...</td>\n",
              "    </tr>\n",
              "    <tr>\n",
              "      <th>3</th>\n",
              "      <td>Esto puede tener consecuencias sustanciales pa...</td>\n",
              "      <td>6</td>\n",
              "      <td>pued ten consecuent sustancial calid agu espec...</td>\n",
              "    </tr>\n",
              "    <tr>\n",
              "      <th>4</th>\n",
              "      <td>La función de beneficio también incorpora pará...</td>\n",
              "      <td>6</td>\n",
              "      <td>funcion benefici tambi incorpor parametr afect...</td>\n",
              "    </tr>\n",
              "    <tr>\n",
              "      <th>...</th>\n",
              "      <td>...</td>\n",
              "      <td>...</td>\n",
              "      <td>...</td>\n",
              "    </tr>\n",
              "    <tr>\n",
              "      <th>2995</th>\n",
              "      <td>\"Forjando una Convención para los Crímenes con...</td>\n",
              "      <td>16</td>\n",
              "      <td>forj convencion crimen human inclu text conven...</td>\n",
              "    </tr>\n",
              "    <tr>\n",
              "      <th>2996</th>\n",
              "      <td>En 2016, Daragh Murray publicó su libro Obliga...</td>\n",
              "      <td>16</td>\n",
              "      <td>two thousand and sixt daragh murray public lib...</td>\n",
              "    </tr>\n",
              "    <tr>\n",
              "      <th>2997</th>\n",
              "      <td>En este libro, el autor argumenta que el activ...</td>\n",
              "      <td>16</td>\n",
              "      <td>libr autor argument activ judicial dirig prote...</td>\n",
              "    </tr>\n",
              "    <tr>\n",
              "      <th>2998</th>\n",
              "      <td>* Facultad de Derecho, Universidad de Manchest...</td>\n",
              "      <td>16</td>\n",
              "      <td>facult derech univers manchest one sw v secret...</td>\n",
              "    </tr>\n",
              "    <tr>\n",
              "      <th>2999</th>\n",
              "      <td>Este caso 1 constituye el primer pronunciamien...</td>\n",
              "      <td>16</td>\n",
              "      <td>cas one constitu prim pronunci cort internacio...</td>\n",
              "    </tr>\n",
              "  </tbody>\n",
              "</table>\n",
              "<p>3000 rows × 3 columns</p>\n",
              "</div>"
            ],
            "text/plain": [
              "                                         Textos_espanol  sdg  \\\n",
              "0     Es importante destacar que, en un año de sequí...    6   \n",
              "1     Hay una gran cantidad de literatura sobre Aust...    6   \n",
              "2     Los procesos de descentralización, emprendidos...    6   \n",
              "3     Esto puede tener consecuencias sustanciales pa...    6   \n",
              "4     La función de beneficio también incorpora pará...    6   \n",
              "...                                                 ...  ...   \n",
              "2995  \"Forjando una Convención para los Crímenes con...   16   \n",
              "2996  En 2016, Daragh Murray publicó su libro Obliga...   16   \n",
              "2997  En este libro, el autor argumenta que el activ...   16   \n",
              "2998  * Facultad de Derecho, Universidad de Manchest...   16   \n",
              "2999  Este caso 1 constituye el primer pronunciamien...   16   \n",
              "\n",
              "                                               palabras  \n",
              "0     import destac ano sequi esper disminu aport au...  \n",
              "1     gran cantid literatur australi are sugier fuer...  \n",
              "2     proces descentraliz emprend seri activ realiz ...  \n",
              "3     pued ten consecuent sustancial calid agu espec...  \n",
              "4     funcion benefici tambi incorpor parametr afect...  \n",
              "...                                                 ...  \n",
              "2995  forj convencion crimen human inclu text conven...  \n",
              "2996  two thousand and sixt daragh murray public lib...  \n",
              "2997  libr autor argument activ judicial dirig prote...  \n",
              "2998  facult derech univers manchest one sw v secret...  \n",
              "2999  cas one constitu prim pronunci cort internacio...  \n",
              "\n",
              "[3000 rows x 3 columns]"
            ]
          },
          "execution_count": 73,
          "metadata": {},
          "output_type": "execute_result"
        }
      ],
      "source": [
        "data_t['palabras'] = data_t['palabras'].apply(lambda x: ' '.join(map(str, x)))\n",
        "data_t"
      ]
    },
    {
      "cell_type": "code",
      "execution_count": null,
      "metadata": {
        "id": "zOmiE0Gm-eUy",
        "outputId": "3ba47921-b6eb-4194-8b97-b0ae04db7997"
      },
      "outputs": [
        {
          "data": {
            "text/html": [
              "<div>\n",
              "<style scoped>\n",
              "    .dataframe tbody tr th:only-of-type {\n",
              "        vertical-align: middle;\n",
              "    }\n",
              "\n",
              "    .dataframe tbody tr th {\n",
              "        vertical-align: top;\n",
              "    }\n",
              "\n",
              "    .dataframe thead th {\n",
              "        text-align: right;\n",
              "    }\n",
              "</style>\n",
              "<table border=\"1\" class=\"dataframe\">\n",
              "  <thead>\n",
              "    <tr style=\"text-align: right;\">\n",
              "      <th></th>\n",
              "      <th>Textos_espanol</th>\n",
              "      <th>palabras</th>\n",
              "    </tr>\n",
              "  </thead>\n",
              "  <tbody>\n",
              "    <tr>\n",
              "      <th>0</th>\n",
              "      <td>1. 1. Introducción: Las Estructuras del Derech...</td>\n",
              "      <td>one one introduccion estructur derech penal tw...</td>\n",
              "    </tr>\n",
              "    <tr>\n",
              "      <th>1</th>\n",
              "      <td>Las aguas subterráneas se han debatido en el c...</td>\n",
              "      <td>agu subterran debat context tarif financi ocde...</td>\n",
              "    </tr>\n",
              "    <tr>\n",
              "      <th>2</th>\n",
              "      <td>La presente contribución evalúa la jurispruden...</td>\n",
              "      <td>present contribucion evalu jurisprudent tribun...</td>\n",
              "    </tr>\n",
              "    <tr>\n",
              "      <th>3</th>\n",
              "      <td>Sin embargo, este crédito fiscal expira en 201...</td>\n",
              "      <td>embarg credit fiscal expir two thousand and tw...</td>\n",
              "    </tr>\n",
              "    <tr>\n",
              "      <th>4</th>\n",
              "      <td>Este estudio explora las actitudes, comportami...</td>\n",
              "      <td>estudi explor actitud comport percepcion etic ...</td>\n",
              "    </tr>\n",
              "    <tr>\n",
              "      <th>...</th>\n",
              "      <td>...</td>\n",
              "      <td>...</td>\n",
              "    </tr>\n",
              "    <tr>\n",
              "      <th>975</th>\n",
              "      <td>Este artículo explora la historia y el impacto...</td>\n",
              "      <td>articul explor histori impact accion afirm ser...</td>\n",
              "    </tr>\n",
              "    <tr>\n",
              "      <th>976</th>\n",
              "      <td>Mientras que algunos dan mayor énfasis a la ma...</td>\n",
              "      <td>mientr dan mayor enfasis manipul preci financi...</td>\n",
              "    </tr>\n",
              "    <tr>\n",
              "      <th>977</th>\n",
              "      <td>Una innovación importante para garantizar el s...</td>\n",
              "      <td>innov import garantiz soport efect tgc tecnolo...</td>\n",
              "    </tr>\n",
              "    <tr>\n",
              "      <th>978</th>\n",
              "      <td>El Salvador continúa luchando con niveles elev...</td>\n",
              "      <td>salvador continu luch nivel elev violenci crim...</td>\n",
              "    </tr>\n",
              "    <tr>\n",
              "      <th>979</th>\n",
              "      <td>También puede reflejar una baja conciencia sob...</td>\n",
              "      <td>tambi pued reflej baj concienci papel jueg rec...</td>\n",
              "    </tr>\n",
              "  </tbody>\n",
              "</table>\n",
              "<p>980 rows × 2 columns</p>\n",
              "</div>"
            ],
            "text/plain": [
              "                                        Textos_espanol  \\\n",
              "0    1. 1. Introducción: Las Estructuras del Derech...   \n",
              "1    Las aguas subterráneas se han debatido en el c...   \n",
              "2    La presente contribución evalúa la jurispruden...   \n",
              "3    Sin embargo, este crédito fiscal expira en 201...   \n",
              "4    Este estudio explora las actitudes, comportami...   \n",
              "..                                                 ...   \n",
              "975  Este artículo explora la historia y el impacto...   \n",
              "976  Mientras que algunos dan mayor énfasis a la ma...   \n",
              "977  Una innovación importante para garantizar el s...   \n",
              "978  El Salvador continúa luchando con niveles elev...   \n",
              "979  También puede reflejar una baja conciencia sob...   \n",
              "\n",
              "                                              palabras  \n",
              "0    one one introduccion estructur derech penal tw...  \n",
              "1    agu subterran debat context tarif financi ocde...  \n",
              "2    present contribucion evalu jurisprudent tribun...  \n",
              "3    embarg credit fiscal expir two thousand and tw...  \n",
              "4    estudi explor actitud comport percepcion etic ...  \n",
              "..                                                 ...  \n",
              "975  articul explor histori impact accion afirm ser...  \n",
              "976  mientr dan mayor enfasis manipul preci financi...  \n",
              "977  innov import garantiz soport efect tgc tecnolo...  \n",
              "978  salvador continu luch nivel elev violenci crim...  \n",
              "979  tambi pued reflej baj concienci papel jueg rec...  \n",
              "\n",
              "[980 rows x 2 columns]"
            ]
          },
          "execution_count": 74,
          "metadata": {},
          "output_type": "execute_result"
        }
      ],
      "source": [
        "supatest['palabras'] = supatest['palabras'].apply(lambda x: ' '.join(map(str, x)))\n",
        "supatest"
      ]
    },
    {
      "cell_type": "markdown",
      "metadata": {
        "id": "BDB-z-oM31tP"
      },
      "source": [
        "Esta caso como nuestro objetivo principal es usar un modelo de clasificacion de arboles tendremos que separar las variables objetivo de las otra variables, algo bueno que tenemos es que la variable objetivo ya esta en numeros, y no tenemos que preocuparnos por hacer algun cambio debido a que los numeros que hay son los numeros que necesitamos"
      ]
    },
    {
      "cell_type": "code",
      "execution_count": null,
      "metadata": {
        "colab": {
          "base_uri": "https://localhost:8080/"
        },
        "id": "8m62VL7B31tQ",
        "outputId": "ecaf8cf3-b1dc-434e-dc4c-168337d581c1"
      },
      "outputs": [
        {
          "data": {
            "text/plain": [
              "6     1000\n",
              "7     1000\n",
              "16    1000\n",
              "Name: sdg, dtype: int64"
            ]
          },
          "execution_count": 75,
          "metadata": {},
          "output_type": "execute_result"
        }
      ],
      "source": [
        "X_data, y_data = data_t['palabras'],data_t['sdg']\n",
        "super_data=supatest[\"palabras\"]\n",
        "y_data\n",
        "\n",
        "\n",
        "y_data.value_counts()\n"
      ]
    },
    {
      "cell_type": "markdown",
      "metadata": {
        "id": "-wKl1eMY31tQ"
      },
      "source": [
        "En este caso tenemos podemos usar dos técnicas de vectorización de texto comunes en el procesamiento de lenguaje natural. Ambas se pueden usar  para convertir los textos  en datos numéricos."
      ]
    },
    {
      "cell_type": "code",
      "execution_count": null,
      "metadata": {
        "colab": {
          "base_uri": "https://localhost:8080/"
        },
        "id": "KKXgfUxr31tR",
        "outputId": "c9370055-1639-421f-f6f0-550928ea8f56"
      },
      "outputs": [
        {
          "name": "stdout",
          "output_type": "stream",
          "text": [
            "(3000, 28178)\n"
          ]
        },
        {
          "data": {
            "text/plain": [
              "array([0, 0, 0, ..., 0, 0, 0], dtype=int64)"
            ]
          },
          "execution_count": 76,
          "metadata": {},
          "output_type": "execute_result"
        }
      ],
      "source": [
        "dummy = CountVectorizer(binary=True)\n",
        "X_dummy = dummy.fit_transform(X_data)\n",
        "print(X_dummy.shape)\n",
        "X_dummy.toarray()[0]"
      ]
    },
    {
      "cell_type": "code",
      "execution_count": null,
      "metadata": {
        "id": "QGc3N7g3-eUz",
        "outputId": "863bea36-e53a-41a6-956f-535727e017c7"
      },
      "outputs": [
        {
          "name": "stdout",
          "output_type": "stream",
          "text": [
            "(980, 16802)\n"
          ]
        },
        {
          "data": {
            "text/plain": [
              "array([0, 0, 0, ..., 0, 0, 0], dtype=int64)"
            ]
          },
          "execution_count": 77,
          "metadata": {},
          "output_type": "execute_result"
        }
      ],
      "source": [
        "dummy = CountVectorizer(binary=True)\n",
        "supa_dummy = dummy.fit_transform(super_data)\n",
        "print(supa_dummy.shape)\n",
        "supa_dummy.toarray()[0]"
      ]
    },
    {
      "cell_type": "markdown",
      "metadata": {
        "id": "dmTkOPqu31tR"
      },
      "source": [
        "Sin embargo decidimos usar la libreria **TfidfVectorizer** ya que Asigna valores más altos a las palabras que son frecuentes en un documento pero raras en otros, lo que permite identificar palabras que son distintivas de un documento en particular, de la misma manera, Puede manejar automáticamente palabras vacías y realizar normalización, lo que simplifica el preprocesamiento del texto.\n"
      ]
    },
    {
      "cell_type": "code",
      "execution_count": null,
      "metadata": {
        "colab": {
          "base_uri": "https://localhost:8080/"
        },
        "id": "awrcX3ji31tR",
        "outputId": "5a606b15-494d-44d2-b844-e7b159e387f6"
      },
      "outputs": [
        {
          "name": "stdout",
          "output_type": "stream",
          "text": [
            "Forma de la matriz TF-IDF: (3000, 28178)\n",
            "Forma de la matriz supa-TF-IDF: (980, 16802)\n",
            "TF-IDF del primer documento:\n",
            "[0. 0. 0. ... 0. 0. 0.]\n",
            "supa-TF-IDF del primer documento:\n",
            "[0. 0. 0. ... 0. 0. 0.]\n"
          ]
        }
      ],
      "source": [
        "tfidf_vectorizer = TfidfVectorizer()\n",
        "\n",
        "# Ajustar y transformar los documentos\n",
        "X_tf_idf = tfidf_vectorizer.fit_transform(X_data)\n",
        "supa_tf_idf = tfidf_vectorizer.fit_transform(super_data)\n",
        "\n",
        "\n",
        "# Mostrar la forma de la matriz TF-IDF\n",
        "print(\"Forma de la matriz TF-IDF:\", X_tf_idf.shape)\n",
        "# Mostrar la forma de la matriz supa.tf-IDF\n",
        "print(\"Forma de la matriz supa-TF-IDF:\", supa_tf_idf.shape)\n",
        "\n",
        "# Mostrar la representación TF-IDF del primer documento\n",
        "print(\"TF-IDF del primer documento:\")\n",
        "print(X_tf_idf.toarray()[0])\n",
        "\n",
        "# Mostrar la representación TF-IDF del primer documento\n",
        "print(\"supa-TF-IDF del primer documento:\")\n",
        "print(supa_tf_idf.toarray()[0])"
      ]
    },
    {
      "cell_type": "markdown",
      "metadata": {
        "id": "5avn4mos31tR"
      },
      "source": [
        "En la mayoría de las aplicaciones de procesamiento de lenguaje natural, **TfidfVectorizer** suele ser la elección preferida debido a su capacidad para identificar palabras clave y su capacidad para lidiar con palabras vacías y realizar normalización automáticamente."
      ]
    },
    {
      "cell_type": "markdown",
      "metadata": {
        "id": "qXpSQdmG31tS"
      },
      "source": [
        "#  4.Creación y Aplicación del modelo 1\n",
        "\n"
      ]
    },
    {
      "cell_type": "markdown",
      "metadata": {
        "id": "oAm7HLvr31tS"
      },
      "source": [
        "El texto se dividiera en particiones ya que se utilizaran para entrenar el modelo de aprendizaje automático en el conjunto de entrenamiento (X_train y y_train) y luego evaluar su rendimiento en el conjunto de prueba (X_test y y_test) para medir su capacidad de generalización y hacer predicciones precisas en datos no vistos."
      ]
    },
    {
      "cell_type": "code",
      "execution_count": null,
      "metadata": {
        "id": "NGCbxtlv-eU0"
      },
      "outputs": [],
      "source": [
        "supydata=y_data[980:]"
      ]
    },
    {
      "cell_type": "code",
      "execution_count": null,
      "metadata": {
        "id": "h9hC3r1y31tS"
      },
      "outputs": [],
      "source": [
        "X_train, X_test, Y_train, Y_test = train_test_split(X_tf_idf, y_data, test_size=0.2, random_state=0)"
      ]
    },
    {
      "cell_type": "markdown",
      "metadata": {
        "id": "Jzu0aJHt31tS"
      },
      "source": [
        "Continuaremos  creando el  modelo de clasificación de árbol de decisión con una profundidad máxima de 4 y utilizaremos  la entropía como criterio de división. Este modelo se almacena en la variable arbol y se puede usar para entrenar y predecir con datos de clasificación."
      ]
    },
    {
      "cell_type": "code",
      "execution_count": null,
      "metadata": {
        "colab": {
          "base_uri": "https://localhost:8080/",
          "height": 75
        },
        "id": "E3fAe2ov31tS",
        "outputId": "ea442c0b-9d52-4f7f-92f1-15e69444efa6"
      },
      "outputs": [
        {
          "data": {
            "text/html": [
              "<style>#sk-container-id-1 {color: black;}#sk-container-id-1 pre{padding: 0;}#sk-container-id-1 div.sk-toggleable {background-color: white;}#sk-container-id-1 label.sk-toggleable__label {cursor: pointer;display: block;width: 100%;margin-bottom: 0;padding: 0.3em;box-sizing: border-box;text-align: center;}#sk-container-id-1 label.sk-toggleable__label-arrow:before {content: \"▸\";float: left;margin-right: 0.25em;color: #696969;}#sk-container-id-1 label.sk-toggleable__label-arrow:hover:before {color: black;}#sk-container-id-1 div.sk-estimator:hover label.sk-toggleable__label-arrow:before {color: black;}#sk-container-id-1 div.sk-toggleable__content {max-height: 0;max-width: 0;overflow: hidden;text-align: left;background-color: #f0f8ff;}#sk-container-id-1 div.sk-toggleable__content pre {margin: 0.2em;color: black;border-radius: 0.25em;background-color: #f0f8ff;}#sk-container-id-1 input.sk-toggleable__control:checked~div.sk-toggleable__content {max-height: 200px;max-width: 100%;overflow: auto;}#sk-container-id-1 input.sk-toggleable__control:checked~label.sk-toggleable__label-arrow:before {content: \"▾\";}#sk-container-id-1 div.sk-estimator input.sk-toggleable__control:checked~label.sk-toggleable__label {background-color: #d4ebff;}#sk-container-id-1 div.sk-label input.sk-toggleable__control:checked~label.sk-toggleable__label {background-color: #d4ebff;}#sk-container-id-1 input.sk-hidden--visually {border: 0;clip: rect(1px 1px 1px 1px);clip: rect(1px, 1px, 1px, 1px);height: 1px;margin: -1px;overflow: hidden;padding: 0;position: absolute;width: 1px;}#sk-container-id-1 div.sk-estimator {font-family: monospace;background-color: #f0f8ff;border: 1px dotted black;border-radius: 0.25em;box-sizing: border-box;margin-bottom: 0.5em;}#sk-container-id-1 div.sk-estimator:hover {background-color: #d4ebff;}#sk-container-id-1 div.sk-parallel-item::after {content: \"\";width: 100%;border-bottom: 1px solid gray;flex-grow: 1;}#sk-container-id-1 div.sk-label:hover label.sk-toggleable__label {background-color: #d4ebff;}#sk-container-id-1 div.sk-serial::before {content: \"\";position: absolute;border-left: 1px solid gray;box-sizing: border-box;top: 0;bottom: 0;left: 50%;z-index: 0;}#sk-container-id-1 div.sk-serial {display: flex;flex-direction: column;align-items: center;background-color: white;padding-right: 0.2em;padding-left: 0.2em;position: relative;}#sk-container-id-1 div.sk-item {position: relative;z-index: 1;}#sk-container-id-1 div.sk-parallel {display: flex;align-items: stretch;justify-content: center;background-color: white;position: relative;}#sk-container-id-1 div.sk-item::before, #sk-container-id-1 div.sk-parallel-item::before {content: \"\";position: absolute;border-left: 1px solid gray;box-sizing: border-box;top: 0;bottom: 0;left: 50%;z-index: -1;}#sk-container-id-1 div.sk-parallel-item {display: flex;flex-direction: column;z-index: 1;position: relative;background-color: white;}#sk-container-id-1 div.sk-parallel-item:first-child::after {align-self: flex-end;width: 50%;}#sk-container-id-1 div.sk-parallel-item:last-child::after {align-self: flex-start;width: 50%;}#sk-container-id-1 div.sk-parallel-item:only-child::after {width: 0;}#sk-container-id-1 div.sk-dashed-wrapped {border: 1px dashed gray;margin: 0 0.4em 0.5em 0.4em;box-sizing: border-box;padding-bottom: 0.4em;background-color: white;}#sk-container-id-1 div.sk-label label {font-family: monospace;font-weight: bold;display: inline-block;line-height: 1.2em;}#sk-container-id-1 div.sk-label-container {text-align: center;}#sk-container-id-1 div.sk-container {/* jupyter's `normalize.less` sets `[hidden] { display: none; }` but bootstrap.min.css set `[hidden] { display: none !important; }` so we also need the `!important` here to be able to override the default hidden behavior on the sphinx rendered scikit-learn.org. See: https://github.com/scikit-learn/scikit-learn/issues/21755 */display: inline-block !important;position: relative;}#sk-container-id-1 div.sk-text-repr-fallback {display: none;}</style><div id=\"sk-container-id-1\" class=\"sk-top-container\"><div class=\"sk-text-repr-fallback\"><pre>DecisionTreeClassifier(criterion=&#x27;entropy&#x27;, max_depth=4, random_state=0)</pre><b>In a Jupyter environment, please rerun this cell to show the HTML representation or trust the notebook. <br />On GitHub, the HTML representation is unable to render, please try loading this page with nbviewer.org.</b></div><div class=\"sk-container\" hidden><div class=\"sk-item\"><div class=\"sk-estimator sk-toggleable\"><input class=\"sk-toggleable__control sk-hidden--visually\" id=\"sk-estimator-id-1\" type=\"checkbox\" checked><label for=\"sk-estimator-id-1\" class=\"sk-toggleable__label sk-toggleable__label-arrow\">DecisionTreeClassifier</label><div class=\"sk-toggleable__content\"><pre>DecisionTreeClassifier(criterion=&#x27;entropy&#x27;, max_depth=4, random_state=0)</pre></div></div></div></div></div>"
            ],
            "text/plain": [
              "DecisionTreeClassifier(criterion='entropy', max_depth=4, random_state=0)"
            ]
          },
          "execution_count": 80,
          "metadata": {},
          "output_type": "execute_result"
        }
      ],
      "source": [
        "arbol = DecisionTreeClassifier(criterion='entropy', max_depth = 4, random_state = 0)\n",
        "arbol"
      ]
    },
    {
      "cell_type": "markdown",
      "metadata": {
        "id": "j611QZI731tT"
      },
      "source": []
    },
    {
      "cell_type": "markdown",
      "metadata": {
        "id": "FcM87VQM31tT"
      },
      "source": [
        "Lo que haremos es  para el proceso de entrenamiento del  modelo  ya que nos permitira  que el modelo \"aprenda\" a partir de los datos de entrenamiento."
      ]
    },
    {
      "cell_type": "code",
      "execution_count": null,
      "metadata": {
        "id": "drs0jF_T31tT"
      },
      "outputs": [],
      "source": [
        "arbol = arbol.fit(X_train,Y_train)"
      ]
    },
    {
      "cell_type": "markdown",
      "metadata": {
        "id": "MlrSq85O31tT"
      },
      "source": [
        "y ahora con la particion de datos que usamos, vamos a predecir lo valores de ciertos textos para mirar como el modelo se entreno y para posterior determinar si quizas el modelo se deben nutrir con mas informacion y mas textos"
      ]
    },
    {
      "cell_type": "code",
      "execution_count": null,
      "metadata": {
        "id": "zepT5hbH31tU"
      },
      "outputs": [],
      "source": [
        "y_pred = arbol.predict(X_test)"
      ]
    },
    {
      "cell_type": "code",
      "execution_count": null,
      "metadata": {
        "id": "fd9WePwq31tU"
      },
      "outputs": [],
      "source": [
        "cm = confusion_matrix(Y_test, y_pred)"
      ]
    },
    {
      "cell_type": "code",
      "execution_count": null,
      "metadata": {
        "colab": {
          "base_uri": "https://localhost:8080/",
          "height": 449
        },
        "id": "gbHjvuTe31tV",
        "outputId": "4705a440-96e0-430c-f4ed-af54693e8563"
      },
      "outputs": [
        {
          "data": {
            "image/png": "[encoded data removed]",
            "text/plain": [
              "<Figure size 640x480 with 2 Axes>"
            ]
          },
          "metadata": {},
          "output_type": "display_data"
        }
      ],
      "source": [
        "disp = ConfusionMatrixDisplay(confusion_matrix=cm, display_labels=arbol.classes_)\n",
        "disp.plot(cmap=plt.cm.Blues)\n",
        "\n",
        "plt.show()"
      ]
    },
    {
      "cell_type": "markdown",
      "metadata": {
        "id": "aGGBAqGg31tV"
      },
      "source": [
        "Y Nos podemos dar cuenta que  El modelo clasificó correctamente 216 instancias en la categoría ODS 6. Sin embargo, hubo 3 instancias de ODS 6 que se clasificaron incorrectamente como ODS 7 y 1 instancias de ODS 6 que se clasificaron incorrectamente como ODS 16.  \n",
        "\n",
        "Por otra parte, El modelo clasificó correctamente 152 instancias en la categoría ODS 7. Hubo 3 instancias de ODS 7 que se clasificaron incorrectamente como ODS 6 y 1 instancias de ODS 7 que se clasificaron incorrectamente como ODS 16.\n",
        "\n",
        "El modelo clasificó correctamente 174 instancias en la categoría ODS 16. Hubo 18 instancias de ODS 16 que se clasificó incorrectamente como ODS 6 y 32 instancia de ODS 16 que se clasificó incorrectamente como ODS 7."
      ]
    },
    {
      "cell_type": "code",
      "execution_count": null,
      "metadata": {
        "colab": {
          "base_uri": "https://localhost:8080/"
        },
        "id": "1cG7kbOO31tW",
        "outputId": "857d4f5e-c57d-4c2e-9a3f-2844d804bb56"
      },
      "outputs": [
        {
          "data": {
            "text/plain": [
              "array([[216,   3,  18],\n",
              "       [  3, 152,  32],\n",
              "       [  1,   1, 174]], dtype=int64)"
            ]
          },
          "execution_count": 85,
          "metadata": {},
          "output_type": "execute_result"
        }
      ],
      "source": [
        "confusion_matrix(Y_test, y_pred)"
      ]
    },
    {
      "cell_type": "markdown",
      "metadata": {
        "id": "4KjrWX1c31tW"
      },
      "source": [
        "En base a los resultados obtenidos podemos decir que:\n",
        "\n",
        " en (Accuracy): El valor de 0.90 indica que el 90% de las predicciones realizadas por el modelo son correctas. Esto sugiere un buen rendimiento general del modelo.\n",
        "\n",
        " Por otro lado Recall obtuvo  un valor de 0.9033, el modelo tiene un alto nivel de \"recall\" (también conocido como \"sensibilidad\" o \"true positive rate\"). Esto significa que el modelo es eficiente para identificar ejemplos positivos en el conjunto de datos.\n",
        "\n",
        " En cuanto a la presicion indica que el 91.94% de las instancias que el modelo clasifica como positivas son realmente positivas. Esto sugiere que el modelo minimiza las falsas alarmas.\n",
        "\n",
        " Y en cuanto al F1 score  de 0.9048 es una medida que combina tanto la precisión como el recall en una sola métrica. Es especialmente útil cuando hay un desequilibrio entre las clases. Un valor alto de la puntuación F1 indica un buen equilibrio entre precisión y recall."
      ]
    },
    {
      "cell_type": "code",
      "execution_count": null,
      "metadata": {
        "colab": {
          "base_uri": "https://localhost:8080/"
        },
        "id": "pfctU3LI31tW",
        "outputId": "54eb75f2-0446-44f4-8a1f-ad3babddd981"
      },
      "outputs": [
        {
          "name": "stdout",
          "output_type": "stream",
          "text": [
            "Exactitud: 0.90\n",
            "Recall: 0.9033333333333333\n",
            "Precisión: 0.9193505383505385\n",
            "Puntuación F1: 0.9048210337839419\n"
          ]
        }
      ],
      "source": [
        "\n",
        "\n",
        "print('Exactitud: %.2f' % accuracy_score(Y_test, y_pred))\n",
        "\n",
        "print(\"Recall: {}\".format(recall_score(Y_test,y_pred, average='weighted')))\n",
        "print(\"Precisión: {}\".format(precision_score(Y_test,y_pred, average='weighted')))\n",
        "print(\"Puntuación F1: {}\".format(f1_score(Y_test,y_pred, average='weighted')))"
      ]
    },
    {
      "cell_type": "code",
      "execution_count": null,
      "metadata": {
        "colab": {
          "base_uri": "https://localhost:8080/"
        },
        "id": "_SNeK67-31tX",
        "outputId": "11cf162b-3860-43cc-c7d5-98021ffa8b49"
      },
      "outputs": [
        {
          "data": {
            "text/plain": [
              "array([0., 0., 0., ..., 0., 0., 0.])"
            ]
          },
          "execution_count": 87,
          "metadata": {},
          "output_type": "execute_result"
        }
      ],
      "source": [
        "importancia= arbol.feature_importances_\n",
        "importancia"
      ]
    },
    {
      "cell_type": "markdown",
      "metadata": {
        "id": "8dyex3uN31tX"
      },
      "source": [
        "## 4.1 Creación y Aplicación del modelo con HIPER PARAMETROS\n"
      ]
    },
    {
      "cell_type": "markdown",
      "metadata": {
        "id": "EfgaOP4p31tY"
      },
      "source": [
        "Ahora para esta nueva prueba aplicariemos Hiper parametros con nuestro modelo para evaluar si es correcto o no"
      ]
    },
    {
      "cell_type": "code",
      "execution_count": null,
      "metadata": {
        "id": "JE4fTiog31tY"
      },
      "outputs": [],
      "source": [
        "\n",
        "# combinación específica de hiperparámetros.\n",
        "X_trainval, X_val, Y_trainval, Y_val = train_test_split(X_train, Y_train, test_size = 0.15, random_state = 0)"
      ]
    },
    {
      "cell_type": "markdown",
      "metadata": {
        "id": "vtPweZaH31tY"
      },
      "source": [
        "Fijaremos  un valor de max_depth en 8, construyamos el modelo y probemos sobre validación. Utilicemos la exactitud como métrica\n"
      ]
    },
    {
      "cell_type": "code",
      "execution_count": null,
      "metadata": {
        "id": "cGoDXErI31tZ"
      },
      "outputs": [],
      "source": [
        "arbol = DecisionTreeClassifier(criterion='entropy', max_depth = 8, random_state=0)\n",
        "arbol = arbol.fit(X_trainval,Y_trainval)"
      ]
    },
    {
      "cell_type": "markdown",
      "metadata": {
        "id": "Zf_JCY0331tZ"
      },
      "source": [
        "Ahora configuraremos  validación cruzada K-Foldpara evaluar el rendimiento de un modelo de aprendizaje automático. Con los parámetros n_splits=10, lo que significa que estaremos  dividiendo tus datos en 10 \"pliegues\" o subconjuntos. Y con la  opción shuffle=True indicaremos  que se realizará una mezcla aleatoria de los datos antes de la división, lo que ayuda a evitar sesgos en la partición."
      ]
    },
    {
      "cell_type": "code",
      "execution_count": null,
      "metadata": {
        "id": "kSRXvNJr31tZ"
      },
      "outputs": [],
      "source": [
        "particiones = KFold(n_splits=10, shuffle=True, random_state = 0)"
      ]
    },
    {
      "cell_type": "code",
      "execution_count": null,
      "metadata": {
        "id": "iqGLyIBs31ta"
      },
      "outputs": [],
      "source": [
        "param_grid = {'criterion':['gini', 'entropy'],'max_depth':[4,6,8,10,20]}"
      ]
    },
    {
      "cell_type": "code",
      "execution_count": null,
      "metadata": {
        "id": "4C7PzP9C31ta"
      },
      "outputs": [],
      "source": [
        "arbol = DecisionTreeClassifier(random_state=0)"
      ]
    },
    {
      "cell_type": "markdown",
      "metadata": {
        "id": "jAJ8y66231ta"
      },
      "source": [
        "Ahora realizaremos una búsqueda sistemática de hiperparámetros para el modelo de árbol de decisión y luego entrena un nuevo modelo con los hiperparámetros óptimos encontrados. Esto te permitira  mejorar el rendimiento del modelo al encontrar la mejor combinación de parámetros que se adapta a nuestros textos"
      ]
    },
    {
      "cell_type": "code",
      "execution_count": null,
      "metadata": {
        "colab": {
          "base_uri": "https://localhost:8080/",
          "height": 118
        },
        "id": "4Y0s-jyK31ta",
        "outputId": "f26d39b4-61f2-4c04-f1ea-057633e352e2"
      },
      "outputs": [
        {
          "data": {
            "text/html": [
              "<style>#sk-container-id-2 {color: black;}#sk-container-id-2 pre{padding: 0;}#sk-container-id-2 div.sk-toggleable {background-color: white;}#sk-container-id-2 label.sk-toggleable__label {cursor: pointer;display: block;width: 100%;margin-bottom: 0;padding: 0.3em;box-sizing: border-box;text-align: center;}#sk-container-id-2 label.sk-toggleable__label-arrow:before {content: \"▸\";float: left;margin-right: 0.25em;color: #696969;}#sk-container-id-2 label.sk-toggleable__label-arrow:hover:before {color: black;}#sk-container-id-2 div.sk-estimator:hover label.sk-toggleable__label-arrow:before {color: black;}#sk-container-id-2 div.sk-toggleable__content {max-height: 0;max-width: 0;overflow: hidden;text-align: left;background-color: #f0f8ff;}#sk-container-id-2 div.sk-toggleable__content pre {margin: 0.2em;color: black;border-radius: 0.25em;background-color: #f0f8ff;}#sk-container-id-2 input.sk-toggleable__control:checked~div.sk-toggleable__content {max-height: 200px;max-width: 100%;overflow: auto;}#sk-container-id-2 input.sk-toggleable__control:checked~label.sk-toggleable__label-arrow:before {content: \"▾\";}#sk-container-id-2 div.sk-estimator input.sk-toggleable__control:checked~label.sk-toggleable__label {background-color: #d4ebff;}#sk-container-id-2 div.sk-label input.sk-toggleable__control:checked~label.sk-toggleable__label {background-color: #d4ebff;}#sk-container-id-2 input.sk-hidden--visually {border: 0;clip: rect(1px 1px 1px 1px);clip: rect(1px, 1px, 1px, 1px);height: 1px;margin: -1px;overflow: hidden;padding: 0;position: absolute;width: 1px;}#sk-container-id-2 div.sk-estimator {font-family: monospace;background-color: #f0f8ff;border: 1px dotted black;border-radius: 0.25em;box-sizing: border-box;margin-bottom: 0.5em;}#sk-container-id-2 div.sk-estimator:hover {background-color: #d4ebff;}#sk-container-id-2 div.sk-parallel-item::after {content: \"\";width: 100%;border-bottom: 1px solid gray;flex-grow: 1;}#sk-container-id-2 div.sk-label:hover label.sk-toggleable__label {background-color: #d4ebff;}#sk-container-id-2 div.sk-serial::before {content: \"\";position: absolute;border-left: 1px solid gray;box-sizing: border-box;top: 0;bottom: 0;left: 50%;z-index: 0;}#sk-container-id-2 div.sk-serial {display: flex;flex-direction: column;align-items: center;background-color: white;padding-right: 0.2em;padding-left: 0.2em;position: relative;}#sk-container-id-2 div.sk-item {position: relative;z-index: 1;}#sk-container-id-2 div.sk-parallel {display: flex;align-items: stretch;justify-content: center;background-color: white;position: relative;}#sk-container-id-2 div.sk-item::before, #sk-container-id-2 div.sk-parallel-item::before {content: \"\";position: absolute;border-left: 1px solid gray;box-sizing: border-box;top: 0;bottom: 0;left: 50%;z-index: -1;}#sk-container-id-2 div.sk-parallel-item {display: flex;flex-direction: column;z-index: 1;position: relative;background-color: white;}#sk-container-id-2 div.sk-parallel-item:first-child::after {align-self: flex-end;width: 50%;}#sk-container-id-2 div.sk-parallel-item:last-child::after {align-self: flex-start;width: 50%;}#sk-container-id-2 div.sk-parallel-item:only-child::after {width: 0;}#sk-container-id-2 div.sk-dashed-wrapped {border: 1px dashed gray;margin: 0 0.4em 0.5em 0.4em;box-sizing: border-box;padding-bottom: 0.4em;background-color: white;}#sk-container-id-2 div.sk-label label {font-family: monospace;font-weight: bold;display: inline-block;line-height: 1.2em;}#sk-container-id-2 div.sk-label-container {text-align: center;}#sk-container-id-2 div.sk-container {/* jupyter's `normalize.less` sets `[hidden] { display: none; }` but bootstrap.min.css set `[hidden] { display: none !important; }` so we also need the `!important` here to be able to override the default hidden behavior on the sphinx rendered scikit-learn.org. See: https://github.com/scikit-learn/scikit-learn/issues/21755 */display: inline-block !important;position: relative;}#sk-container-id-2 div.sk-text-repr-fallback {display: none;}</style><div id=\"sk-container-id-2\" class=\"sk-top-container\"><div class=\"sk-text-repr-fallback\"><pre>GridSearchCV(cv=KFold(n_splits=10, random_state=0, shuffle=True),\n",
              "             estimator=DecisionTreeClassifier(random_state=0),\n",
              "             param_grid={&#x27;criterion&#x27;: [&#x27;gini&#x27;, &#x27;entropy&#x27;],\n",
              "                         &#x27;max_depth&#x27;: [4, 6, 8, 10, 20]})</pre><b>In a Jupyter environment, please rerun this cell to show the HTML representation or trust the notebook. <br />On GitHub, the HTML representation is unable to render, please try loading this page with nbviewer.org.</b></div><div class=\"sk-container\" hidden><div class=\"sk-item sk-dashed-wrapped\"><div class=\"sk-label-container\"><div class=\"sk-label sk-toggleable\"><input class=\"sk-toggleable__control sk-hidden--visually\" id=\"sk-estimator-id-2\" type=\"checkbox\" ><label for=\"sk-estimator-id-2\" class=\"sk-toggleable__label sk-toggleable__label-arrow\">GridSearchCV</label><div class=\"sk-toggleable__content\"><pre>GridSearchCV(cv=KFold(n_splits=10, random_state=0, shuffle=True),\n",
              "             estimator=DecisionTreeClassifier(random_state=0),\n",
              "             param_grid={&#x27;criterion&#x27;: [&#x27;gini&#x27;, &#x27;entropy&#x27;],\n",
              "                         &#x27;max_depth&#x27;: [4, 6, 8, 10, 20]})</pre></div></div></div><div class=\"sk-parallel\"><div class=\"sk-parallel-item\"><div class=\"sk-item\"><div class=\"sk-label-container\"><div class=\"sk-label sk-toggleable\"><input class=\"sk-toggleable__control sk-hidden--visually\" id=\"sk-estimator-id-3\" type=\"checkbox\" ><label for=\"sk-estimator-id-3\" class=\"sk-toggleable__label sk-toggleable__label-arrow\">estimator: DecisionTreeClassifier</label><div class=\"sk-toggleable__content\"><pre>DecisionTreeClassifier(random_state=0)</pre></div></div></div><div class=\"sk-serial\"><div class=\"sk-item\"><div class=\"sk-estimator sk-toggleable\"><input class=\"sk-toggleable__control sk-hidden--visually\" id=\"sk-estimator-id-4\" type=\"checkbox\" ><label for=\"sk-estimator-id-4\" class=\"sk-toggleable__label sk-toggleable__label-arrow\">DecisionTreeClassifier</label><div class=\"sk-toggleable__content\"><pre>DecisionTreeClassifier(random_state=0)</pre></div></div></div></div></div></div></div></div></div></div>"
            ],
            "text/plain": [
              "GridSearchCV(cv=KFold(n_splits=10, random_state=0, shuffle=True),\n",
              "             estimator=DecisionTreeClassifier(random_state=0),\n",
              "             param_grid={'criterion': ['gini', 'entropy'],\n",
              "                         'max_depth': [4, 6, 8, 10, 20]})"
            ]
          },
          "execution_count": 93,
          "metadata": {},
          "output_type": "execute_result"
        }
      ],
      "source": [
        "mejor_modelo = GridSearchCV(arbol, param_grid, cv=particiones)\n",
        "# Ajuste del modelo\n",
        "mejor_modelo.fit(X_train, Y_train)"
      ]
    },
    {
      "cell_type": "code",
      "execution_count": null,
      "metadata": {
        "colab": {
          "base_uri": "https://localhost:8080/"
        },
        "id": "qiG_MMwE31tb",
        "outputId": "fe97dfca-66f5-41fc-9818-6133ad776bdb"
      },
      "outputs": [
        {
          "data": {
            "text/plain": [
              "{'criterion': 'entropy', 'max_depth': 20}"
            ]
          },
          "execution_count": 94,
          "metadata": {},
          "output_type": "execute_result"
        }
      ],
      "source": [
        "mejor_modelo.best_params_"
      ]
    },
    {
      "cell_type": "markdown",
      "metadata": {
        "id": "iLKV35Rm31tb"
      },
      "source": [
        "los nuevos resultados indican un rendimiento excepcionalmente alto para el algoritmo.\n",
        "\n",
        "pasando de una Exactitud de **0.90 a  0.99**\n",
        "pasando de  Recall de  **0.903 a 0.95**\n",
        "\n",
        "y un puntuaje de F1 score de   **0.90 a 0.95**"
      ]
    },
    {
      "cell_type": "markdown",
      "metadata": {
        "id": "Z91ZoWZ331tb"
      },
      "source": [
        "Exactitud: 0.90\n",
        "Recall: 0.9033333333333333\n",
        "Precisión: 0.9193505383505385\n",
        "Puntuación F1: 0.9048210337839419\n",
        "\n",
        "En cuanto al F1 score es alta y equilibrada, lo que sugiere que el modelo mantiene un buen equilibrio entre precisión y recall.\n",
        "y sobre la Exactitud   del 0.95 es un indicador sólido de la capacidad del modelo para realizar predicciones precisas."
      ]
    },
    {
      "cell_type": "code",
      "execution_count": null,
      "metadata": {
        "colab": {
          "base_uri": "https://localhost:8080/"
        },
        "id": "gUERPcrl31tb",
        "outputId": "8235b81f-cd71-417e-a09e-55c9410856bb"
      },
      "outputs": [
        {
          "name": "stdout",
          "output_type": "stream",
          "text": [
            "Exactitud sobre entrenamiento: 0.99\n",
            "Exactitud sobre test: 0.95\n",
            "Precisión: 0.9527038347751189\n",
            "Puntuación F1: 0.9518236985310751\n"
          ]
        }
      ],
      "source": [
        "# Obtener el mejor modelo.\n",
        "arbol_final = mejor_modelo.best_estimator_\n",
        "# Probemos ahora este modelo sobre test.\n",
        "y_pred_train = arbol_final.predict(X_train)\n",
        "y_pred_test = arbol_final.predict(X_test)\n",
        "\n",
        "print('Exactitud sobre entrenamiento: %.2f' % accuracy_score(Y_train, y_pred_train))\n",
        "print('Exactitud sobre test: %.2f' % accuracy_score(Y_test, y_pred_test))\n",
        "\n",
        "\n",
        "print(\"Precisión: {}\".format(precision_score(Y_test,y_pred_test, average='weighted')))\n",
        "print(\"Puntuación F1: {}\".format(f1_score(Y_test,y_pred_test, average='weighted')))\n",
        "\n"
      ]
    },
    {
      "cell_type": "code",
      "execution_count": null,
      "metadata": {
        "colab": {
          "base_uri": "https://localhost:8080/"
        },
        "id": "SxBAwNno31tc",
        "outputId": "683e946c-652d-478c-f02b-724ca04b3675"
      },
      "outputs": [
        {
          "name": "stdout",
          "output_type": "stream",
          "text": [
            "              precision    recall  f1-score   support\n",
            "\n",
            "           6       0.97      0.95      0.96       237\n",
            "           7       0.91      0.97      0.94       187\n",
            "          16       0.97      0.94      0.95       176\n",
            "\n",
            "    accuracy                           0.95       600\n",
            "   macro avg       0.95      0.95      0.95       600\n",
            "weighted avg       0.95      0.95      0.95       600\n",
            "\n"
          ]
        }
      ],
      "source": [
        "print(classification_report(Y_test, y_pred_test))"
      ]
    },
    {
      "cell_type": "markdown",
      "metadata": {
        "id": "3g-1X3Xh31tc"
      },
      "source": [
        "Nos podemos dar cuenta que en la nueva matriz que hicimos la cantidad de acertar a los valores aumenta, respecto a el ODS 16 son mas la cantidad de registros que podemos predecir exactos, por otra parte si bien es cierto que el numeero de falso positivo aumento esto no implica que mi algoritmo no haya mejorado"
      ]
    },
    {
      "cell_type": "code",
      "execution_count": null,
      "metadata": {
        "id": "UFb7ABf331tc"
      },
      "outputs": [],
      "source": [
        "cm = confusion_matrix(Y_test, y_pred_test)"
      ]
    },
    {
      "cell_type": "code",
      "execution_count": null,
      "metadata": {
        "colab": {
          "base_uri": "https://localhost:8080/",
          "height": 466
        },
        "id": "WilXdL-531td",
        "outputId": "86cb7015-b2c0-4764-a739-518837e83a44"
      },
      "outputs": [
        {
          "data": {
            "text/plain": [
              "<sklearn.metrics._plot.confusion_matrix.ConfusionMatrixDisplay at 0x25cf0669650>"
            ]
          },
          "execution_count": 98,
          "metadata": {},
          "output_type": "execute_result"
        },
        {
          "data": {
            "image/png": "[encoded data removed]",
            "text/plain": [
              "<Figure size 640x480 with 2 Axes>"
            ]
          },
          "metadata": {},
          "output_type": "display_data"
        }
      ],
      "source": [
        "disp = ConfusionMatrixDisplay(confusion_matrix=cm, display_labels=arbol_final.classes_)\n",
        "disp.plot(cmap=plt.cm.Blues)\n"
      ]
    },
    {
      "cell_type": "markdown",
      "metadata": {
        "id": "oxYugfD8A2ru"
      },
      "source": [
        "# 5.Creación y Aplicación del modelo 2\n"
      ]
    },
    {
      "cell_type": "markdown",
      "metadata": {
        "id": "06gH7TFXDBgb"
      },
      "source": [
        "Random Forest"
      ]
    },
    {
      "cell_type": "markdown",
      "metadata": {
        "id": "tRjf_WABNCNC"
      },
      "source": [
        "Crea un modelo de clasificación utilizando el algoritmo Random Forest con una semilla aleatoria establecida en 1 para garantizar la reproducibilidad de los resultados.\n"
      ]
    },
    {
      "cell_type": "code",
      "execution_count": null,
      "metadata": {
        "id": "csDnHiu2DDyG"
      },
      "outputs": [],
      "source": [
        "rf_model = RandomForestClassifier(random_state=1)"
      ]
    },
    {
      "cell_type": "markdown",
      "metadata": {
        "id": "Ayubb_i8NHDB"
      },
      "source": []
    },
    {
      "cell_type": "markdown",
      "metadata": {
        "id": "lr7yJ7KYNIX_"
      },
      "source": [
        "El modelo se entrena para aprender a predecir las etiquetas de clase en base a las\n",
        "características de los datos de entrenamiento."
      ]
    },
    {
      "cell_type": "code",
      "execution_count": null,
      "metadata": {
        "colab": {
          "base_uri": "https://localhost:8080/",
          "height": 75
        },
        "id": "J-_kN7srDV6E",
        "outputId": "f7b19d3e-c209-44d8-ffd5-387280f278c8"
      },
      "outputs": [
        {
          "data": {
            "text/html": [
              "<style>#sk-container-id-3 {color: black;}#sk-container-id-3 pre{padding: 0;}#sk-container-id-3 div.sk-toggleable {background-color: white;}#sk-container-id-3 label.sk-toggleable__label {cursor: pointer;display: block;width: 100%;margin-bottom: 0;padding: 0.3em;box-sizing: border-box;text-align: center;}#sk-container-id-3 label.sk-toggleable__label-arrow:before {content: \"▸\";float: left;margin-right: 0.25em;color: #696969;}#sk-container-id-3 label.sk-toggleable__label-arrow:hover:before {color: black;}#sk-container-id-3 div.sk-estimator:hover label.sk-toggleable__label-arrow:before {color: black;}#sk-container-id-3 div.sk-toggleable__content {max-height: 0;max-width: 0;overflow: hidden;text-align: left;background-color: #f0f8ff;}#sk-container-id-3 div.sk-toggleable__content pre {margin: 0.2em;color: black;border-radius: 0.25em;background-color: #f0f8ff;}#sk-container-id-3 input.sk-toggleable__control:checked~div.sk-toggleable__content {max-height: 200px;max-width: 100%;overflow: auto;}#sk-container-id-3 input.sk-toggleable__control:checked~label.sk-toggleable__label-arrow:before {content: \"▾\";}#sk-container-id-3 div.sk-estimator input.sk-toggleable__control:checked~label.sk-toggleable__label {background-color: #d4ebff;}#sk-container-id-3 div.sk-label input.sk-toggleable__control:checked~label.sk-toggleable__label {background-color: #d4ebff;}#sk-container-id-3 input.sk-hidden--visually {border: 0;clip: rect(1px 1px 1px 1px);clip: rect(1px, 1px, 1px, 1px);height: 1px;margin: -1px;overflow: hidden;padding: 0;position: absolute;width: 1px;}#sk-container-id-3 div.sk-estimator {font-family: monospace;background-color: #f0f8ff;border: 1px dotted black;border-radius: 0.25em;box-sizing: border-box;margin-bottom: 0.5em;}#sk-container-id-3 div.sk-estimator:hover {background-color: #d4ebff;}#sk-container-id-3 div.sk-parallel-item::after {content: \"\";width: 100%;border-bottom: 1px solid gray;flex-grow: 1;}#sk-container-id-3 div.sk-label:hover label.sk-toggleable__label {background-color: #d4ebff;}#sk-container-id-3 div.sk-serial::before {content: \"\";position: absolute;border-left: 1px solid gray;box-sizing: border-box;top: 0;bottom: 0;left: 50%;z-index: 0;}#sk-container-id-3 div.sk-serial {display: flex;flex-direction: column;align-items: center;background-color: white;padding-right: 0.2em;padding-left: 0.2em;position: relative;}#sk-container-id-3 div.sk-item {position: relative;z-index: 1;}#sk-container-id-3 div.sk-parallel {display: flex;align-items: stretch;justify-content: center;background-color: white;position: relative;}#sk-container-id-3 div.sk-item::before, #sk-container-id-3 div.sk-parallel-item::before {content: \"\";position: absolute;border-left: 1px solid gray;box-sizing: border-box;top: 0;bottom: 0;left: 50%;z-index: -1;}#sk-container-id-3 div.sk-parallel-item {display: flex;flex-direction: column;z-index: 1;position: relative;background-color: white;}#sk-container-id-3 div.sk-parallel-item:first-child::after {align-self: flex-end;width: 50%;}#sk-container-id-3 div.sk-parallel-item:last-child::after {align-self: flex-start;width: 50%;}#sk-container-id-3 div.sk-parallel-item:only-child::after {width: 0;}#sk-container-id-3 div.sk-dashed-wrapped {border: 1px dashed gray;margin: 0 0.4em 0.5em 0.4em;box-sizing: border-box;padding-bottom: 0.4em;background-color: white;}#sk-container-id-3 div.sk-label label {font-family: monospace;font-weight: bold;display: inline-block;line-height: 1.2em;}#sk-container-id-3 div.sk-label-container {text-align: center;}#sk-container-id-3 div.sk-container {/* jupyter's `normalize.less` sets `[hidden] { display: none; }` but bootstrap.min.css set `[hidden] { display: none !important; }` so we also need the `!important` here to be able to override the default hidden behavior on the sphinx rendered scikit-learn.org. See: https://github.com/scikit-learn/scikit-learn/issues/21755 */display: inline-block !important;position: relative;}#sk-container-id-3 div.sk-text-repr-fallback {display: none;}</style><div id=\"sk-container-id-3\" class=\"sk-top-container\"><div class=\"sk-text-repr-fallback\"><pre>RandomForestClassifier(random_state=1)</pre><b>In a Jupyter environment, please rerun this cell to show the HTML representation or trust the notebook. <br />On GitHub, the HTML representation is unable to render, please try loading this page with nbviewer.org.</b></div><div class=\"sk-container\" hidden><div class=\"sk-item\"><div class=\"sk-estimator sk-toggleable\"><input class=\"sk-toggleable__control sk-hidden--visually\" id=\"sk-estimator-id-5\" type=\"checkbox\" checked><label for=\"sk-estimator-id-5\" class=\"sk-toggleable__label sk-toggleable__label-arrow\">RandomForestClassifier</label><div class=\"sk-toggleable__content\"><pre>RandomForestClassifier(random_state=1)</pre></div></div></div></div></div>"
            ],
            "text/plain": [
              "RandomForestClassifier(random_state=1)"
            ]
          },
          "execution_count": 100,
          "metadata": {},
          "output_type": "execute_result"
        }
      ],
      "source": [
        "rf_model.fit(X_train, Y_train)"
      ]
    },
    {
      "cell_type": "markdown",
      "metadata": {
        "id": "KNMTswmiNYRR"
      },
      "source": [
        "Genera predicciones utilizando el modelo Random Forest (rf_model) previamente entrenado"
      ]
    },
    {
      "cell_type": "code",
      "execution_count": null,
      "metadata": {
        "id": "GwdiGWQHDX4v"
      },
      "outputs": [],
      "source": [
        "preds_train_rf = rf_model.predict(X_train)\n",
        "preds_test_rf = rf_model.predict(X_test)"
      ]
    },
    {
      "cell_type": "markdown",
      "metadata": {
        "id": "-8zrogwoNege"
      },
      "source": [
        "Calcula varias matrices de confusión para evaluar el rendimiento del modelo Random Forest\n",
        "en los conjuntos de datos de entrenamiento y prueba"
      ]
    },
    {
      "cell_type": "code",
      "execution_count": null,
      "metadata": {
        "id": "sO791D6SDcpk"
      },
      "outputs": [],
      "source": [
        "cm_train_rf = confusion_matrix(Y_train, preds_train_rf, labels=rf_model.classes_)\n",
        "cm_train_norm_rf = confusion_matrix(Y_train, preds_train_rf, labels=rf_model.classes_, normalize='all')\n",
        "cm_test_rf = confusion_matrix(Y_test, preds_test_rf, labels=rf_model.classes_)\n",
        "cm_test_norm_rf = confusion_matrix(Y_test, preds_test_rf, labels=rf_model.classes_, normalize='all')"
      ]
    },
    {
      "cell_type": "markdown",
      "metadata": {
        "id": "AyVaxKE-NjuG"
      },
      "source": [
        "Crea una figura de cuatro subgráficos para visualizar las matrices de confusión\n",
        "y las versiones normalizadas de las matrices de confusión"
      ]
    },
    {
      "cell_type": "code",
      "execution_count": null,
      "metadata": {
        "colab": {
          "base_uri": "https://localhost:8080/",
          "height": 848
        },
        "id": "tlBuz_LhDfPo",
        "outputId": "e0e84c2f-5d7a-4f29-89a3-9f73f338f29f"
      },
      "outputs": [
        {
          "data": {
            "image/png": "[encoded data removed]",
            "text/plain": [
              "<Figure size 1300x1000 with 8 Axes>"
            ]
          },
          "metadata": {},
          "output_type": "display_data"
        }
      ],
      "source": [
        "fig, ((ax1, ax2), (ax3, ax4)) = plt.subplots(2, 2, figsize=(13, 10))\n",
        "ConfusionMatrixDisplay(confusion_matrix=cm_train_rf, display_labels=rf_model.classes_).plot(ax=ax1, values_format=',.0f')\n",
        "ConfusionMatrixDisplay(confusion_matrix=cm_train_norm_rf, display_labels=rf_model.classes_).plot(ax=ax2, values_format='.3f')\n",
        "ConfusionMatrixDisplay(confusion_matrix=cm_test_rf, display_labels=rf_model.classes_).plot(ax=ax3, values_format=',.0f')\n",
        "ConfusionMatrixDisplay(confusion_matrix=cm_test_norm_rf, display_labels=rf_model.classes_).plot(ax=ax4, values_format='.3f')\n",
        "\n",
        "ax1.set_title('Train')\n",
        "ax2.set_title('Train (normalized)')\n",
        "ax3.set_title('Test')\n",
        "ax4.set_title('Test (normalized)')\n",
        "plt.show()"
      ]
    },
    {
      "cell_type": "markdown",
      "metadata": {
        "id": "8S4wVnJnOWZ_"
      },
      "source": [
        "Los resultados indican un alto rendimiento del modelo en ambos conjuntos, tanto en el conjunto de entrenamiento como en el conjunto de prueba.\n",
        "\n",
        "Accuracy : El modelo alcanza una exactitud del 96.83% en el conjunto de prueba. En el conjunto de entrenamiento, el modelo ha aprendido a predecir todas las instancias correctamente. En el conjunto de prueba, el modelo tiene un rendimiento ligeramente inferior, pero aún mantiene una alta precisión.\n",
        "\n",
        "Precision : La precisión en el conjunto de prueba es del 96.87%, respectivamente. Esto significa que el modelo minimiza las falsas alarmas y clasifica correctamente la gran mayoría de las instancias positivas.\n",
        "\n",
        "Recall : El modelo muestra un recall del 96.83% en el conjunto de prueba. Esto indica que el modelo es eficiente para identificar ejemplos positivos en ambos conjuntos de datos.\n",
        "\n",
        "F1 Score : La puntuación F1 en el conjunto de prueba es del 96.84%. Esta métrica combina tanto la precisión como el recall en una sola métrica y es especialmente útil cuando hay un desequilibrio entre las clases. Los valores altos de F1 indican un buen equilibrio entre precisión y recall."
      ]
    },
    {
      "cell_type": "code",
      "execution_count": null,
      "metadata": {
        "colab": {
          "base_uri": "https://localhost:8080/"
        },
        "id": "6uqt2lvtOHUK",
        "outputId": "6a303169-5354-40a9-c48c-2009733401bb"
      },
      "outputs": [
        {
          "name": "stdout",
          "output_type": "stream",
          "text": [
            "           Train      Test\n",
            "Accuracy     1.0  0.968333\n",
            "Precision    1.0  0.968695\n",
            "Recall       1.0  0.968333\n",
            "F1           1.0  0.968394\n"
          ]
        }
      ],
      "source": [
        "metrics_df = pd.DataFrame([\n",
        "    {\n",
        "        'Train': accuracy_score(Y_train, preds_train_rf),\n",
        "        'Test': accuracy_score(Y_test, preds_test_rf)\n",
        "    },\n",
        "    {\n",
        "        'Train': precision_score(Y_train, preds_train_rf, average='weighted'),\n",
        "        'Test': precision_score(Y_test, preds_test_rf, average='weighted')\n",
        "    },\n",
        "    {\n",
        "        'Train': recall_score(Y_train, preds_train_rf, average='weighted'),\n",
        "        'Test': recall_score(Y_test, preds_test_rf, average='weighted')\n",
        "    },\n",
        "    {\n",
        "        'Train': f1_score(Y_train, preds_train_rf, average='weighted'),\n",
        "        'Test': f1_score(Y_test, preds_test_rf, average='weighted')\n",
        "    }\n",
        "], index=['Accuracy', 'Precision', 'Recall', 'F1'])\n",
        "print(metrics_df)"
      ]
    },
    {
      "cell_type": "code",
      "source": [
        "import matplotlib.pyplot as plt\n",
        "\n",
        "feature_importances = rf_model.feature_importances_\n",
        "\n",
        "# Crear un gráfico de barras para mostrar la importancia de las características\n",
        "plt.figure(figsize=(10, 6))\n",
        "plt.bar(range(len(feature_importances)), feature_importances)\n",
        "plt.xticks(range(len(feature_importances)), range(len(feature_importances)))  # Puedes personalizar las etiquetas del eje x si lo deseas\n",
        "plt.xlabel('Índice de Características')\n",
        "plt.ylabel('Importancia')\n",
        "plt.title('Importancia de las características en el modelo de Random Forest')\n",
        "plt.ylim(0, 0.003)\n",
        "plt.show()"
      ],
      "metadata": {
        "colab": {
          "base_uri": "https://localhost:8080/",
          "height": 565
        },
        "id": "FnH1590AsZ0B",
        "outputId": "6b96937d-c920-40c7-d37d-84895b18df2f"
      },
      "execution_count": null,
      "outputs": [
        {
          "output_type": "display_data",
          "data": {
            "text/plain": [
              "<Figure size 1000x600 with 1 Axes>"
            ],
            "image/png": "[encoded data removed]"
          },
          "metadata": {}
        }
      ]
    },
    {
      "cell_type": "code",
      "source": [
        "import pandas as pd\n",
        "\n",
        "# Convertir la matriz dispersa a un DataFrame\n",
        "X_df = pd.DataFrame(X_train.toarray())"
      ],
      "metadata": {
        "id": "Z50aTrB6yOrW"
      },
      "execution_count": null,
      "outputs": []
    },
    {
      "cell_type": "code",
      "source": [
        "from sklearn.tree import export_text\n",
        "\n",
        "# Obtener un árbol específico del modelo\n",
        "tree = rf_model.estimators_[0]\n",
        "\n",
        "# Visualizar el árbol en texto\n",
        "tree_text = export_text(tree, feature_names=X_df.columns.tolist())\n",
        "print(tree_text)\n"
      ],
      "metadata": {
        "colab": {
          "base_uri": "https://localhost:8080/"
        },
        "id": "i9ect2lgxxcJ",
        "outputId": "09487c3f-2216-4090-9f37-ebf0c2f7a6e2"
      },
      "execution_count": null,
      "outputs": [
        {
          "output_type": "stream",
          "name": "stdout",
          "text": [
            "|--- 27224 <= 0.02\n",
            "|   |--- 12849 <= 0.02\n",
            "|   |   |--- 26848 <= 0.01\n",
            "|   |   |   |--- 26096 <= 0.02\n",
            "|   |   |   |   |--- 8116 <= 0.03\n",
            "|   |   |   |   |   |--- 10051 <= 0.03\n",
            "|   |   |   |   |   |   |--- 7223 <= 0.02\n",
            "|   |   |   |   |   |   |   |--- 25656 <= 0.02\n",
            "|   |   |   |   |   |   |   |   |--- 1476 <= 0.02\n",
            "|   |   |   |   |   |   |   |   |   |--- 7054 <= 0.01\n",
            "|   |   |   |   |   |   |   |   |   |   |--- 12796 <= 0.04\n",
            "|   |   |   |   |   |   |   |   |   |   |   |--- truncated branch of depth 49\n",
            "|   |   |   |   |   |   |   |   |   |   |--- 12796 >  0.04\n",
            "|   |   |   |   |   |   |   |   |   |   |   |--- truncated branch of depth 8\n",
            "|   |   |   |   |   |   |   |   |   |--- 7054 >  0.01\n",
            "|   |   |   |   |   |   |   |   |   |   |--- 11752 <= 0.05\n",
            "|   |   |   |   |   |   |   |   |   |   |   |--- truncated branch of depth 10\n",
            "|   |   |   |   |   |   |   |   |   |   |--- 11752 >  0.05\n",
            "|   |   |   |   |   |   |   |   |   |   |   |--- class: 0.0\n",
            "|   |   |   |   |   |   |   |   |--- 1476 >  0.02\n",
            "|   |   |   |   |   |   |   |   |   |--- 21451 <= 0.07\n",
            "|   |   |   |   |   |   |   |   |   |   |--- 26223 <= 0.05\n",
            "|   |   |   |   |   |   |   |   |   |   |   |--- truncated branch of depth 18\n",
            "|   |   |   |   |   |   |   |   |   |   |--- 26223 >  0.05\n",
            "|   |   |   |   |   |   |   |   |   |   |   |--- class: 1.0\n",
            "|   |   |   |   |   |   |   |   |   |--- 21451 >  0.07\n",
            "|   |   |   |   |   |   |   |   |   |   |--- class: 1.0\n",
            "|   |   |   |   |   |   |   |--- 25656 >  0.02\n",
            "|   |   |   |   |   |   |   |   |--- 3583 <= 0.05\n",
            "|   |   |   |   |   |   |   |   |   |--- 4266 <= 0.02\n",
            "|   |   |   |   |   |   |   |   |   |   |--- 23957 <= 0.14\n",
            "|   |   |   |   |   |   |   |   |   |   |   |--- truncated branch of depth 22\n",
            "|   |   |   |   |   |   |   |   |   |   |--- 23957 >  0.14\n",
            "|   |   |   |   |   |   |   |   |   |   |   |--- class: 1.0\n",
            "|   |   |   |   |   |   |   |   |   |--- 4266 >  0.02\n",
            "|   |   |   |   |   |   |   |   |   |   |--- 7665 <= 0.05\n",
            "|   |   |   |   |   |   |   |   |   |   |   |--- class: 0.0\n",
            "|   |   |   |   |   |   |   |   |   |   |--- 7665 >  0.05\n",
            "|   |   |   |   |   |   |   |   |   |   |   |--- class: 1.0\n",
            "|   |   |   |   |   |   |   |   |--- 3583 >  0.05\n",
            "|   |   |   |   |   |   |   |   |   |--- class: 1.0\n",
            "|   |   |   |   |   |   |--- 7223 >  0.02\n",
            "|   |   |   |   |   |   |   |--- 5413 <= 0.03\n",
            "|   |   |   |   |   |   |   |   |--- class: 0.0\n",
            "|   |   |   |   |   |   |   |--- 5413 >  0.03\n",
            "|   |   |   |   |   |   |   |   |--- class: 2.0\n",
            "|   |   |   |   |   |--- 10051 >  0.03\n",
            "|   |   |   |   |   |   |--- 1493 <= 0.02\n",
            "|   |   |   |   |   |   |   |--- 1373 <= 0.09\n",
            "|   |   |   |   |   |   |   |   |--- 2778 <= 0.02\n",
            "|   |   |   |   |   |   |   |   |   |--- 27648 <= 0.03\n",
            "|   |   |   |   |   |   |   |   |   |   |--- 4169 <= 0.10\n",
            "|   |   |   |   |   |   |   |   |   |   |   |--- truncated branch of depth 17\n",
            "|   |   |   |   |   |   |   |   |   |   |--- 4169 >  0.10\n",
            "|   |   |   |   |   |   |   |   |   |   |   |--- class: 2.0\n",
            "|   |   |   |   |   |   |   |   |   |--- 27648 >  0.03\n",
            "|   |   |   |   |   |   |   |   |   |   |--- class: 2.0\n",
            "|   |   |   |   |   |   |   |   |--- 2778 >  0.02\n",
            "|   |   |   |   |   |   |   |   |   |--- 9653 <= 0.04\n",
            "|   |   |   |   |   |   |   |   |   |   |--- class: 2.0\n",
            "|   |   |   |   |   |   |   |   |   |--- 9653 >  0.04\n",
            "|   |   |   |   |   |   |   |   |   |   |--- class: 1.0\n",
            "|   |   |   |   |   |   |   |--- 1373 >  0.09\n",
            "|   |   |   |   |   |   |   |   |--- class: 0.0\n",
            "|   |   |   |   |   |   |--- 1493 >  0.02\n",
            "|   |   |   |   |   |   |   |--- class: 0.0\n",
            "|   |   |   |   |--- 8116 >  0.03\n",
            "|   |   |   |   |   |--- class: 0.0\n",
            "|   |   |   |--- 26096 >  0.02\n",
            "|   |   |   |   |--- 7918 <= 0.05\n",
            "|   |   |   |   |   |--- 12799 <= 0.02\n",
            "|   |   |   |   |   |   |--- 17577 <= 0.03\n",
            "|   |   |   |   |   |   |   |--- 17357 <= 0.06\n",
            "|   |   |   |   |   |   |   |   |--- 12919 <= 0.08\n",
            "|   |   |   |   |   |   |   |   |   |--- 5497 <= 0.09\n",
            "|   |   |   |   |   |   |   |   |   |   |--- 8933 <= 0.06\n",
            "|   |   |   |   |   |   |   |   |   |   |   |--- truncated branch of depth 6\n",
            "|   |   |   |   |   |   |   |   |   |   |--- 8933 >  0.06\n",
            "|   |   |   |   |   |   |   |   |   |   |   |--- class: 1.0\n",
            "|   |   |   |   |   |   |   |   |   |--- 5497 >  0.09\n",
            "|   |   |   |   |   |   |   |   |   |   |--- class: 0.0\n",
            "|   |   |   |   |   |   |   |   |--- 12919 >  0.08\n",
            "|   |   |   |   |   |   |   |   |   |--- 12901 <= 0.04\n",
            "|   |   |   |   |   |   |   |   |   |   |--- class: 0.0\n",
            "|   |   |   |   |   |   |   |   |   |--- 12901 >  0.04\n",
            "|   |   |   |   |   |   |   |   |   |   |--- class: 2.0\n",
            "|   |   |   |   |   |   |   |--- 17357 >  0.06\n",
            "|   |   |   |   |   |   |   |   |--- class: 0.0\n",
            "|   |   |   |   |   |   |--- 17577 >  0.03\n",
            "|   |   |   |   |   |   |   |--- class: 1.0\n",
            "|   |   |   |   |   |--- 12799 >  0.02\n",
            "|   |   |   |   |   |   |--- class: 1.0\n",
            "|   |   |   |   |--- 7918 >  0.05\n",
            "|   |   |   |   |   |--- class: 1.0\n",
            "|   |   |--- 26848 >  0.01\n",
            "|   |   |   |--- class: 2.0\n",
            "|   |--- 12849 >  0.02\n",
            "|   |   |--- class: 2.0\n",
            "|--- 27224 >  0.02\n",
            "|   |--- 6573 <= 0.03\n",
            "|   |   |--- 2812 <= 0.06\n",
            "|   |   |   |--- 12562 <= 0.03\n",
            "|   |   |   |   |--- 12796 <= 0.02\n",
            "|   |   |   |   |   |--- 4468 <= 0.03\n",
            "|   |   |   |   |   |   |--- 21778 <= 0.03\n",
            "|   |   |   |   |   |   |   |--- 13009 <= 0.21\n",
            "|   |   |   |   |   |   |   |   |--- 4423 <= 0.03\n",
            "|   |   |   |   |   |   |   |   |   |--- 9790 <= 0.06\n",
            "|   |   |   |   |   |   |   |   |   |   |--- 9726 <= 0.03\n",
            "|   |   |   |   |   |   |   |   |   |   |   |--- truncated branch of depth 11\n",
            "|   |   |   |   |   |   |   |   |   |   |--- 9726 >  0.03\n",
            "|   |   |   |   |   |   |   |   |   |   |   |--- class: 0.0\n",
            "|   |   |   |   |   |   |   |   |   |--- 9790 >  0.06\n",
            "|   |   |   |   |   |   |   |   |   |   |--- class: 1.0\n",
            "|   |   |   |   |   |   |   |   |--- 4423 >  0.03\n",
            "|   |   |   |   |   |   |   |   |   |--- class: 0.0\n",
            "|   |   |   |   |   |   |   |--- 13009 >  0.21\n",
            "|   |   |   |   |   |   |   |   |--- class: 1.0\n",
            "|   |   |   |   |   |   |--- 21778 >  0.03\n",
            "|   |   |   |   |   |   |   |--- class: 0.0\n",
            "|   |   |   |   |   |--- 4468 >  0.03\n",
            "|   |   |   |   |   |   |--- class: 1.0\n",
            "|   |   |   |   |--- 12796 >  0.02\n",
            "|   |   |   |   |   |--- 25952 <= 0.06\n",
            "|   |   |   |   |   |   |--- 12049 <= 0.19\n",
            "|   |   |   |   |   |   |   |--- class: 1.0\n",
            "|   |   |   |   |   |   |--- 12049 >  0.19\n",
            "|   |   |   |   |   |   |   |--- class: 0.0\n",
            "|   |   |   |   |   |--- 25952 >  0.06\n",
            "|   |   |   |   |   |   |--- class: 0.0\n",
            "|   |   |   |--- 12562 >  0.03\n",
            "|   |   |   |   |--- class: 1.0\n",
            "|   |   |--- 2812 >  0.06\n",
            "|   |   |   |--- class: 1.0\n",
            "|   |--- 6573 >  0.03\n",
            "|   |   |--- class: 0.0\n",
            "\n"
          ]
        }
      ]
    },
    {
      "cell_type": "markdown",
      "metadata": {
        "id": "dO_g20q3M3Ic"
      },
      "source": [
        "# Creacion y aplicacion de Modelo 3"
      ]
    },
    {
      "cell_type": "code",
      "execution_count": null,
      "metadata": {
        "id": "VRCTcJ6y-eU5"
      },
      "outputs": [],
      "source": []
    },
    {
      "cell_type": "code",
      "execution_count": null,
      "metadata": {
        "id": "JoNaqd3l-eU5"
      },
      "outputs": [],
      "source": [
        "X_trainval, X_val, Y_trainval, Y_val = train_test_split(X_train, Y_train, test_size = 0.15, random_state = 0)"
      ]
    },
    {
      "cell_type": "code",
      "execution_count": null,
      "metadata": {
        "id": "_Nso7O16-eU6"
      },
      "outputs": [],
      "source": [
        "from sklearn.neighbors import KNeighborsClassifier\n",
        "\n",
        "\n",
        "k = 4\n",
        "knn = KNeighborsClassifier(n_neighbors=k)"
      ]
    },
    {
      "cell_type": "code",
      "execution_count": null,
      "metadata": {
        "id": "1YC2jZO_-eU6",
        "outputId": "8b4e3652-1f3e-465f-a267-10505cb9248f"
      },
      "outputs": [
        {
          "data": {
            "text/html": [
              "<style>#sk-container-id-5 {color: black;}#sk-container-id-5 pre{padding: 0;}#sk-container-id-5 div.sk-toggleable {background-color: white;}#sk-container-id-5 label.sk-toggleable__label {cursor: pointer;display: block;width: 100%;margin-bottom: 0;padding: 0.3em;box-sizing: border-box;text-align: center;}#sk-container-id-5 label.sk-toggleable__label-arrow:before {content: \"▸\";float: left;margin-right: 0.25em;color: #696969;}#sk-container-id-5 label.sk-toggleable__label-arrow:hover:before {color: black;}#sk-container-id-5 div.sk-estimator:hover label.sk-toggleable__label-arrow:before {color: black;}#sk-container-id-5 div.sk-toggleable__content {max-height: 0;max-width: 0;overflow: hidden;text-align: left;background-color: #f0f8ff;}#sk-container-id-5 div.sk-toggleable__content pre {margin: 0.2em;color: black;border-radius: 0.25em;background-color: #f0f8ff;}#sk-container-id-5 input.sk-toggleable__control:checked~div.sk-toggleable__content {max-height: 200px;max-width: 100%;overflow: auto;}#sk-container-id-5 input.sk-toggleable__control:checked~label.sk-toggleable__label-arrow:before {content: \"▾\";}#sk-container-id-5 div.sk-estimator input.sk-toggleable__control:checked~label.sk-toggleable__label {background-color: #d4ebff;}#sk-container-id-5 div.sk-label input.sk-toggleable__control:checked~label.sk-toggleable__label {background-color: #d4ebff;}#sk-container-id-5 input.sk-hidden--visually {border: 0;clip: rect(1px 1px 1px 1px);clip: rect(1px, 1px, 1px, 1px);height: 1px;margin: -1px;overflow: hidden;padding: 0;position: absolute;width: 1px;}#sk-container-id-5 div.sk-estimator {font-family: monospace;background-color: #f0f8ff;border: 1px dotted black;border-radius: 0.25em;box-sizing: border-box;margin-bottom: 0.5em;}#sk-container-id-5 div.sk-estimator:hover {background-color: #d4ebff;}#sk-container-id-5 div.sk-parallel-item::after {content: \"\";width: 100%;border-bottom: 1px solid gray;flex-grow: 1;}#sk-container-id-5 div.sk-label:hover label.sk-toggleable__label {background-color: #d4ebff;}#sk-container-id-5 div.sk-serial::before {content: \"\";position: absolute;border-left: 1px solid gray;box-sizing: border-box;top: 0;bottom: 0;left: 50%;z-index: 0;}#sk-container-id-5 div.sk-serial {display: flex;flex-direction: column;align-items: center;background-color: white;padding-right: 0.2em;padding-left: 0.2em;position: relative;}#sk-container-id-5 div.sk-item {position: relative;z-index: 1;}#sk-container-id-5 div.sk-parallel {display: flex;align-items: stretch;justify-content: center;background-color: white;position: relative;}#sk-container-id-5 div.sk-item::before, #sk-container-id-5 div.sk-parallel-item::before {content: \"\";position: absolute;border-left: 1px solid gray;box-sizing: border-box;top: 0;bottom: 0;left: 50%;z-index: -1;}#sk-container-id-5 div.sk-parallel-item {display: flex;flex-direction: column;z-index: 1;position: relative;background-color: white;}#sk-container-id-5 div.sk-parallel-item:first-child::after {align-self: flex-end;width: 50%;}#sk-container-id-5 div.sk-parallel-item:last-child::after {align-self: flex-start;width: 50%;}#sk-container-id-5 div.sk-parallel-item:only-child::after {width: 0;}#sk-container-id-5 div.sk-dashed-wrapped {border: 1px dashed gray;margin: 0 0.4em 0.5em 0.4em;box-sizing: border-box;padding-bottom: 0.4em;background-color: white;}#sk-container-id-5 div.sk-label label {font-family: monospace;font-weight: bold;display: inline-block;line-height: 1.2em;}#sk-container-id-5 div.sk-label-container {text-align: center;}#sk-container-id-5 div.sk-container {/* jupyter's `normalize.less` sets `[hidden] { display: none; }` but bootstrap.min.css set `[hidden] { display: none !important; }` so we also need the `!important` here to be able to override the default hidden behavior on the sphinx rendered scikit-learn.org. See: https://github.com/scikit-learn/scikit-learn/issues/21755 */display: inline-block !important;position: relative;}#sk-container-id-5 div.sk-text-repr-fallback {display: none;}</style><div id=\"sk-container-id-5\" class=\"sk-top-container\"><div class=\"sk-text-repr-fallback\"><pre>KNeighborsClassifier(n_neighbors=4)</pre><b>In a Jupyter environment, please rerun this cell to show the HTML representation or trust the notebook. <br />On GitHub, the HTML representation is unable to render, please try loading this page with nbviewer.org.</b></div><div class=\"sk-container\" hidden><div class=\"sk-item\"><div class=\"sk-estimator sk-toggleable\"><input class=\"sk-toggleable__control sk-hidden--visually\" id=\"sk-estimator-id-7\" type=\"checkbox\" checked><label for=\"sk-estimator-id-7\" class=\"sk-toggleable__label sk-toggleable__label-arrow\">KNeighborsClassifier</label><div class=\"sk-toggleable__content\"><pre>KNeighborsClassifier(n_neighbors=4)</pre></div></div></div></div></div>"
            ],
            "text/plain": [
              "KNeighborsClassifier(n_neighbors=4)"
            ]
          },
          "execution_count": 134,
          "metadata": {},
          "output_type": "execute_result"
        }
      ],
      "source": [
        "# Fit the model to the training data\n",
        "knn.fit(X_trainval, Y_trainval)\n"
      ]
    },
    {
      "cell_type": "code",
      "execution_count": null,
      "metadata": {
        "id": "cxzC-UKz-eU6"
      },
      "outputs": [],
      "source": [
        "preds_train_knn = knn.predict(X_trainval)\n",
        "preds_test_knn = knn.predict(X_val)"
      ]
    },
    {
      "cell_type": "code",
      "execution_count": null,
      "metadata": {
        "id": "MHtBPI1q-eU6"
      },
      "outputs": [],
      "source": [
        "cm_train_knn = confusion_matrix(Y_trainval, preds_train_knn, labels=knn.classes_)\n",
        "cm_train_norm_knn = confusion_matrix(Y_trainval, preds_train_knn, labels=knn.classes_, normalize='all')\n",
        "cm_test_knn = confusion_matrix(Y_val, preds_test_knn, labels=knn.classes_)\n",
        "cm_test_norm_knn = confusion_matrix(Y_val, preds_test_knn, labels=knn.classes_, normalize='all')"
      ]
    },
    {
      "cell_type": "code",
      "execution_count": null,
      "metadata": {
        "id": "wR0VxiFu-eU6",
        "outputId": "d7fae7a5-e214-45ec-b46e-4519f567aeb0"
      },
      "outputs": [
        {
          "data": {
            "image/png": "[encoded data removed]",
            "text/plain": [
              "<Figure size 1300x1000 with 8 Axes>"
            ]
          },
          "metadata": {},
          "output_type": "display_data"
        }
      ],
      "source": [
        "fig, ((ax1, ax2), (ax3, ax4)) = plt.subplots(2, 2, figsize=(13, 10))\n",
        "ConfusionMatrixDisplay(confusion_matrix=cm_train_knn, display_labels=knn.classes_).plot(ax=ax1, values_format=',.0f')\n",
        "ConfusionMatrixDisplay(confusion_matrix=cm_train_norm_knn, display_labels=knn.classes_).plot(ax=ax2, values_format='.3f')\n",
        "ConfusionMatrixDisplay(confusion_matrix=cm_test_knn, display_labels=knn.classes_).plot(ax=ax3, values_format=',.0f')\n",
        "ConfusionMatrixDisplay(confusion_matrix=cm_test_norm_knn, display_labels=knn.classes_).plot(ax=ax4, values_format='.3f')\n",
        "\n",
        "ax1.set_title('Train')\n",
        "ax2.set_title('Train (normalized)')\n",
        "ax3.set_title('Test')\n",
        "ax4.set_title('Test (normalized)')\n",
        "plt.show()"
      ]
    },
    {
      "cell_type": "code",
      "execution_count": null,
      "metadata": {
        "id": "c2TP5Bth-eU6",
        "outputId": "3952311b-97e4-4f42-9aa5-99805b5ef538"
      },
      "outputs": [
        {
          "name": "stdout",
          "output_type": "stream",
          "text": [
            "              Train      Test\n",
            "Accuracy   0.959804  0.930556\n",
            "Precision  0.961073  0.931446\n",
            "Recall     0.959804  0.930556\n",
            "F1         0.959932  0.930789\n"
          ]
        }
      ],
      "source": [
        "metrics_df = pd.DataFrame([\n",
        "    {\n",
        "        'Train': accuracy_score(Y_trainval, preds_train_knn),\n",
        "        'Test': accuracy_score(Y_val, preds_test_knn)\n",
        "    },\n",
        "    {\n",
        "        'Train': precision_score(Y_trainval, preds_train_knn, average='weighted'),\n",
        "        'Test': precision_score(Y_val, preds_test_knn, average='weighted')\n",
        "    },\n",
        "    {\n",
        "        'Train': recall_score(Y_trainval, preds_train_knn, average='weighted'),\n",
        "        'Test': recall_score(Y_val, preds_test_knn, average='weighted')\n",
        "    },\n",
        "    {\n",
        "        'Train': f1_score(Y_trainval, preds_train_knn, average='weighted'),\n",
        "        'Test': f1_score(Y_val, preds_test_knn, average='weighted')\n",
        "    }\n",
        "], index=['Accuracy', 'Precision', 'Recall', 'F1'])\n",
        "print(metrics_df)"
      ]
    },
    {
      "cell_type": "code",
      "execution_count": null,
      "metadata": {
        "id": "-u2SoH-y-eU6",
        "outputId": "54ad1639-cc01-489d-9336-511ea383badd"
      },
      "outputs": [
        {
          "data": {
            "image/png": "[encoded data removed]",
            "text/plain": [
              "<Figure size 640x480 with 1 Axes>"
            ]
          },
          "metadata": {},
          "output_type": "display_data"
        }
      ],
      "source": [
        "from sklearn.decomposition import TruncatedSVD\n",
        "import matplotlib.pyplot as plt\n",
        "\n",
        "# Reducción de dimensionalidad con TruncatedSVD\n",
        "svd = TruncatedSVD(n_components=3)  # Reducir la dimensionalidad a 2 componentes principales\n",
        "X_reduced = svd.fit_transform(X_trainval)\n",
        "\n",
        "# Crea y entrena el modelo K-NN\n",
        "k = 3\n",
        "knn = KNeighborsClassifier(n_neighbors=k)\n",
        "knn.fit(X_reduced, Y_trainval)\n",
        "\n",
        "# Visualiza los clusters en el espacio de 2D\n",
        "plt.scatter(X_reduced[:, 0], X_reduced[:, 1], c=knn.predict(X_reduced), cmap='viridis')\n",
        "plt.xlabel(\"Tokens\")\n",
        "plt.ylabel(\"sdg\")\n",
        "plt.title(\"K-NN Clusters (TruncatedSVD for Sparse Data)\")\n",
        "\n",
        "plt.show()\n"
      ]
    },
    {
      "cell_type": "code",
      "execution_count": null,
      "metadata": {
        "id": "uFpkYbT6-eU7"
      },
      "outputs": [],
      "source": []
    },
    {
      "cell_type": "markdown",
      "metadata": {
        "id": "XX0tgC1P-eU7"
      },
      "source": [
        "## Resultados\n"
      ]
    },
    {
      "cell_type": "code",
      "execution_count": null,
      "metadata": {
        "id": "0hTmW1LB-eU7"
      },
      "outputs": [],
      "source": []
    }
  ],
  "metadata": {
    "colab": {
      "provenance": [],
      "toc_visible": true
    },
    "kernelspec": {
      "display_name": "Python 3 (ipykernel)",
      "language": "python",
      "name": "python3"
    },
    "language_info": {
      "codemirror_mode": {
        "name": "ipython",
        "version": 3
      },
      "file_extension": ".py",
      "mimetype": "text/x-python",
      "name": "python",
      "nbconvert_exporter": "python",
      "pygments_lexer": "ipython3",
      "version": "3.11.4"
    }
  },
  "nbformat": 4,
  "nbformat_minor": 0
}